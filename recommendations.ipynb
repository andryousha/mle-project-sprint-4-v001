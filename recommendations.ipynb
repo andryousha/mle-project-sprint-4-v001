{
 "cells": [
  {
   "cell_type": "markdown",
   "id": "f4095ae4-7294-4b28-853e-88d235002c97",
   "metadata": {
    "pycharm": {
     "name": "#%% md\n"
    }
   },
   "source": [
    "# Инициализация"
   ]
  },
  {
   "cell_type": "markdown",
   "id": "2f2318d2-9df8-4911-915e-15b725c44f8a",
   "metadata": {
    "pycharm": {
     "name": "#%% md\n"
    }
   },
   "source": [
    "Загружаем библиотеки необходимые для выполнения кода ноутбука."
   ]
  },
  {
   "cell_type": "code",
   "execution_count": 1,
   "id": "662d04e7-1b0b-4e4a-9ddf-4526d7fef119",
   "metadata": {
    "pycharm": {
     "is_executing": true,
     "name": "#%%\n"
    }
   },
   "outputs": [
    {
     "name": "stderr",
     "output_type": "stream",
     "text": [
      "/Users/andryousha/Projects/Python_projects/mle-project-sprint-4-v001/env_recsys_start/lib/python3.9/site-packages/tqdm/auto.py:21: TqdmWarning: IProgress not found. Please update jupyter and ipywidgets. See https://ipywidgets.readthedocs.io/en/stable/user_install.html\n",
      "  from .autonotebook import tqdm as notebook_tqdm\n"
     ]
    }
   ],
   "source": [
    "import joblib\n",
    "import boto3\n",
    "\n",
    "import matplotlib.pyplot as plt\n",
    "import numpy as np\n",
    "import pandas as pd\n",
    "import scipy\n",
    "import seaborn as sns\n",
    "from catboost import CatBoostClassifier, Pool\n",
    "from implicit.als import AlternatingLeastSquares\n",
    "from sklearn.preprocessing import LabelEncoder"
   ]
  },
  {
   "cell_type": "markdown",
   "id": "bf80fbc5-b660-4fac-8fbb-a5cae77313b3",
   "metadata": {
    "pycharm": {
     "name": "#%% md\n"
    }
   },
   "source": [
    "# === ЭТАП 1 ==="
   ]
  },
  {
   "cell_type": "markdown",
   "id": "5263a8b3-fe99-4204-8a2e-105182792c11",
   "metadata": {
    "pycharm": {
     "name": "#%% md\n"
    }
   },
   "source": [
    "# Загрузка первичных данных"
   ]
  },
  {
   "cell_type": "markdown",
   "id": "1b54a6a5-1656-4e3c-99d1-49dc39451d33",
   "metadata": {
    "pycharm": {
     "name": "#%% md\n"
    }
   },
   "source": [
    "Загружаем первичные данные из файлов:\n",
    "- tracks.parquet\n",
    "- catalog_names.parquet\n",
    "- interactions.parquet"
   ]
  },
  {
   "cell_type": "code",
   "execution_count": 2,
   "id": "5d4b8961-3f35-4e58-9d6b-3e2dbd2c4224",
   "metadata": {
    "pycharm": {
     "name": "#%%\n"
    }
   },
   "outputs": [],
   "source": [
    "tracks = pd.read_parquet(\"tracks.parquet\")\n",
    "catalog_names = pd.read_parquet(\"catalog_names.parquet\")\n",
    "events = pd.read_parquet(\"interactions.parquet\")"
   ]
  },
  {
   "cell_type": "markdown",
   "id": "e8f2a1f7-a05f-4f39-af90-5f4018aa6f9d",
   "metadata": {
    "pycharm": {
     "name": "#%% md\n"
    }
   },
   "source": [
    "# Обзор данных"
   ]
  },
  {
   "cell_type": "markdown",
   "id": "46a85307-896c-4fac-9fcf-f0dffa90889e",
   "metadata": {
    "pycharm": {
     "name": "#%% md\n"
    }
   },
   "source": [
    "Проверяем данные, есть ли с ними явные проблемы."
   ]
  },
  {
   "cell_type": "markdown",
   "id": "1161bf67",
   "metadata": {
    "collapsed": false,
    "jupyter": {
     "outputs_hidden": false
    },
    "pycharm": {
     "name": "#%% md\n"
    }
   },
   "source": [
    "##### Анализ tracks"
   ]
  },
  {
   "cell_type": "code",
   "execution_count": 3,
   "id": "efd2e2eb-3bec-4ce1-87ac-232bab8bc0d0",
   "metadata": {
    "pycharm": {
     "name": "#%%\n"
    }
   },
   "outputs": [
    {
     "name": "stdout",
     "output_type": "stream",
     "text": [
      "<class 'pandas.core.frame.DataFrame'>\n",
      "RangeIndex: 1000000 entries, 0 to 999999\n",
      "Data columns (total 4 columns):\n",
      " #   Column    Non-Null Count    Dtype \n",
      "---  ------    --------------    ----- \n",
      " 0   track_id  1000000 non-null  int64 \n",
      " 1   albums    1000000 non-null  object\n",
      " 2   artists   1000000 non-null  object\n",
      " 3   genres    1000000 non-null  object\n",
      "dtypes: int64(1), object(3)\n",
      "memory usage: 30.5+ MB\n"
     ]
    }
   ],
   "source": [
    "tracks.info()"
   ]
  },
  {
   "cell_type": "code",
   "execution_count": 4,
   "id": "25d3b20a",
   "metadata": {
    "collapsed": false,
    "jupyter": {
     "outputs_hidden": false
    },
    "pycharm": {
     "name": "#%%\n"
    }
   },
   "outputs": [
    {
     "data": {
      "text/plain": [
       "True"
      ]
     },
     "execution_count": 4,
     "metadata": {},
     "output_type": "execute_result"
    }
   ],
   "source": [
    "# проверка на дубли\n",
    "tracks.track_id.duplicated().sum() == 0"
   ]
  },
  {
   "cell_type": "code",
   "execution_count": 5,
   "id": "14118e0b",
   "metadata": {
    "collapsed": false,
    "jupyter": {
     "outputs_hidden": false
    },
    "pycharm": {
     "name": "#%%\n"
    }
   },
   "outputs": [],
   "source": [
    "# дублей нет"
   ]
  },
  {
   "cell_type": "code",
   "execution_count": 6,
   "id": "1e145279",
   "metadata": {
    "collapsed": false,
    "jupyter": {
     "outputs_hidden": false
    },
    "pycharm": {
     "name": "#%%\n"
    }
   },
   "outputs": [
    {
     "data": {
      "text/html": [
       "<div>\n",
       "<style scoped>\n",
       "    .dataframe tbody tr th:only-of-type {\n",
       "        vertical-align: middle;\n",
       "    }\n",
       "\n",
       "    .dataframe tbody tr th {\n",
       "        vertical-align: top;\n",
       "    }\n",
       "\n",
       "    .dataframe thead th {\n",
       "        text-align: right;\n",
       "    }\n",
       "</style>\n",
       "<table border=\"1\" class=\"dataframe\">\n",
       "  <thead>\n",
       "    <tr style=\"text-align: right;\">\n",
       "      <th></th>\n",
       "      <th>track_id</th>\n",
       "      <th>albums</th>\n",
       "      <th>artists</th>\n",
       "      <th>genres</th>\n",
       "    </tr>\n",
       "  </thead>\n",
       "  <tbody>\n",
       "    <tr>\n",
       "      <th>0</th>\n",
       "      <td>26</td>\n",
       "      <td>[3, 2490753]</td>\n",
       "      <td>[16]</td>\n",
       "      <td>[11, 21]</td>\n",
       "    </tr>\n",
       "    <tr>\n",
       "      <th>1</th>\n",
       "      <td>38</td>\n",
       "      <td>[3, 2490753]</td>\n",
       "      <td>[16]</td>\n",
       "      <td>[11, 21]</td>\n",
       "    </tr>\n",
       "    <tr>\n",
       "      <th>2</th>\n",
       "      <td>135</td>\n",
       "      <td>[12, 214, 2490809]</td>\n",
       "      <td>[84]</td>\n",
       "      <td>[11]</td>\n",
       "    </tr>\n",
       "    <tr>\n",
       "      <th>3</th>\n",
       "      <td>136</td>\n",
       "      <td>[12, 214, 2490809]</td>\n",
       "      <td>[84]</td>\n",
       "      <td>[11]</td>\n",
       "    </tr>\n",
       "    <tr>\n",
       "      <th>4</th>\n",
       "      <td>138</td>\n",
       "      <td>[12, 214, 322, 72275, 72292, 91199, 213505, 24...</td>\n",
       "      <td>[84]</td>\n",
       "      <td>[11]</td>\n",
       "    </tr>\n",
       "  </tbody>\n",
       "</table>\n",
       "</div>"
      ],
      "text/plain": [
       "   track_id                                             albums artists  \\\n",
       "0        26                                       [3, 2490753]    [16]   \n",
       "1        38                                       [3, 2490753]    [16]   \n",
       "2       135                                 [12, 214, 2490809]    [84]   \n",
       "3       136                                 [12, 214, 2490809]    [84]   \n",
       "4       138  [12, 214, 322, 72275, 72292, 91199, 213505, 24...    [84]   \n",
       "\n",
       "     genres  \n",
       "0  [11, 21]  \n",
       "1  [11, 21]  \n",
       "2      [11]  \n",
       "3      [11]  \n",
       "4      [11]  "
      ]
     },
     "execution_count": 6,
     "metadata": {},
     "output_type": "execute_result"
    }
   ],
   "source": [
    "tracks.head()"
   ]
  },
  {
   "cell_type": "code",
   "execution_count": 8,
   "id": "f9b97d7b-d2de-40a5-8e89-d41a50d00321",
   "metadata": {},
   "outputs": [],
   "source": [
    "# надо преобразовать данные"
   ]
  },
  {
   "cell_type": "code",
   "execution_count": 9,
   "id": "41bd4ac9-55a0-4fda-9e03-141338da005f",
   "metadata": {},
   "outputs": [
    {
     "data": {
      "text/plain": [
       "track_id    0\n",
       "albums      0\n",
       "artists     0\n",
       "genres      0\n",
       "dtype: int64"
      ]
     },
     "execution_count": 9,
     "metadata": {},
     "output_type": "execute_result"
    }
   ],
   "source": [
    "tracks.isna().sum()"
   ]
  },
  {
   "cell_type": "code",
   "execution_count": 10,
   "id": "5bcb8afd-0f97-42e9-8eb0-77e72f7671d8",
   "metadata": {},
   "outputs": [
    {
     "data": {
      "text/html": [
       "<div>\n",
       "<style scoped>\n",
       "    .dataframe tbody tr th:only-of-type {\n",
       "        vertical-align: middle;\n",
       "    }\n",
       "\n",
       "    .dataframe tbody tr th {\n",
       "        vertical-align: top;\n",
       "    }\n",
       "\n",
       "    .dataframe thead th {\n",
       "        text-align: right;\n",
       "    }\n",
       "</style>\n",
       "<table border=\"1\" class=\"dataframe\">\n",
       "  <thead>\n",
       "    <tr style=\"text-align: right;\">\n",
       "      <th></th>\n",
       "      <th>track_id</th>\n",
       "      <th>albums</th>\n",
       "      <th>artists</th>\n",
       "      <th>genres</th>\n",
       "    </tr>\n",
       "  </thead>\n",
       "  <tbody>\n",
       "    <tr>\n",
       "      <th>0</th>\n",
       "      <td>26</td>\n",
       "      <td>3</td>\n",
       "      <td>16</td>\n",
       "      <td>11</td>\n",
       "    </tr>\n",
       "    <tr>\n",
       "      <th>1</th>\n",
       "      <td>26</td>\n",
       "      <td>3</td>\n",
       "      <td>16</td>\n",
       "      <td>21</td>\n",
       "    </tr>\n",
       "    <tr>\n",
       "      <th>2</th>\n",
       "      <td>26</td>\n",
       "      <td>2490753</td>\n",
       "      <td>16</td>\n",
       "      <td>11</td>\n",
       "    </tr>\n",
       "    <tr>\n",
       "      <th>3</th>\n",
       "      <td>26</td>\n",
       "      <td>2490753</td>\n",
       "      <td>16</td>\n",
       "      <td>21</td>\n",
       "    </tr>\n",
       "    <tr>\n",
       "      <th>4</th>\n",
       "      <td>38</td>\n",
       "      <td>3</td>\n",
       "      <td>16</td>\n",
       "      <td>11</td>\n",
       "    </tr>\n",
       "  </tbody>\n",
       "</table>\n",
       "</div>"
      ],
      "text/plain": [
       "   track_id   albums artists genres\n",
       "0        26        3      16     11\n",
       "1        26        3      16     21\n",
       "2        26  2490753      16     11\n",
       "3        26  2490753      16     21\n",
       "4        38        3      16     11"
      ]
     },
     "execution_count": 10,
     "metadata": {},
     "output_type": "execute_result"
    }
   ],
   "source": [
    "tracks = tracks \\\n",
    "    .explode(column=[\"albums\"], ignore_index=True) \\\n",
    "    .explode(column=[\"artists\"], ignore_index=True) \\\n",
    "    .explode(column=[\"genres\"], ignore_index=True)\n",
    "\n",
    "tracks.head()"
   ]
  },
  {
   "cell_type": "code",
   "execution_count": 11,
   "id": "ec07e127-bf56-41a4-a769-2cfd19832c8b",
   "metadata": {},
   "outputs": [
    {
     "data": {
      "text/plain": [
       "track_id        0\n",
       "albums         18\n",
       "artists     41789\n",
       "genres      36675\n",
       "dtype: int64"
      ]
     },
     "execution_count": 11,
     "metadata": {},
     "output_type": "execute_result"
    }
   ],
   "source": [
    "tracks.isna().sum()"
   ]
  },
  {
   "cell_type": "code",
   "execution_count": 12,
   "id": "b7013d38",
   "metadata": {
    "collapsed": false,
    "jupyter": {
     "outputs_hidden": false
    },
    "pycharm": {
     "name": "#%%\n"
    }
   },
   "outputs": [
    {
     "data": {
      "text/plain": [
       "track_id    0.000000\n",
       "albums      0.000003\n",
       "artists     0.006177\n",
       "genres      0.005421\n",
       "dtype: float64"
      ]
     },
     "execution_count": 12,
     "metadata": {},
     "output_type": "execute_result"
    }
   ],
   "source": [
    "tracks.isna().sum() / tracks.shape[0]"
   ]
  },
  {
   "cell_type": "code",
   "execution_count": 13,
   "id": "5bd9bcc0-3806-452d-8d0e-e9ed3937f9a7",
   "metadata": {},
   "outputs": [],
   "source": [
    "# Доля наллов не особо критичная"
   ]
  },
  {
   "cell_type": "code",
   "execution_count": 20,
   "id": "762f0a38",
   "metadata": {
    "collapsed": false,
    "jupyter": {
     "outputs_hidden": false
    },
    "pycharm": {
     "name": "#%%\n"
    }
   },
   "outputs": [
    {
     "data": {
      "text/html": [
       "<div>\n",
       "<style scoped>\n",
       "    .dataframe tbody tr th:only-of-type {\n",
       "        vertical-align: middle;\n",
       "    }\n",
       "\n",
       "    .dataframe tbody tr th {\n",
       "        vertical-align: top;\n",
       "    }\n",
       "\n",
       "    .dataframe thead th {\n",
       "        text-align: right;\n",
       "    }\n",
       "</style>\n",
       "<table border=\"1\" class=\"dataframe\">\n",
       "  <thead>\n",
       "    <tr style=\"text-align: right;\">\n",
       "      <th></th>\n",
       "      <th>track_id</th>\n",
       "      <th>album_id</th>\n",
       "      <th>artist_id</th>\n",
       "      <th>genre_id</th>\n",
       "    </tr>\n",
       "  </thead>\n",
       "  <tbody>\n",
       "    <tr>\n",
       "      <th>0</th>\n",
       "      <td>26</td>\n",
       "      <td>3</td>\n",
       "      <td>16</td>\n",
       "      <td>11</td>\n",
       "    </tr>\n",
       "    <tr>\n",
       "      <th>1</th>\n",
       "      <td>26</td>\n",
       "      <td>3</td>\n",
       "      <td>16</td>\n",
       "      <td>21</td>\n",
       "    </tr>\n",
       "    <tr>\n",
       "      <th>2</th>\n",
       "      <td>26</td>\n",
       "      <td>2490753</td>\n",
       "      <td>16</td>\n",
       "      <td>11</td>\n",
       "    </tr>\n",
       "    <tr>\n",
       "      <th>3</th>\n",
       "      <td>26</td>\n",
       "      <td>2490753</td>\n",
       "      <td>16</td>\n",
       "      <td>21</td>\n",
       "    </tr>\n",
       "    <tr>\n",
       "      <th>4</th>\n",
       "      <td>38</td>\n",
       "      <td>3</td>\n",
       "      <td>16</td>\n",
       "      <td>11</td>\n",
       "    </tr>\n",
       "  </tbody>\n",
       "</table>\n",
       "</div>"
      ],
      "text/plain": [
       "   track_id album_id artist_id genre_id\n",
       "0        26        3        16       11\n",
       "1        26        3        16       21\n",
       "2        26  2490753        16       11\n",
       "3        26  2490753        16       21\n",
       "4        38        3        16       11"
      ]
     },
     "execution_count": 20,
     "metadata": {},
     "output_type": "execute_result"
    }
   ],
   "source": [
    "# Поменяем все названия в id и будем придерживаться такого нейминга\n",
    "tracks = tracks.rename(\n",
    "    columns= {\n",
    "        \"albums\": \"album_id\",\n",
    "        \"artists\": \"artist_id\",\n",
    "        \"genres\": \"genre_id\",\n",
    "    }\n",
    ")\n",
    "\n",
    "tracks.head()"
   ]
  },
  {
   "cell_type": "markdown",
   "id": "f9280b4a-18b6-4692-ab27-2df2ac33efca",
   "metadata": {},
   "source": [
    "##### Анализ catalog_names"
   ]
  },
  {
   "cell_type": "code",
   "execution_count": 22,
   "id": "32488d00-da5f-4c34-ade2-22d5fdb5c7a7",
   "metadata": {},
   "outputs": [
    {
     "name": "stdout",
     "output_type": "stream",
     "text": [
      "<class 'pandas.core.frame.DataFrame'>\n",
      "RangeIndex: 1812471 entries, 0 to 1812470\n",
      "Data columns (total 3 columns):\n",
      " #   Column  Dtype \n",
      "---  ------  ----- \n",
      " 0   id      int64 \n",
      " 1   type    object\n",
      " 2   name    object\n",
      "dtypes: int64(1), object(2)\n",
      "memory usage: 41.5+ MB\n"
     ]
    }
   ],
   "source": [
    "catalog_names.info()"
   ]
  },
  {
   "cell_type": "code",
   "execution_count": 23,
   "id": "d4ddb5e6-e307-463a-810b-b98898d8ccb0",
   "metadata": {},
   "outputs": [
    {
     "data": {
      "text/html": [
       "<div>\n",
       "<style scoped>\n",
       "    .dataframe tbody tr th:only-of-type {\n",
       "        vertical-align: middle;\n",
       "    }\n",
       "\n",
       "    .dataframe tbody tr th {\n",
       "        vertical-align: top;\n",
       "    }\n",
       "\n",
       "    .dataframe thead th {\n",
       "        text-align: right;\n",
       "    }\n",
       "</style>\n",
       "<table border=\"1\" class=\"dataframe\">\n",
       "  <thead>\n",
       "    <tr style=\"text-align: right;\">\n",
       "      <th></th>\n",
       "      <th>id</th>\n",
       "      <th>type</th>\n",
       "      <th>name</th>\n",
       "    </tr>\n",
       "  </thead>\n",
       "  <tbody>\n",
       "    <tr>\n",
       "      <th>0</th>\n",
       "      <td>3</td>\n",
       "      <td>album</td>\n",
       "      <td>Taller Children</td>\n",
       "    </tr>\n",
       "    <tr>\n",
       "      <th>1</th>\n",
       "      <td>12</td>\n",
       "      <td>album</td>\n",
       "      <td>Wild Young Hearts</td>\n",
       "    </tr>\n",
       "    <tr>\n",
       "      <th>2</th>\n",
       "      <td>13</td>\n",
       "      <td>album</td>\n",
       "      <td>Lonesome Crow</td>\n",
       "    </tr>\n",
       "    <tr>\n",
       "      <th>3</th>\n",
       "      <td>17</td>\n",
       "      <td>album</td>\n",
       "      <td>Graffiti Soul</td>\n",
       "    </tr>\n",
       "    <tr>\n",
       "      <th>4</th>\n",
       "      <td>26</td>\n",
       "      <td>album</td>\n",
       "      <td>Blues Six Pack</td>\n",
       "    </tr>\n",
       "  </tbody>\n",
       "</table>\n",
       "</div>"
      ],
      "text/plain": [
       "   id   type               name\n",
       "0   3  album    Taller Children\n",
       "1  12  album  Wild Young Hearts\n",
       "2  13  album      Lonesome Crow\n",
       "3  17  album      Graffiti Soul\n",
       "4  26  album     Blues Six Pack"
      ]
     },
     "execution_count": 23,
     "metadata": {},
     "output_type": "execute_result"
    }
   ],
   "source": [
    "catalog_names.head()"
   ]
  },
  {
   "cell_type": "code",
   "execution_count": 24,
   "id": "43d75c52-c635-4d81-a6b3-bf7972126bee",
   "metadata": {},
   "outputs": [
    {
     "data": {
      "text/plain": [
       "id      0\n",
       "type    0\n",
       "name    0\n",
       "dtype: int64"
      ]
     },
     "execution_count": 24,
     "metadata": {},
     "output_type": "execute_result"
    }
   ],
   "source": [
    "catalog_names.isna().sum()"
   ]
  },
  {
   "cell_type": "code",
   "execution_count": 25,
   "id": "0b9fc1bc-e775-401e-8a94-d87dc665bfda",
   "metadata": {},
   "outputs": [],
   "source": [
    "# Нанов нет"
   ]
  },
  {
   "cell_type": "code",
   "execution_count": 26,
   "id": "64a421c3-393c-43f3-b319-5cffb3f379e2",
   "metadata": {},
   "outputs": [
    {
     "data": {
      "text/plain": [
       "type\n",
       "track     1000000\n",
       "album      658724\n",
       "artist     153581\n",
       "genre         166\n",
       "Name: count, dtype: int64"
      ]
     },
     "execution_count": 26,
     "metadata": {},
     "output_type": "execute_result"
    }
   ],
   "source": [
    "catalog_names.type.value_counts()"
   ]
  },
  {
   "cell_type": "raw",
   "id": "6b5d8267-e1c3-493a-aa47-a8ac9979c75b",
   "metadata": {},
   "source": [
    "# Преобразуем в отдельные таблицы\n",
    "- track_names\n",
    "- album\n",
    "- artist\n",
    "- genre"
   ]
  },
  {
   "cell_type": "code",
   "execution_count": 30,
   "id": "ac01b29c-3b1e-48e1-a65a-d27c53588b68",
   "metadata": {},
   "outputs": [
    {
     "data": {
      "text/html": [
       "<div>\n",
       "<style scoped>\n",
       "    .dataframe tbody tr th:only-of-type {\n",
       "        vertical-align: middle;\n",
       "    }\n",
       "\n",
       "    .dataframe tbody tr th {\n",
       "        vertical-align: top;\n",
       "    }\n",
       "\n",
       "    .dataframe thead th {\n",
       "        text-align: right;\n",
       "    }\n",
       "</style>\n",
       "<table border=\"1\" class=\"dataframe\">\n",
       "  <thead>\n",
       "    <tr style=\"text-align: right;\">\n",
       "      <th></th>\n",
       "      <th>genre_id</th>\n",
       "      <th>genre</th>\n",
       "    </tr>\n",
       "  </thead>\n",
       "  <tbody>\n",
       "    <tr>\n",
       "      <th>812305</th>\n",
       "      <td>0</td>\n",
       "      <td>all</td>\n",
       "    </tr>\n",
       "    <tr>\n",
       "      <th>812306</th>\n",
       "      <td>1</td>\n",
       "      <td>eastern</td>\n",
       "    </tr>\n",
       "    <tr>\n",
       "      <th>812307</th>\n",
       "      <td>2</td>\n",
       "      <td>rusrock</td>\n",
       "    </tr>\n",
       "    <tr>\n",
       "      <th>812308</th>\n",
       "      <td>3</td>\n",
       "      <td>rusrap</td>\n",
       "    </tr>\n",
       "    <tr>\n",
       "      <th>812309</th>\n",
       "      <td>4</td>\n",
       "      <td>postrock</td>\n",
       "    </tr>\n",
       "  </tbody>\n",
       "</table>\n",
       "</div>"
      ],
      "text/plain": [
       "        genre_id     genre\n",
       "812305         0       all\n",
       "812306         1   eastern\n",
       "812307         2   rusrock\n",
       "812308         3    rusrap\n",
       "812309         4  postrock"
      ]
     },
     "execution_count": 30,
     "metadata": {},
     "output_type": "execute_result"
    }
   ],
   "source": [
    "genres = catalog_names.query(\"type == 'genre'\").drop(columns=\"type\")\n",
    "genres.rename(columns={\"id\": \"genre_id\", \"name\": \"genre\"}, inplace=True)\n",
    "\n",
    "genres.head(5)"
   ]
  },
  {
   "cell_type": "code",
   "execution_count": 31,
   "id": "8808c089-1151-4421-b413-ab812f9a9b93",
   "metadata": {},
   "outputs": [
    {
     "data": {
      "text/html": [
       "<div>\n",
       "<style scoped>\n",
       "    .dataframe tbody tr th:only-of-type {\n",
       "        vertical-align: middle;\n",
       "    }\n",
       "\n",
       "    .dataframe tbody tr th {\n",
       "        vertical-align: top;\n",
       "    }\n",
       "\n",
       "    .dataframe thead th {\n",
       "        text-align: right;\n",
       "    }\n",
       "</style>\n",
       "<table border=\"1\" class=\"dataframe\">\n",
       "  <thead>\n",
       "    <tr style=\"text-align: right;\">\n",
       "      <th></th>\n",
       "      <th>track_id</th>\n",
       "      <th>track</th>\n",
       "    </tr>\n",
       "  </thead>\n",
       "  <tbody>\n",
       "    <tr>\n",
       "      <th>812471</th>\n",
       "      <td>26</td>\n",
       "      <td>Complimentary Me</td>\n",
       "    </tr>\n",
       "    <tr>\n",
       "      <th>812472</th>\n",
       "      <td>38</td>\n",
       "      <td>Momma's Boy</td>\n",
       "    </tr>\n",
       "    <tr>\n",
       "      <th>812473</th>\n",
       "      <td>135</td>\n",
       "      <td>Atticus</td>\n",
       "    </tr>\n",
       "    <tr>\n",
       "      <th>812474</th>\n",
       "      <td>136</td>\n",
       "      <td>24 Hours</td>\n",
       "    </tr>\n",
       "    <tr>\n",
       "      <th>812475</th>\n",
       "      <td>138</td>\n",
       "      <td>Don't Upset The Rhythm (Go Baby Go)</td>\n",
       "    </tr>\n",
       "  </tbody>\n",
       "</table>\n",
       "</div>"
      ],
      "text/plain": [
       "        track_id                                track\n",
       "812471        26                     Complimentary Me\n",
       "812472        38                          Momma's Boy\n",
       "812473       135                              Atticus\n",
       "812474       136                             24 Hours\n",
       "812475       138  Don't Upset The Rhythm (Go Baby Go)"
      ]
     },
     "execution_count": 31,
     "metadata": {},
     "output_type": "execute_result"
    }
   ],
   "source": [
    "track_names = catalog_names.query(\"type == 'track'\").drop(columns=\"type\")\n",
    "track_names.rename(columns={\"id\": \"track_id\", \"name\": \"track\"}, inplace=True)\n",
    "\n",
    "track_names.head(5)"
   ]
  },
  {
   "cell_type": "code",
   "execution_count": 32,
   "id": "414d0ba0-447f-46ad-aef1-35f207c8e41e",
   "metadata": {},
   "outputs": [
    {
     "data": {
      "text/html": [
       "<div>\n",
       "<style scoped>\n",
       "    .dataframe tbody tr th:only-of-type {\n",
       "        vertical-align: middle;\n",
       "    }\n",
       "\n",
       "    .dataframe tbody tr th {\n",
       "        vertical-align: top;\n",
       "    }\n",
       "\n",
       "    .dataframe thead th {\n",
       "        text-align: right;\n",
       "    }\n",
       "</style>\n",
       "<table border=\"1\" class=\"dataframe\">\n",
       "  <thead>\n",
       "    <tr style=\"text-align: right;\">\n",
       "      <th></th>\n",
       "      <th>album_id</th>\n",
       "      <th>album</th>\n",
       "    </tr>\n",
       "  </thead>\n",
       "  <tbody>\n",
       "    <tr>\n",
       "      <th>0</th>\n",
       "      <td>3</td>\n",
       "      <td>Taller Children</td>\n",
       "    </tr>\n",
       "    <tr>\n",
       "      <th>1</th>\n",
       "      <td>12</td>\n",
       "      <td>Wild Young Hearts</td>\n",
       "    </tr>\n",
       "    <tr>\n",
       "      <th>2</th>\n",
       "      <td>13</td>\n",
       "      <td>Lonesome Crow</td>\n",
       "    </tr>\n",
       "    <tr>\n",
       "      <th>3</th>\n",
       "      <td>17</td>\n",
       "      <td>Graffiti Soul</td>\n",
       "    </tr>\n",
       "    <tr>\n",
       "      <th>4</th>\n",
       "      <td>26</td>\n",
       "      <td>Blues Six Pack</td>\n",
       "    </tr>\n",
       "  </tbody>\n",
       "</table>\n",
       "</div>"
      ],
      "text/plain": [
       "   album_id              album\n",
       "0         3    Taller Children\n",
       "1        12  Wild Young Hearts\n",
       "2        13      Lonesome Crow\n",
       "3        17      Graffiti Soul\n",
       "4        26     Blues Six Pack"
      ]
     },
     "execution_count": 32,
     "metadata": {},
     "output_type": "execute_result"
    }
   ],
   "source": [
    "albums = catalog_names.query(\"type == 'album'\").drop(columns=\"type\")\n",
    "albums.rename(columns={\"id\": \"album_id\", \"name\": \"album\"}, inplace=True)\n",
    "\n",
    "albums.head(5)"
   ]
  },
  {
   "cell_type": "code",
   "execution_count": 33,
   "id": "c979324f-1e18-4d0c-9810-37704189b685",
   "metadata": {},
   "outputs": [
    {
     "data": {
      "text/html": [
       "<div>\n",
       "<style scoped>\n",
       "    .dataframe tbody tr th:only-of-type {\n",
       "        vertical-align: middle;\n",
       "    }\n",
       "\n",
       "    .dataframe tbody tr th {\n",
       "        vertical-align: top;\n",
       "    }\n",
       "\n",
       "    .dataframe thead th {\n",
       "        text-align: right;\n",
       "    }\n",
       "</style>\n",
       "<table border=\"1\" class=\"dataframe\">\n",
       "  <thead>\n",
       "    <tr style=\"text-align: right;\">\n",
       "      <th></th>\n",
       "      <th>artist_id</th>\n",
       "      <th>artist</th>\n",
       "    </tr>\n",
       "  </thead>\n",
       "  <tbody>\n",
       "    <tr>\n",
       "      <th>658724</th>\n",
       "      <td>4</td>\n",
       "      <td>Kenny Dorham</td>\n",
       "    </tr>\n",
       "    <tr>\n",
       "      <th>658725</th>\n",
       "      <td>5</td>\n",
       "      <td>Max Roach</td>\n",
       "    </tr>\n",
       "    <tr>\n",
       "      <th>658726</th>\n",
       "      <td>7</td>\n",
       "      <td>Francis Rossi</td>\n",
       "    </tr>\n",
       "    <tr>\n",
       "      <th>658727</th>\n",
       "      <td>9</td>\n",
       "      <td>Status Quo</td>\n",
       "    </tr>\n",
       "    <tr>\n",
       "      <th>658728</th>\n",
       "      <td>12</td>\n",
       "      <td>Phil Everly</td>\n",
       "    </tr>\n",
       "  </tbody>\n",
       "</table>\n",
       "</div>"
      ],
      "text/plain": [
       "        artist_id         artist\n",
       "658724          4   Kenny Dorham\n",
       "658725          5      Max Roach\n",
       "658726          7  Francis Rossi\n",
       "658727          9     Status Quo\n",
       "658728         12    Phil Everly"
      ]
     },
     "execution_count": 33,
     "metadata": {},
     "output_type": "execute_result"
    }
   ],
   "source": [
    "artists = catalog_names.query(\"type == 'artist'\").drop(columns=\"type\")\n",
    "artists.rename(columns={\"id\": \"artist_id\",\"name\": \"artist\"}, inplace=True)\n",
    "\n",
    "artists.head(5)"
   ]
  },
  {
   "cell_type": "code",
   "execution_count": 34,
   "id": "6426243f-e711-4b5b-9b92-973df695e646",
   "metadata": {},
   "outputs": [],
   "source": [
    "# Добавим к трекам различную информацию"
   ]
  },
  {
   "cell_type": "code",
   "execution_count": 35,
   "id": "7a3c75a4-f7f2-4f2a-8aa6-39d4ada33054",
   "metadata": {},
   "outputs": [],
   "source": [
    "items = tracks \\\n",
    "    .merge(track_names, on=\"track_id\", how=\"left\") \\\n",
    "    .merge(albums, on=\"album_id\", how=\"left\") \\\n",
    "    .merge(artists, on=\"artist_id\", how=\"left\") \\\n",
    "    .merge(genres, on=\"genre_id\", how=\"left\")"
   ]
  },
  {
   "cell_type": "code",
   "execution_count": 36,
   "id": "89a58390-3a9a-45a7-839f-3e5d1583af71",
   "metadata": {},
   "outputs": [
    {
     "data": {
      "text/html": [
       "<div>\n",
       "<style scoped>\n",
       "    .dataframe tbody tr th:only-of-type {\n",
       "        vertical-align: middle;\n",
       "    }\n",
       "\n",
       "    .dataframe tbody tr th {\n",
       "        vertical-align: top;\n",
       "    }\n",
       "\n",
       "    .dataframe thead th {\n",
       "        text-align: right;\n",
       "    }\n",
       "</style>\n",
       "<table border=\"1\" class=\"dataframe\">\n",
       "  <thead>\n",
       "    <tr style=\"text-align: right;\">\n",
       "      <th></th>\n",
       "      <th>track_id</th>\n",
       "      <th>track</th>\n",
       "      <th>artist</th>\n",
       "      <th>album</th>\n",
       "      <th>genre</th>\n",
       "    </tr>\n",
       "  </thead>\n",
       "  <tbody>\n",
       "    <tr>\n",
       "      <th>0</th>\n",
       "      <td>26</td>\n",
       "      <td>Complimentary Me</td>\n",
       "      <td>Elizabeth &amp; the Catapult</td>\n",
       "      <td>Taller Children</td>\n",
       "      <td>pop</td>\n",
       "    </tr>\n",
       "    <tr>\n",
       "      <th>1</th>\n",
       "      <td>26</td>\n",
       "      <td>Complimentary Me</td>\n",
       "      <td>Elizabeth &amp; the Catapult</td>\n",
       "      <td>Taller Children</td>\n",
       "      <td>folk</td>\n",
       "    </tr>\n",
       "    <tr>\n",
       "      <th>2</th>\n",
       "      <td>26</td>\n",
       "      <td>Complimentary Me</td>\n",
       "      <td>Elizabeth &amp; the Catapult</td>\n",
       "      <td>Taller Children</td>\n",
       "      <td>pop</td>\n",
       "    </tr>\n",
       "    <tr>\n",
       "      <th>3</th>\n",
       "      <td>26</td>\n",
       "      <td>Complimentary Me</td>\n",
       "      <td>Elizabeth &amp; the Catapult</td>\n",
       "      <td>Taller Children</td>\n",
       "      <td>folk</td>\n",
       "    </tr>\n",
       "    <tr>\n",
       "      <th>4</th>\n",
       "      <td>38</td>\n",
       "      <td>Momma's Boy</td>\n",
       "      <td>Elizabeth &amp; the Catapult</td>\n",
       "      <td>Taller Children</td>\n",
       "      <td>pop</td>\n",
       "    </tr>\n",
       "  </tbody>\n",
       "</table>\n",
       "</div>"
      ],
      "text/plain": [
       "   track_id             track                    artist            album genre\n",
       "0        26  Complimentary Me  Elizabeth & the Catapult  Taller Children   pop\n",
       "1        26  Complimentary Me  Elizabeth & the Catapult  Taller Children  folk\n",
       "2        26  Complimentary Me  Elizabeth & the Catapult  Taller Children   pop\n",
       "3        26  Complimentary Me  Elizabeth & the Catapult  Taller Children  folk\n",
       "4        38       Momma's Boy  Elizabeth & the Catapult  Taller Children   pop"
      ]
     },
     "execution_count": 36,
     "metadata": {},
     "output_type": "execute_result"
    }
   ],
   "source": [
    "items = items[[\"track_id\", \"track\", \"artist\", \"album\", \"genre\"]]\n",
    "items.head(5)"
   ]
  },
  {
   "cell_type": "code",
   "execution_count": 37,
   "id": "2afb446b-b662-4e86-a0d8-9a8ad31706a8",
   "metadata": {},
   "outputs": [
    {
     "data": {
      "text/html": [
       "<div>\n",
       "<style scoped>\n",
       "    .dataframe tbody tr th:only-of-type {\n",
       "        vertical-align: middle;\n",
       "    }\n",
       "\n",
       "    .dataframe tbody tr th {\n",
       "        vertical-align: top;\n",
       "    }\n",
       "\n",
       "    .dataframe thead th {\n",
       "        text-align: right;\n",
       "    }\n",
       "</style>\n",
       "<table border=\"1\" class=\"dataframe\">\n",
       "  <thead>\n",
       "    <tr style=\"text-align: right;\">\n",
       "      <th></th>\n",
       "      <th>track_id</th>\n",
       "      <th>track</th>\n",
       "      <th>artist</th>\n",
       "      <th>album</th>\n",
       "      <th>genre</th>\n",
       "    </tr>\n",
       "  </thead>\n",
       "  <tbody>\n",
       "    <tr>\n",
       "      <th>0</th>\n",
       "      <td>26</td>\n",
       "      <td>Complimentary Me</td>\n",
       "      <td>Elizabeth &amp; the Catapult</td>\n",
       "      <td>Taller Children</td>\n",
       "      <td>pop</td>\n",
       "    </tr>\n",
       "    <tr>\n",
       "      <th>1</th>\n",
       "      <td>26</td>\n",
       "      <td>Complimentary Me</td>\n",
       "      <td>Elizabeth &amp; the Catapult</td>\n",
       "      <td>Taller Children</td>\n",
       "      <td>folk</td>\n",
       "    </tr>\n",
       "    <tr>\n",
       "      <th>2</th>\n",
       "      <td>26</td>\n",
       "      <td>Complimentary Me</td>\n",
       "      <td>Elizabeth &amp; the Catapult</td>\n",
       "      <td>Taller Children</td>\n",
       "      <td>pop</td>\n",
       "    </tr>\n",
       "    <tr>\n",
       "      <th>3</th>\n",
       "      <td>26</td>\n",
       "      <td>Complimentary Me</td>\n",
       "      <td>Elizabeth &amp; the Catapult</td>\n",
       "      <td>Taller Children</td>\n",
       "      <td>folk</td>\n",
       "    </tr>\n",
       "  </tbody>\n",
       "</table>\n",
       "</div>"
      ],
      "text/plain": [
       "   track_id             track                    artist            album genre\n",
       "0        26  Complimentary Me  Elizabeth & the Catapult  Taller Children   pop\n",
       "1        26  Complimentary Me  Elizabeth & the Catapult  Taller Children  folk\n",
       "2        26  Complimentary Me  Elizabeth & the Catapult  Taller Children   pop\n",
       "3        26  Complimentary Me  Elizabeth & the Catapult  Taller Children  folk"
      ]
     },
     "execution_count": 37,
     "metadata": {},
     "output_type": "execute_result"
    }
   ],
   "source": [
    "items.query(\"track_id == 26\")"
   ]
  },
  {
   "cell_type": "code",
   "execution_count": 38,
   "id": "c492e6d7-251e-4124-b9ac-de1c7fb21fe1",
   "metadata": {},
   "outputs": [],
   "source": [
    "# нужно зачистить дубликаты изза genre, оставим только первых"
   ]
  },
  {
   "cell_type": "code",
   "execution_count": 42,
   "id": "842441d1-6e46-45ff-a90c-80e374b2a816",
   "metadata": {},
   "outputs": [
    {
     "data": {
      "text/html": [
       "<div>\n",
       "<style scoped>\n",
       "    .dataframe tbody tr th:only-of-type {\n",
       "        vertical-align: middle;\n",
       "    }\n",
       "\n",
       "    .dataframe tbody tr th {\n",
       "        vertical-align: top;\n",
       "    }\n",
       "\n",
       "    .dataframe thead th {\n",
       "        text-align: right;\n",
       "    }\n",
       "</style>\n",
       "<table border=\"1\" class=\"dataframe\">\n",
       "  <thead>\n",
       "    <tr style=\"text-align: right;\">\n",
       "      <th></th>\n",
       "      <th>track_id</th>\n",
       "      <th>track</th>\n",
       "      <th>artist</th>\n",
       "      <th>album</th>\n",
       "      <th>genre</th>\n",
       "    </tr>\n",
       "  </thead>\n",
       "  <tbody>\n",
       "    <tr>\n",
       "      <th>0</th>\n",
       "      <td>26</td>\n",
       "      <td>Complimentary Me</td>\n",
       "      <td>Elizabeth &amp; the Catapult</td>\n",
       "      <td>Taller Children</td>\n",
       "      <td>pop</td>\n",
       "    </tr>\n",
       "    <tr>\n",
       "      <th>4</th>\n",
       "      <td>38</td>\n",
       "      <td>Momma's Boy</td>\n",
       "      <td>Elizabeth &amp; the Catapult</td>\n",
       "      <td>Taller Children</td>\n",
       "      <td>pop</td>\n",
       "    </tr>\n",
       "    <tr>\n",
       "      <th>8</th>\n",
       "      <td>135</td>\n",
       "      <td>Atticus</td>\n",
       "      <td>Noisettes</td>\n",
       "      <td>Wild Young Hearts</td>\n",
       "      <td>pop</td>\n",
       "    </tr>\n",
       "    <tr>\n",
       "      <th>11</th>\n",
       "      <td>136</td>\n",
       "      <td>24 Hours</td>\n",
       "      <td>Noisettes</td>\n",
       "      <td>Wild Young Hearts</td>\n",
       "      <td>pop</td>\n",
       "    </tr>\n",
       "    <tr>\n",
       "      <th>14</th>\n",
       "      <td>138</td>\n",
       "      <td>Don't Upset The Rhythm (Go Baby Go)</td>\n",
       "      <td>Noisettes</td>\n",
       "      <td>Wild Young Hearts</td>\n",
       "      <td>pop</td>\n",
       "    </tr>\n",
       "  </tbody>\n",
       "</table>\n",
       "</div>"
      ],
      "text/plain": [
       "    track_id                                track                    artist  \\\n",
       "0         26                     Complimentary Me  Elizabeth & the Catapult   \n",
       "4         38                          Momma's Boy  Elizabeth & the Catapult   \n",
       "8        135                              Atticus                 Noisettes   \n",
       "11       136                             24 Hours                 Noisettes   \n",
       "14       138  Don't Upset The Rhythm (Go Baby Go)                 Noisettes   \n",
       "\n",
       "                album genre  \n",
       "0     Taller Children   pop  \n",
       "4     Taller Children   pop  \n",
       "8   Wild Young Hearts   pop  \n",
       "11  Wild Young Hearts   pop  \n",
       "14  Wild Young Hearts   pop  "
      ]
     },
     "execution_count": 42,
     "metadata": {},
     "output_type": "execute_result"
    }
   ],
   "source": [
    "items = items.drop_duplicates('track_id', keep='first')\n",
    "items.head(5)"
   ]
  },
  {
   "cell_type": "code",
   "execution_count": 43,
   "id": "2bc2213d-0e2e-4810-9847-0c7a2f4f9291",
   "metadata": {},
   "outputs": [],
   "source": [
    "assert items.track_id.duplicated().sum() == 0"
   ]
  },
  {
   "cell_type": "code",
   "execution_count": 45,
   "id": "cfeec13a-4f11-436b-b88e-aaacad542473",
   "metadata": {},
   "outputs": [
    {
     "data": {
      "text/plain": [
       "track_id        0\n",
       "track           0\n",
       "artist      15369\n",
       "album          18\n",
       "genre        3694\n",
       "dtype: int64"
      ]
     },
     "execution_count": 45,
     "metadata": {},
     "output_type": "execute_result"
    }
   ],
   "source": [
    "items.isna().sum()"
   ]
  },
  {
   "cell_type": "code",
   "execution_count": 46,
   "id": "eca817ec-e701-4468-aaca-186fd3a21401",
   "metadata": {},
   "outputs": [
    {
     "data": {
      "text/plain": [
       "track_id    0.000000\n",
       "track       0.000000\n",
       "artist      0.015369\n",
       "album       0.000018\n",
       "genre       0.003694\n",
       "dtype: float64"
      ]
     },
     "execution_count": 46,
     "metadata": {},
     "output_type": "execute_result"
    }
   ],
   "source": [
    "items.isna().sum() / items.shape[0]"
   ]
  },
  {
   "cell_type": "code",
   "execution_count": 48,
   "id": "d1c46113-ae74-48db-a42b-1e83b53eeff9",
   "metadata": {},
   "outputs": [],
   "source": [
    "# также количество нуллов не существенно, но рассмотрим их более подробно"
   ]
  },
  {
   "cell_type": "code",
   "execution_count": 50,
   "id": "510168af-d18d-445c-a6a7-029942de61a0",
   "metadata": {},
   "outputs": [
    {
     "data": {
      "text/html": [
       "<div>\n",
       "<style scoped>\n",
       "    .dataframe tbody tr th:only-of-type {\n",
       "        vertical-align: middle;\n",
       "    }\n",
       "\n",
       "    .dataframe tbody tr th {\n",
       "        vertical-align: top;\n",
       "    }\n",
       "\n",
       "    .dataframe thead th {\n",
       "        text-align: right;\n",
       "    }\n",
       "</style>\n",
       "<table border=\"1\" class=\"dataframe\">\n",
       "  <thead>\n",
       "    <tr style=\"text-align: right;\">\n",
       "      <th></th>\n",
       "      <th>track_id</th>\n",
       "      <th>track</th>\n",
       "      <th>artist</th>\n",
       "      <th>album</th>\n",
       "      <th>genre</th>\n",
       "    </tr>\n",
       "  </thead>\n",
       "  <tbody>\n",
       "    <tr>\n",
       "      <th>2730910</th>\n",
       "      <td>20200372</td>\n",
       "      <td>На скотч</td>\n",
       "      <td>NaN</td>\n",
       "      <td>NaN</td>\n",
       "      <td>NaN</td>\n",
       "    </tr>\n",
       "    <tr>\n",
       "      <th>2730923</th>\n",
       "      <td>20200380</td>\n",
       "      <td>Yo Te Quiero (Я тебя люблю)</td>\n",
       "      <td>NaN</td>\n",
       "      <td>NaN</td>\n",
       "      <td>NaN</td>\n",
       "    </tr>\n",
       "    <tr>\n",
       "      <th>2739901</th>\n",
       "      <td>20305116</td>\n",
       "      <td>Мой путь</td>\n",
       "      <td>NaN</td>\n",
       "      <td>NaN</td>\n",
       "      <td>NaN</td>\n",
       "    </tr>\n",
       "    <tr>\n",
       "      <th>2739914</th>\n",
       "      <td>20305121</td>\n",
       "      <td>Вечность</td>\n",
       "      <td>NaN</td>\n",
       "      <td>NaN</td>\n",
       "      <td>NaN</td>\n",
       "    </tr>\n",
       "    <tr>\n",
       "      <th>2837815</th>\n",
       "      <td>20756854</td>\n",
       "      <td>Виновата</td>\n",
       "      <td>NaN</td>\n",
       "      <td>NaN</td>\n",
       "      <td>NaN</td>\n",
       "    </tr>\n",
       "    <tr>\n",
       "      <th>2879025</th>\n",
       "      <td>21196099</td>\n",
       "      <td>Are You with Me</td>\n",
       "      <td>NaN</td>\n",
       "      <td>NaN</td>\n",
       "      <td>NaN</td>\n",
       "    </tr>\n",
       "    <tr>\n",
       "      <th>2879037</th>\n",
       "      <td>21196103</td>\n",
       "      <td>Historia de Amor</td>\n",
       "      <td>NaN</td>\n",
       "      <td>NaN</td>\n",
       "      <td>NaN</td>\n",
       "    </tr>\n",
       "    <tr>\n",
       "      <th>2879042</th>\n",
       "      <td>21196105</td>\n",
       "      <td>Stronger Than Ever</td>\n",
       "      <td>NaN</td>\n",
       "      <td>NaN</td>\n",
       "      <td>NaN</td>\n",
       "    </tr>\n",
       "    <tr>\n",
       "      <th>2879051</th>\n",
       "      <td>21196107</td>\n",
       "      <td>Here We Go</td>\n",
       "      <td>NaN</td>\n",
       "      <td>NaN</td>\n",
       "      <td>NaN</td>\n",
       "    </tr>\n",
       "    <tr>\n",
       "      <th>2879058</th>\n",
       "      <td>21196109</td>\n",
       "      <td>Long Story Short</td>\n",
       "      <td>NaN</td>\n",
       "      <td>NaN</td>\n",
       "      <td>NaN</td>\n",
       "    </tr>\n",
       "    <tr>\n",
       "      <th>2879060</th>\n",
       "      <td>21196111</td>\n",
       "      <td>Otherside</td>\n",
       "      <td>NaN</td>\n",
       "      <td>NaN</td>\n",
       "      <td>NaN</td>\n",
       "    </tr>\n",
       "    <tr>\n",
       "      <th>2879072</th>\n",
       "      <td>21196116</td>\n",
       "      <td>Just Friends</td>\n",
       "      <td>NaN</td>\n",
       "      <td>NaN</td>\n",
       "      <td>NaN</td>\n",
       "    </tr>\n",
       "    <tr>\n",
       "      <th>2879073</th>\n",
       "      <td>21196117</td>\n",
       "      <td>Lost</td>\n",
       "      <td>NaN</td>\n",
       "      <td>NaN</td>\n",
       "      <td>NaN</td>\n",
       "    </tr>\n",
       "    <tr>\n",
       "      <th>2879074</th>\n",
       "      <td>21196118</td>\n",
       "      <td>Promesses</td>\n",
       "      <td>NaN</td>\n",
       "      <td>NaN</td>\n",
       "      <td>NaN</td>\n",
       "    </tr>\n",
       "    <tr>\n",
       "      <th>4486171</th>\n",
       "      <td>28530632</td>\n",
       "      <td>Рухты ару</td>\n",
       "      <td>NaN</td>\n",
       "      <td>NaN</td>\n",
       "      <td>NaN</td>\n",
       "    </tr>\n",
       "    <tr>\n",
       "      <th>4879792</th>\n",
       "      <td>34828749</td>\n",
       "      <td>Алтыным</td>\n",
       "      <td>NaN</td>\n",
       "      <td>NaN</td>\n",
       "      <td>NaN</td>\n",
       "    </tr>\n",
       "    <tr>\n",
       "      <th>4996810</th>\n",
       "      <td>36598340</td>\n",
       "      <td>Ғашықтар Сыры</td>\n",
       "      <td>NaN</td>\n",
       "      <td>NaN</td>\n",
       "      <td>NaN</td>\n",
       "    </tr>\n",
       "    <tr>\n",
       "      <th>5683494</th>\n",
       "      <td>51641225</td>\n",
       "      <td>Классно</td>\n",
       "      <td>NaN</td>\n",
       "      <td>NaN</td>\n",
       "      <td>NaN</td>\n",
       "    </tr>\n",
       "  </tbody>\n",
       "</table>\n",
       "</div>"
      ],
      "text/plain": [
       "         track_id                        track artist album genre\n",
       "2730910  20200372                     На скотч    NaN   NaN   NaN\n",
       "2730923  20200380  Yo Te Quiero (Я тебя люблю)    NaN   NaN   NaN\n",
       "2739901  20305116                     Мой путь    NaN   NaN   NaN\n",
       "2739914  20305121                     Вечность    NaN   NaN   NaN\n",
       "2837815  20756854                     Виновата    NaN   NaN   NaN\n",
       "2879025  21196099              Are You with Me    NaN   NaN   NaN\n",
       "2879037  21196103             Historia de Amor    NaN   NaN   NaN\n",
       "2879042  21196105           Stronger Than Ever    NaN   NaN   NaN\n",
       "2879051  21196107                   Here We Go    NaN   NaN   NaN\n",
       "2879058  21196109             Long Story Short    NaN   NaN   NaN\n",
       "2879060  21196111                    Otherside    NaN   NaN   NaN\n",
       "2879072  21196116                 Just Friends    NaN   NaN   NaN\n",
       "2879073  21196117                         Lost    NaN   NaN   NaN\n",
       "2879074  21196118                    Promesses    NaN   NaN   NaN\n",
       "4486171  28530632                    Рухты ару    NaN   NaN   NaN\n",
       "4879792  34828749                      Алтыным    NaN   NaN   NaN\n",
       "4996810  36598340                Ғашықтар Сыры    NaN   NaN   NaN\n",
       "5683494  51641225                      Классно    NaN   NaN   NaN"
      ]
     },
     "execution_count": 50,
     "metadata": {},
     "output_type": "execute_result"
    }
   ],
   "source": [
    "items[items.album.isna()]"
   ]
  },
  {
   "cell_type": "code",
   "execution_count": 52,
   "id": "d81360f3-69c4-4e91-a85f-2747d0c33860",
   "metadata": {},
   "outputs": [
    {
     "data": {
      "text/html": [
       "<div>\n",
       "<style scoped>\n",
       "    .dataframe tbody tr th:only-of-type {\n",
       "        vertical-align: middle;\n",
       "    }\n",
       "\n",
       "    .dataframe tbody tr th {\n",
       "        vertical-align: top;\n",
       "    }\n",
       "\n",
       "    .dataframe thead th {\n",
       "        text-align: right;\n",
       "    }\n",
       "</style>\n",
       "<table border=\"1\" class=\"dataframe\">\n",
       "  <thead>\n",
       "    <tr style=\"text-align: right;\">\n",
       "      <th></th>\n",
       "      <th>track_id</th>\n",
       "      <th>track</th>\n",
       "      <th>artist</th>\n",
       "      <th>album</th>\n",
       "      <th>genre</th>\n",
       "    </tr>\n",
       "  </thead>\n",
       "  <tbody>\n",
       "    <tr>\n",
       "      <th>6692475</th>\n",
       "      <td>91006543</td>\n",
       "      <td>Женский тайм-менеджмент • Анна Всехсвятская, «...</td>\n",
       "      <td>NaN</td>\n",
       "      <td>Потом доделаю</td>\n",
       "      <td>podcasts</td>\n",
       "    </tr>\n",
       "    <tr>\n",
       "      <th>6251773</th>\n",
       "      <td>67572186</td>\n",
       "      <td>Комиксы для убогих // Отмена школьных экзамено...</td>\n",
       "      <td>NaN</td>\n",
       "      <td>Самые честные новости</td>\n",
       "      <td>podcasts</td>\n",
       "    </tr>\n",
       "    <tr>\n",
       "      <th>6562778</th>\n",
       "      <td>80807054</td>\n",
       "      <td>Образование будущего: каким оно будет</td>\n",
       "      <td>NaN</td>\n",
       "      <td>Smart Reading</td>\n",
       "      <td>podcasts</td>\n",
       "    </tr>\n",
       "    <tr>\n",
       "      <th>6043792</th>\n",
       "      <td>61064626</td>\n",
       "      <td>Владимир Седельников. Полярные летчики. Летать...</td>\n",
       "      <td>NaN</td>\n",
       "      <td>НЕБОНутые</td>\n",
       "      <td>podcasts</td>\n",
       "    </tr>\n",
       "    <tr>\n",
       "      <th>5685644</th>\n",
       "      <td>51684465</td>\n",
       "      <td>Что не так с сексом на постсоветском пространс...</td>\n",
       "      <td>NaN</td>\n",
       "      <td>Это разве секс? 18+</td>\n",
       "      <td>podcasts</td>\n",
       "    </tr>\n",
       "    <tr>\n",
       "      <th>5611891</th>\n",
       "      <td>50125505</td>\n",
       "      <td>150: Все, что нужно знать о Falcon Heavy</td>\n",
       "      <td>NaN</td>\n",
       "      <td>The Big Beard Theory</td>\n",
       "      <td>podcasts</td>\n",
       "    </tr>\n",
       "    <tr>\n",
       "      <th>6525546</th>\n",
       "      <td>78880824</td>\n",
       "      <td>Рассказы для детей в исполнении автора. (читае...</td>\n",
       "      <td>NaN</td>\n",
       "      <td>Много букв</td>\n",
       "      <td>podcasts</td>\n",
       "    </tr>\n",
       "    <tr>\n",
       "      <th>6307438</th>\n",
       "      <td>69466617</td>\n",
       "      <td>Бритни Спирс в плену у собственного отца</td>\n",
       "      <td>NaN</td>\n",
       "      <td>Сплетни</td>\n",
       "      <td>podcasts</td>\n",
       "    </tr>\n",
       "    <tr>\n",
       "      <th>5785155</th>\n",
       "      <td>53689134</td>\n",
       "      <td>«Хочу, но не могу»: как использовать психологи...</td>\n",
       "      <td>NaN</td>\n",
       "      <td>Игры разума</td>\n",
       "      <td>podcasts</td>\n",
       "    </tr>\n",
       "    <tr>\n",
       "      <th>6063192</th>\n",
       "      <td>61645665</td>\n",
       "      <td>0942 Daily Easy English Lesson PODCAST—to plug...</td>\n",
       "      <td>NaN</td>\n",
       "      <td>Daily Easy English Expression Podcast</td>\n",
       "      <td>podcasts</td>\n",
       "    </tr>\n",
       "  </tbody>\n",
       "</table>\n",
       "</div>"
      ],
      "text/plain": [
       "         track_id                                              track artist  \\\n",
       "6692475  91006543  Женский тайм-менеджмент • Анна Всехсвятская, «...    NaN   \n",
       "6251773  67572186  Комиксы для убогих // Отмена школьных экзамено...    NaN   \n",
       "6562778  80807054              Образование будущего: каким оно будет    NaN   \n",
       "6043792  61064626  Владимир Седельников. Полярные летчики. Летать...    NaN   \n",
       "5685644  51684465  Что не так с сексом на постсоветском пространс...    NaN   \n",
       "5611891  50125505           150: Все, что нужно знать о Falcon Heavy    NaN   \n",
       "6525546  78880824  Рассказы для детей в исполнении автора. (читае...    NaN   \n",
       "6307438  69466617           Бритни Спирс в плену у собственного отца    NaN   \n",
       "5785155  53689134  «Хочу, но не могу»: как использовать психологи...    NaN   \n",
       "6063192  61645665  0942 Daily Easy English Lesson PODCAST—to plug...    NaN   \n",
       "\n",
       "                                         album     genre  \n",
       "6692475                          Потом доделаю  podcasts  \n",
       "6251773                  Самые честные новости  podcasts  \n",
       "6562778                          Smart Reading  podcasts  \n",
       "6043792                              НЕБОНутые  podcasts  \n",
       "5685644                    Это разве секс? 18+  podcasts  \n",
       "5611891                   The Big Beard Theory  podcasts  \n",
       "6525546                             Много букв  podcasts  \n",
       "6307438                                Сплетни  podcasts  \n",
       "5785155                            Игры разума  podcasts  \n",
       "6063192  Daily Easy English Expression Podcast  podcasts  "
      ]
     },
     "execution_count": 52,
     "metadata": {},
     "output_type": "execute_result"
    }
   ],
   "source": [
    "unknown_artists = items[items.artist.isna()]\n",
    "unknown_artists.sample(10, random_state=42)"
   ]
  },
  {
   "cell_type": "code",
   "execution_count": 53,
   "id": "59dcf1b9-8108-4e6c-91cc-ecc461c54369",
   "metadata": {},
   "outputs": [
    {
     "data": {
      "text/plain": [
       "genre\n",
       "podcasts            14954\n",
       "fairytales            273\n",
       "fiction                40\n",
       "poemsforchildren       29\n",
       "electronics            13\n",
       "selfdevelopment        13\n",
       "rock                    3\n",
       "country                 2\n",
       "community               2\n",
       "pop                     1\n",
       "forchildren             1\n",
       "classical               1\n",
       "local-indie             1\n",
       "asmr                    1\n",
       "work                    1\n",
       "hls                     1\n",
       "Name: count, dtype: int64"
      ]
     },
     "execution_count": 53,
     "metadata": {},
     "output_type": "execute_result"
    }
   ],
   "source": [
    "unknown_artists.genre.value_counts()"
   ]
  },
  {
   "cell_type": "code",
   "execution_count": 54,
   "id": "b7f03caf-bd22-4279-8a84-0ca554298d0b",
   "metadata": {},
   "outputs": [],
   "source": [
    "# В основном подкасты"
   ]
  },
  {
   "cell_type": "code",
   "execution_count": 55,
   "id": "a4f42224-6c4f-4c98-81c0-e013eb9c2fe1",
   "metadata": {},
   "outputs": [
    {
     "data": {
      "text/html": [
       "<div>\n",
       "<style scoped>\n",
       "    .dataframe tbody tr th:only-of-type {\n",
       "        vertical-align: middle;\n",
       "    }\n",
       "\n",
       "    .dataframe tbody tr th {\n",
       "        vertical-align: top;\n",
       "    }\n",
       "\n",
       "    .dataframe thead th {\n",
       "        text-align: right;\n",
       "    }\n",
       "</style>\n",
       "<table border=\"1\" class=\"dataframe\">\n",
       "  <thead>\n",
       "    <tr style=\"text-align: right;\">\n",
       "      <th></th>\n",
       "      <th>track_id</th>\n",
       "      <th>track</th>\n",
       "      <th>artist</th>\n",
       "      <th>album</th>\n",
       "      <th>genre</th>\n",
       "    </tr>\n",
       "  </thead>\n",
       "  <tbody>\n",
       "    <tr>\n",
       "      <th>1172203</th>\n",
       "      <td>1956422</td>\n",
       "      <td>All I Want for Christmas Is You</td>\n",
       "      <td>My Chemical Romance</td>\n",
       "      <td>Gift Wrapped: Regifted</td>\n",
       "      <td>NaN</td>\n",
       "    </tr>\n",
       "    <tr>\n",
       "      <th>6662702</th>\n",
       "      <td>88690682</td>\n",
       "      <td>Птеранодон</td>\n",
       "      <td>Pinkfong</td>\n",
       "      <td>Песни Про Динозавров</td>\n",
       "      <td>NaN</td>\n",
       "    </tr>\n",
       "    <tr>\n",
       "      <th>1409172</th>\n",
       "      <td>3861566</td>\n",
       "      <td>She's So Gone</td>\n",
       "      <td>Naomi Scott</td>\n",
       "      <td>Disney Singalong - Lemonade Mouth</td>\n",
       "      <td>NaN</td>\n",
       "    </tr>\n",
       "    <tr>\n",
       "      <th>2669653</th>\n",
       "      <td>19677621</td>\n",
       "      <td>Cannon in D</td>\n",
       "      <td>Classical Lullabies</td>\n",
       "      <td>Classical Lullabies</td>\n",
       "      <td>NaN</td>\n",
       "    </tr>\n",
       "    <tr>\n",
       "      <th>1884705</th>\n",
       "      <td>8656811</td>\n",
       "      <td>It's The Most Wonderful Time Of The Year</td>\n",
       "      <td>Rick Braun</td>\n",
       "      <td>Swingin' In The Snow</td>\n",
       "      <td>NaN</td>\n",
       "    </tr>\n",
       "    <tr>\n",
       "      <th>5462314</th>\n",
       "      <td>44904224</td>\n",
       "      <td>The Fall</td>\n",
       "      <td>My Little Pony</td>\n",
       "      <td>My Little Pony: The Movie</td>\n",
       "      <td>NaN</td>\n",
       "    </tr>\n",
       "    <tr>\n",
       "      <th>1430139</th>\n",
       "      <td>4079626</td>\n",
       "      <td>Bloody Mary</td>\n",
       "      <td>Twinkle Twinkle Little Rock Star</td>\n",
       "      <td>Lullaby Versions of Lady GaGa V.2</td>\n",
       "      <td>NaN</td>\n",
       "    </tr>\n",
       "    <tr>\n",
       "      <th>4256412</th>\n",
       "      <td>25164057</td>\n",
       "      <td>ACADECA</td>\n",
       "      <td>Twilight Sparkle</td>\n",
       "      <td>Friendship Games</td>\n",
       "      <td>NaN</td>\n",
       "    </tr>\n",
       "    <tr>\n",
       "      <th>3083083</th>\n",
       "      <td>21955336</td>\n",
       "      <td>Dance with the Devil</td>\n",
       "      <td>Twinkle Twinkle Little Rock Star</td>\n",
       "      <td>Lullaby Versions of Breaking Benjamin</td>\n",
       "      <td>NaN</td>\n",
       "    </tr>\n",
       "    <tr>\n",
       "      <th>4754746</th>\n",
       "      <td>33189013</td>\n",
       "      <td>That House</td>\n",
       "      <td>Dance With the Dead</td>\n",
       "      <td>B-Sides: Vol. 1</td>\n",
       "      <td>NaN</td>\n",
       "    </tr>\n",
       "  </tbody>\n",
       "</table>\n",
       "</div>"
      ],
      "text/plain": [
       "         track_id                                     track  \\\n",
       "1172203   1956422           All I Want for Christmas Is You   \n",
       "6662702  88690682                                Птеранодон   \n",
       "1409172   3861566                             She's So Gone   \n",
       "2669653  19677621                               Cannon in D   \n",
       "1884705   8656811  It's The Most Wonderful Time Of The Year   \n",
       "5462314  44904224                                  The Fall   \n",
       "1430139   4079626                               Bloody Mary   \n",
       "4256412  25164057                                   ACADECA   \n",
       "3083083  21955336                      Dance with the Devil   \n",
       "4754746  33189013                                That House   \n",
       "\n",
       "                                   artist  \\\n",
       "1172203               My Chemical Romance   \n",
       "6662702                          Pinkfong   \n",
       "1409172                       Naomi Scott   \n",
       "2669653               Classical Lullabies   \n",
       "1884705                        Rick Braun   \n",
       "5462314                    My Little Pony   \n",
       "1430139  Twinkle Twinkle Little Rock Star   \n",
       "4256412                  Twilight Sparkle   \n",
       "3083083  Twinkle Twinkle Little Rock Star   \n",
       "4754746               Dance With the Dead   \n",
       "\n",
       "                                         album genre  \n",
       "1172203                 Gift Wrapped: Regifted   NaN  \n",
       "6662702                   Песни Про Динозавров   NaN  \n",
       "1409172      Disney Singalong - Lemonade Mouth   NaN  \n",
       "2669653                    Classical Lullabies   NaN  \n",
       "1884705                   Swingin' In The Snow   NaN  \n",
       "5462314              My Little Pony: The Movie   NaN  \n",
       "1430139      Lullaby Versions of Lady GaGa V.2   NaN  \n",
       "4256412                       Friendship Games   NaN  \n",
       "3083083  Lullaby Versions of Breaking Benjamin   NaN  \n",
       "4754746                        B-Sides: Vol. 1   NaN  "
      ]
     },
     "execution_count": 55,
     "metadata": {},
     "output_type": "execute_result"
    }
   ],
   "source": [
    "items[items.genre.isna()].sample(10, random_state=42)"
   ]
  },
  {
   "cell_type": "markdown",
   "id": "dddea793-8908-46ac-949c-42b3dcc91772",
   "metadata": {},
   "source": [
    "##### Анализ events"
   ]
  },
  {
   "cell_type": "code",
   "execution_count": 62,
   "id": "dd35a77c-abc3-4174-8954-be0a8d264108",
   "metadata": {},
   "outputs": [
    {
     "name": "stdout",
     "output_type": "stream",
     "text": [
      "<class 'pandas.core.frame.DataFrame'>\n",
      "Index: 222629898 entries, 0 to 291\n",
      "Data columns (total 4 columns):\n",
      " #   Column      Dtype         \n",
      "---  ------      -----         \n",
      " 0   user_id     int32         \n",
      " 1   track_id    int32         \n",
      " 2   track_seq   int16         \n",
      " 3   started_at  datetime64[ns]\n",
      "dtypes: datetime64[ns](1), int16(1), int32(2)\n",
      "memory usage: 5.4 GB\n"
     ]
    }
   ],
   "source": [
    "events.info()"
   ]
  },
  {
   "cell_type": "code",
   "execution_count": 63,
   "id": "64f78861-5285-4cb9-96d8-654e18504cb4",
   "metadata": {},
   "outputs": [
    {
     "data": {
      "text/html": [
       "<div>\n",
       "<style scoped>\n",
       "    .dataframe tbody tr th:only-of-type {\n",
       "        vertical-align: middle;\n",
       "    }\n",
       "\n",
       "    .dataframe tbody tr th {\n",
       "        vertical-align: top;\n",
       "    }\n",
       "\n",
       "    .dataframe thead th {\n",
       "        text-align: right;\n",
       "    }\n",
       "</style>\n",
       "<table border=\"1\" class=\"dataframe\">\n",
       "  <thead>\n",
       "    <tr style=\"text-align: right;\">\n",
       "      <th></th>\n",
       "      <th>user_id</th>\n",
       "      <th>track_id</th>\n",
       "      <th>track_seq</th>\n",
       "      <th>started_at</th>\n",
       "    </tr>\n",
       "  </thead>\n",
       "  <tbody>\n",
       "    <tr>\n",
       "      <th>0</th>\n",
       "      <td>0</td>\n",
       "      <td>99262</td>\n",
       "      <td>1</td>\n",
       "      <td>2022-07-17</td>\n",
       "    </tr>\n",
       "    <tr>\n",
       "      <th>1</th>\n",
       "      <td>0</td>\n",
       "      <td>589498</td>\n",
       "      <td>2</td>\n",
       "      <td>2022-07-19</td>\n",
       "    </tr>\n",
       "    <tr>\n",
       "      <th>2</th>\n",
       "      <td>0</td>\n",
       "      <td>590262</td>\n",
       "      <td>3</td>\n",
       "      <td>2022-07-21</td>\n",
       "    </tr>\n",
       "    <tr>\n",
       "      <th>3</th>\n",
       "      <td>0</td>\n",
       "      <td>590303</td>\n",
       "      <td>4</td>\n",
       "      <td>2022-07-22</td>\n",
       "    </tr>\n",
       "    <tr>\n",
       "      <th>4</th>\n",
       "      <td>0</td>\n",
       "      <td>590692</td>\n",
       "      <td>5</td>\n",
       "      <td>2022-07-22</td>\n",
       "    </tr>\n",
       "  </tbody>\n",
       "</table>\n",
       "</div>"
      ],
      "text/plain": [
       "   user_id  track_id  track_seq started_at\n",
       "0        0     99262          1 2022-07-17\n",
       "1        0    589498          2 2022-07-19\n",
       "2        0    590262          3 2022-07-21\n",
       "3        0    590303          4 2022-07-22\n",
       "4        0    590692          5 2022-07-22"
      ]
     },
     "execution_count": 63,
     "metadata": {},
     "output_type": "execute_result"
    }
   ],
   "source": [
    "events.head(5)"
   ]
  },
  {
   "cell_type": "code",
   "execution_count": 68,
   "id": "6e427f24-88f1-453c-b918-2381abbba408",
   "metadata": {},
   "outputs": [
    {
     "name": "stdout",
     "output_type": "stream",
     "text": [
      "ункальных юзеров в истории : 1373221\n",
      "ункальных треков в истории : 1000000\n",
      "минимальная дата : 2022-01-01 00:00:00\n",
      "максимальная дата : 2022-12-31 00:00:00\n"
     ]
    }
   ],
   "source": [
    "print(\"ункальных юзеров в истории :\", events.user_id.nunique())\n",
    "print(\"ункальных треков в истории :\", events.track_id.nunique())\n",
    "print(\"минимальная дата :\", events.started_at.min())\n",
    "print(\"максимальная дата :\", events.started_at.max())"
   ]
  },
  {
   "cell_type": "code",
   "execution_count": 69,
   "id": "d00e61b2-4886-4927-af99-1db9f8dcd374",
   "metadata": {},
   "outputs": [],
   "source": [
    "# track_seq нам для простоты будет не нужен \n",
    "events.drop(columns='track_seq', inplace=True)"
   ]
  },
  {
   "cell_type": "code",
   "execution_count": 70,
   "id": "c78ea63b-0f6d-499c-a1a8-588203f51aad",
   "metadata": {},
   "outputs": [
    {
     "data": {
      "text/html": [
       "<div>\n",
       "<style scoped>\n",
       "    .dataframe tbody tr th:only-of-type {\n",
       "        vertical-align: middle;\n",
       "    }\n",
       "\n",
       "    .dataframe tbody tr th {\n",
       "        vertical-align: top;\n",
       "    }\n",
       "\n",
       "    .dataframe thead th {\n",
       "        text-align: right;\n",
       "    }\n",
       "</style>\n",
       "<table border=\"1\" class=\"dataframe\">\n",
       "  <thead>\n",
       "    <tr style=\"text-align: right;\">\n",
       "      <th></th>\n",
       "      <th>user_id</th>\n",
       "      <th>track_id</th>\n",
       "      <th>started_at</th>\n",
       "    </tr>\n",
       "  </thead>\n",
       "  <tbody>\n",
       "    <tr>\n",
       "      <th>0</th>\n",
       "      <td>0</td>\n",
       "      <td>99262</td>\n",
       "      <td>2022-07-17</td>\n",
       "    </tr>\n",
       "    <tr>\n",
       "      <th>1</th>\n",
       "      <td>0</td>\n",
       "      <td>589498</td>\n",
       "      <td>2022-07-19</td>\n",
       "    </tr>\n",
       "    <tr>\n",
       "      <th>2</th>\n",
       "      <td>0</td>\n",
       "      <td>590262</td>\n",
       "      <td>2022-07-21</td>\n",
       "    </tr>\n",
       "    <tr>\n",
       "      <th>3</th>\n",
       "      <td>0</td>\n",
       "      <td>590303</td>\n",
       "      <td>2022-07-22</td>\n",
       "    </tr>\n",
       "    <tr>\n",
       "      <th>4</th>\n",
       "      <td>0</td>\n",
       "      <td>590692</td>\n",
       "      <td>2022-07-22</td>\n",
       "    </tr>\n",
       "    <tr>\n",
       "      <th>5</th>\n",
       "      <td>0</td>\n",
       "      <td>590803</td>\n",
       "      <td>2022-07-25</td>\n",
       "    </tr>\n",
       "    <tr>\n",
       "      <th>6</th>\n",
       "      <td>0</td>\n",
       "      <td>597196</td>\n",
       "      <td>2022-07-25</td>\n",
       "    </tr>\n",
       "    <tr>\n",
       "      <th>7</th>\n",
       "      <td>0</td>\n",
       "      <td>597199</td>\n",
       "      <td>2022-07-25</td>\n",
       "    </tr>\n",
       "    <tr>\n",
       "      <th>8</th>\n",
       "      <td>0</td>\n",
       "      <td>1750835</td>\n",
       "      <td>2022-07-30</td>\n",
       "    </tr>\n",
       "    <tr>\n",
       "      <th>9</th>\n",
       "      <td>0</td>\n",
       "      <td>1750843</td>\n",
       "      <td>2022-08-05</td>\n",
       "    </tr>\n",
       "  </tbody>\n",
       "</table>\n",
       "</div>"
      ],
      "text/plain": [
       "   user_id  track_id started_at\n",
       "0        0     99262 2022-07-17\n",
       "1        0    589498 2022-07-19\n",
       "2        0    590262 2022-07-21\n",
       "3        0    590303 2022-07-22\n",
       "4        0    590692 2022-07-22\n",
       "5        0    590803 2022-07-25\n",
       "6        0    597196 2022-07-25\n",
       "7        0    597199 2022-07-25\n",
       "8        0   1750835 2022-07-30\n",
       "9        0   1750843 2022-08-05"
      ]
     },
     "execution_count": 70,
     "metadata": {},
     "output_type": "execute_result"
    }
   ],
   "source": [
    "events.head(10)"
   ]
  },
  {
   "cell_type": "markdown",
   "id": "318b573a-9e2d-4808-95db-60cfb8bbdb73",
   "metadata": {
    "editable": true,
    "pycharm": {
     "name": "#%% md\n"
    },
    "slideshow": {
     "slide_type": ""
    },
    "tags": []
   },
   "source": [
    "# Выводы"
   ]
  },
  {
   "cell_type": "markdown",
   "id": "caa96e12-36a8-4401-8f11-98627a49ae9d",
   "metadata": {
    "pycharm": {
     "name": "#%% md\n"
    }
   },
   "source": [
    "Приведём выводы по первому знакомству с данными:\n",
    "- есть ли с данными явные проблемы,\n",
    "- какие корректирующие действия (в целом) были предприняты."
   ]
  },
  {
   "cell_type": "markdown",
   "id": "cb484175-ed37-4579-9c27-a1dc6099c7fa",
   "metadata": {
    "pycharm": {
     "name": "#%%\n"
    }
   },
   "source": [
    "- Есть неудобство таблицы catalog_names, которую разделил на 4 отдельные таблицы и добавил информацию в таблицу с треками\n",
    "- В таблице с треками изначально были списки в качестве значений - пришлось раскрыть эти списки, но получились дубли по жанрам (взял из каджого слепка дублей только первое значение)"
   ]
  },
  {
   "cell_type": "markdown",
   "id": "7bc3296b-eba6-4333-a78d-b9304aa87e3d",
   "metadata": {
    "pycharm": {
     "name": "#%% md\n"
    }
   },
   "source": [
    "# === ЭТАП 2 ==="
   ]
  },
  {
   "cell_type": "markdown",
   "id": "68e73960-fd38-4e15-8db0-9a25c35dfd25",
   "metadata": {
    "pycharm": {
     "name": "#%% md\n"
    }
   },
   "source": [
    "# EDA"
   ]
  },
  {
   "cell_type": "markdown",
   "id": "a30e823e-8e0f-4a76-a02e-8d1ba8bf0f8a",
   "metadata": {
    "pycharm": {
     "name": "#%% md\n"
    }
   },
   "source": [
    "Распределение количества прослушанных треков."
   ]
  },
  {
   "cell_type": "code",
   "execution_count": 76,
   "id": "9bf5eaba-35f7-4da7-be59-9ab4a34b2423",
   "metadata": {
    "pycharm": {
     "name": "#%%\n"
    }
   },
   "outputs": [
    {
     "data": {
      "text/html": [
       "<div>\n",
       "<style scoped>\n",
       "    .dataframe tbody tr th:only-of-type {\n",
       "        vertical-align: middle;\n",
       "    }\n",
       "\n",
       "    .dataframe tbody tr th {\n",
       "        vertical-align: top;\n",
       "    }\n",
       "\n",
       "    .dataframe thead th {\n",
       "        text-align: right;\n",
       "    }\n",
       "</style>\n",
       "<table border=\"1\" class=\"dataframe\">\n",
       "  <thead>\n",
       "    <tr style=\"text-align: right;\">\n",
       "      <th></th>\n",
       "      <th>user_id</th>\n",
       "      <th>track_id</th>\n",
       "      <th>started_at</th>\n",
       "      <th>month</th>\n",
       "    </tr>\n",
       "  </thead>\n",
       "  <tbody>\n",
       "    <tr>\n",
       "      <th>0</th>\n",
       "      <td>0</td>\n",
       "      <td>99262</td>\n",
       "      <td>2022-07-17</td>\n",
       "      <td>7</td>\n",
       "    </tr>\n",
       "    <tr>\n",
       "      <th>1</th>\n",
       "      <td>0</td>\n",
       "      <td>589498</td>\n",
       "      <td>2022-07-19</td>\n",
       "      <td>7</td>\n",
       "    </tr>\n",
       "    <tr>\n",
       "      <th>2</th>\n",
       "      <td>0</td>\n",
       "      <td>590262</td>\n",
       "      <td>2022-07-21</td>\n",
       "      <td>7</td>\n",
       "    </tr>\n",
       "    <tr>\n",
       "      <th>3</th>\n",
       "      <td>0</td>\n",
       "      <td>590303</td>\n",
       "      <td>2022-07-22</td>\n",
       "      <td>7</td>\n",
       "    </tr>\n",
       "    <tr>\n",
       "      <th>4</th>\n",
       "      <td>0</td>\n",
       "      <td>590692</td>\n",
       "      <td>2022-07-22</td>\n",
       "      <td>7</td>\n",
       "    </tr>\n",
       "  </tbody>\n",
       "</table>\n",
       "</div>"
      ],
      "text/plain": [
       "   user_id  track_id started_at  month\n",
       "0        0     99262 2022-07-17      7\n",
       "1        0    589498 2022-07-19      7\n",
       "2        0    590262 2022-07-21      7\n",
       "3        0    590303 2022-07-22      7\n",
       "4        0    590692 2022-07-22      7"
      ]
     },
     "execution_count": 76,
     "metadata": {},
     "output_type": "execute_result"
    }
   ],
   "source": [
    "events[\"month\"] = events[\"started_at\"].dt.month\n",
    "events.head(5)"
   ]
  },
  {
   "cell_type": "code",
   "execution_count": 78,
   "id": "39955bcf-8da4-42b5-a810-557beeefe726",
   "metadata": {},
   "outputs": [
    {
     "data": {
      "text/html": [
       "<div>\n",
       "<style scoped>\n",
       "    .dataframe tbody tr th:only-of-type {\n",
       "        vertical-align: middle;\n",
       "    }\n",
       "\n",
       "    .dataframe tbody tr th {\n",
       "        vertical-align: top;\n",
       "    }\n",
       "\n",
       "    .dataframe thead th {\n",
       "        text-align: right;\n",
       "    }\n",
       "</style>\n",
       "<table border=\"1\" class=\"dataframe\">\n",
       "  <thead>\n",
       "    <tr style=\"text-align: right;\">\n",
       "      <th></th>\n",
       "      <th>user_id</th>\n",
       "      <th>track_id</th>\n",
       "      <th>started_at</th>\n",
       "      <th>month</th>\n",
       "      <th>track</th>\n",
       "      <th>genre</th>\n",
       "    </tr>\n",
       "  </thead>\n",
       "  <tbody>\n",
       "    <tr>\n",
       "      <th>0</th>\n",
       "      <td>0</td>\n",
       "      <td>99262</td>\n",
       "      <td>2022-07-17</td>\n",
       "      <td>7</td>\n",
       "      <td>Bad Bad Boys</td>\n",
       "      <td>pop</td>\n",
       "    </tr>\n",
       "    <tr>\n",
       "      <th>1</th>\n",
       "      <td>0</td>\n",
       "      <td>589498</td>\n",
       "      <td>2022-07-19</td>\n",
       "      <td>7</td>\n",
       "      <td>Чао, бамбино</td>\n",
       "      <td>pop</td>\n",
       "    </tr>\n",
       "    <tr>\n",
       "      <th>2</th>\n",
       "      <td>0</td>\n",
       "      <td>590262</td>\n",
       "      <td>2022-07-21</td>\n",
       "      <td>7</td>\n",
       "      <td>Бомбей буги</td>\n",
       "      <td>pop</td>\n",
       "    </tr>\n",
       "    <tr>\n",
       "      <th>3</th>\n",
       "      <td>0</td>\n",
       "      <td>590303</td>\n",
       "      <td>2022-07-22</td>\n",
       "      <td>7</td>\n",
       "      <td>Bad Russians</td>\n",
       "      <td>pop</td>\n",
       "    </tr>\n",
       "    <tr>\n",
       "      <th>4</th>\n",
       "      <td>0</td>\n",
       "      <td>590692</td>\n",
       "      <td>2022-07-22</td>\n",
       "      <td>7</td>\n",
       "      <td>Великий инквизитор</td>\n",
       "      <td>pop</td>\n",
       "    </tr>\n",
       "  </tbody>\n",
       "</table>\n",
       "</div>"
      ],
      "text/plain": [
       "   user_id  track_id started_at  month               track genre\n",
       "0        0     99262 2022-07-17      7        Bad Bad Boys   pop\n",
       "1        0    589498 2022-07-19      7        Чао, бамбино   pop\n",
       "2        0    590262 2022-07-21      7         Бомбей буги   pop\n",
       "3        0    590303 2022-07-22      7        Bad Russians   pop\n",
       "4        0    590692 2022-07-22      7  Великий инквизитор   pop"
      ]
     },
     "execution_count": 78,
     "metadata": {},
     "output_type": "execute_result"
    }
   ],
   "source": [
    "events = events.merge(\n",
    "    items[[\"track_id\", \"track\", \"genre\"]],\n",
    "    on=\"track_id\",\n",
    "    how=\"left\",\n",
    ")\n",
    "events.head(5)"
   ]
  },
  {
   "cell_type": "code",
   "execution_count": 81,
   "id": "9fbfbade-7c39-4d0f-9c69-008df7f37dde",
   "metadata": {},
   "outputs": [
    {
     "data": {
      "text/plain": [
       "<Axes: >"
      ]
     },
     "execution_count": 81,
     "metadata": {},
     "output_type": "execute_result"
    },
    {
     "data": {
      "image/png": "[encoded data removed]",
      "text/plain": [
       "<Figure size 640x480 with 1 Axes>"
      ]
     },
     "metadata": {},
     "output_type": "display_data"
    }
   ],
   "source": [
    "events['month'].hist(bins=100)"
   ]
  },
  {
   "cell_type": "code",
   "execution_count": 82,
   "id": "e737b0e0-6e98-4307-9332-7fba88e43d8b",
   "metadata": {},
   "outputs": [],
   "source": [
    "# Видим возрастающий тренд на кол-во прослушиваний в теч года"
   ]
  },
  {
   "cell_type": "markdown",
   "id": "d765519a-18dd-4d30-9e29-cc2d84cacd79",
   "metadata": {
    "pycharm": {
     "name": "#%% md\n"
    }
   },
   "source": [
    "Наиболее популярные треки"
   ]
  },
  {
   "cell_type": "code",
   "execution_count": 86,
   "id": "aecaf630-fde0-4860-b84a-42c933a9606e",
   "metadata": {
    "pycharm": {
     "name": "#%%\n"
    }
   },
   "outputs": [
    {
     "data": {
      "text/html": [
       "<div>\n",
       "<style scoped>\n",
       "    .dataframe tbody tr th:only-of-type {\n",
       "        vertical-align: middle;\n",
       "    }\n",
       "\n",
       "    .dataframe tbody tr th {\n",
       "        vertical-align: top;\n",
       "    }\n",
       "\n",
       "    .dataframe thead th {\n",
       "        text-align: right;\n",
       "    }\n",
       "</style>\n",
       "<table border=\"1\" class=\"dataframe\">\n",
       "  <thead>\n",
       "    <tr style=\"text-align: right;\">\n",
       "      <th></th>\n",
       "      <th>track_id</th>\n",
       "      <th>track</th>\n",
       "      <th>artist</th>\n",
       "      <th>count</th>\n",
       "    </tr>\n",
       "  </thead>\n",
       "  <tbody>\n",
       "    <tr>\n",
       "      <th>0</th>\n",
       "      <td>53404</td>\n",
       "      <td>Smells Like Teen Spirit</td>\n",
       "      <td>Nirvana</td>\n",
       "      <td>111062</td>\n",
       "    </tr>\n",
       "    <tr>\n",
       "      <th>1</th>\n",
       "      <td>33311009</td>\n",
       "      <td>Believer</td>\n",
       "      <td>Imagine Dragons</td>\n",
       "      <td>106921</td>\n",
       "    </tr>\n",
       "    <tr>\n",
       "      <th>2</th>\n",
       "      <td>178529</td>\n",
       "      <td>Numb</td>\n",
       "      <td>Linkin Park</td>\n",
       "      <td>101924</td>\n",
       "    </tr>\n",
       "    <tr>\n",
       "      <th>3</th>\n",
       "      <td>35505245</td>\n",
       "      <td>I Got Love</td>\n",
       "      <td>Miyagi &amp; Эндшпиль</td>\n",
       "      <td>99490</td>\n",
       "    </tr>\n",
       "    <tr>\n",
       "      <th>4</th>\n",
       "      <td>65851540</td>\n",
       "      <td>Юность</td>\n",
       "      <td>Dabro</td>\n",
       "      <td>86670</td>\n",
       "    </tr>\n",
       "    <tr>\n",
       "      <th>5</th>\n",
       "      <td>24692821</td>\n",
       "      <td>Way Down We Go</td>\n",
       "      <td>KALEO</td>\n",
       "      <td>86246</td>\n",
       "    </tr>\n",
       "    <tr>\n",
       "      <th>6</th>\n",
       "      <td>32947997</td>\n",
       "      <td>Shape of You</td>\n",
       "      <td>Ed Sheeran</td>\n",
       "      <td>85886</td>\n",
       "    </tr>\n",
       "    <tr>\n",
       "      <th>7</th>\n",
       "      <td>51241318</td>\n",
       "      <td>In The End</td>\n",
       "      <td>Tommee Profitt</td>\n",
       "      <td>85244</td>\n",
       "    </tr>\n",
       "    <tr>\n",
       "      <th>8</th>\n",
       "      <td>795836</td>\n",
       "      <td>Shape Of My Heart</td>\n",
       "      <td>Sting</td>\n",
       "      <td>85042</td>\n",
       "    </tr>\n",
       "    <tr>\n",
       "      <th>9</th>\n",
       "      <td>45499814</td>\n",
       "      <td>Life</td>\n",
       "      <td>Zivert</td>\n",
       "      <td>84748</td>\n",
       "    </tr>\n",
       "    <tr>\n",
       "      <th>10</th>\n",
       "      <td>60292250</td>\n",
       "      <td>Blinding Lights</td>\n",
       "      <td>The Weeknd</td>\n",
       "      <td>84471</td>\n",
       "    </tr>\n",
       "    <tr>\n",
       "      <th>11</th>\n",
       "      <td>6705392</td>\n",
       "      <td>Seven Nation Army</td>\n",
       "      <td>The White Stripes</td>\n",
       "      <td>82483</td>\n",
       "    </tr>\n",
       "    <tr>\n",
       "      <th>12</th>\n",
       "      <td>39257277</td>\n",
       "      <td>In My Mind</td>\n",
       "      <td>Dynoro</td>\n",
       "      <td>81978</td>\n",
       "    </tr>\n",
       "    <tr>\n",
       "      <th>13</th>\n",
       "      <td>29544272</td>\n",
       "      <td>Human</td>\n",
       "      <td>Rag'n'Bone Man</td>\n",
       "      <td>81057</td>\n",
       "    </tr>\n",
       "    <tr>\n",
       "      <th>14</th>\n",
       "      <td>37384</td>\n",
       "      <td>Zombie</td>\n",
       "      <td>The Cranberries</td>\n",
       "      <td>80153</td>\n",
       "    </tr>\n",
       "    <tr>\n",
       "      <th>15</th>\n",
       "      <td>51516485</td>\n",
       "      <td>bad guy</td>\n",
       "      <td>Billie Eilish</td>\n",
       "      <td>78370</td>\n",
       "    </tr>\n",
       "    <tr>\n",
       "      <th>16</th>\n",
       "      <td>2758009</td>\n",
       "      <td>The Show Must Go On</td>\n",
       "      <td>Queen</td>\n",
       "      <td>78181</td>\n",
       "    </tr>\n",
       "    <tr>\n",
       "      <th>17</th>\n",
       "      <td>47627256</td>\n",
       "      <td>Cradles</td>\n",
       "      <td>Sub Urban</td>\n",
       "      <td>76052</td>\n",
       "    </tr>\n",
       "    <tr>\n",
       "      <th>18</th>\n",
       "      <td>328683</td>\n",
       "      <td>Bring Me To Life</td>\n",
       "      <td>Evanescence</td>\n",
       "      <td>75686</td>\n",
       "    </tr>\n",
       "    <tr>\n",
       "      <th>19</th>\n",
       "      <td>57921154</td>\n",
       "      <td>Комета</td>\n",
       "      <td>JONY</td>\n",
       "      <td>74733</td>\n",
       "    </tr>\n",
       "  </tbody>\n",
       "</table>\n",
       "</div>"
      ],
      "text/plain": [
       "    track_id                    track             artist   count\n",
       "0      53404  Smells Like Teen Spirit            Nirvana  111062\n",
       "1   33311009                 Believer    Imagine Dragons  106921\n",
       "2     178529                     Numb        Linkin Park  101924\n",
       "3   35505245               I Got Love  Miyagi & Эндшпиль   99490\n",
       "4   65851540                   Юность              Dabro   86670\n",
       "5   24692821           Way Down We Go              KALEO   86246\n",
       "6   32947997             Shape of You         Ed Sheeran   85886\n",
       "7   51241318               In The End     Tommee Profitt   85244\n",
       "8     795836        Shape Of My Heart              Sting   85042\n",
       "9   45499814                     Life             Zivert   84748\n",
       "10  60292250          Blinding Lights         The Weeknd   84471\n",
       "11   6705392        Seven Nation Army  The White Stripes   82483\n",
       "12  39257277               In My Mind             Dynoro   81978\n",
       "13  29544272                    Human     Rag'n'Bone Man   81057\n",
       "14     37384                   Zombie    The Cranberries   80153\n",
       "15  51516485                  bad guy      Billie Eilish   78370\n",
       "16   2758009      The Show Must Go On              Queen   78181\n",
       "17  47627256                  Cradles          Sub Urban   76052\n",
       "18    328683         Bring Me To Life        Evanescence   75686\n",
       "19  57921154                   Комета               JONY   74733"
      ]
     },
     "execution_count": 86,
     "metadata": {},
     "output_type": "execute_result"
    }
   ],
   "source": [
    "top_20_songs = events.track_id \\\n",
    "                    .value_counts() \\\n",
    "                    .head(20) \\\n",
    "                    .reset_index() \\\n",
    "                    .merge(\n",
    "                            items[[\"track_id\", \"track\", \"artist\"]],\n",
    "                            on=\"track_id\",\n",
    "                            how=\"left\",\n",
    "                        )[[\"track_id\", \"track\", \"artist\", \"count\"]]\n",
    "top_20_songs"
   ]
  },
  {
   "cell_type": "markdown",
   "id": "b1c32a5a-d3be-4f96-8dd9-f7860951020c",
   "metadata": {
    "pycharm": {
     "name": "#%% md\n"
    }
   },
   "source": [
    "Наиболее популярные жанры"
   ]
  },
  {
   "cell_type": "code",
   "execution_count": 88,
   "id": "1bc50491-9235-4d3c-a6c2-297f7c05a959",
   "metadata": {
    "pycharm": {
     "name": "#%%\n"
    }
   },
   "outputs": [
    {
     "data": {
      "text/plain": [
       "genre\n",
       "pop            55505415\n",
       "rusrap         25303695\n",
       "electronics    18693208\n",
       "dance          15409950\n",
       "rusrock        13166147\n",
       "foreignrap     11806841\n",
       "rock           10358249\n",
       "alternative     9935929\n",
       "metal           6403355\n",
       "indie           5451462\n",
       "rusestrada      4885310\n",
       "local-indie     4068187\n",
       "punk            3543730\n",
       "folk            3404546\n",
       "numetal         2237558\n",
       "shanson         2217170\n",
       "soundtrack      2193647\n",
       "films           2094014\n",
       "hardrock        2054649\n",
       "rnb             1922139\n",
       "Name: count, dtype: int64"
      ]
     },
     "execution_count": 88,
     "metadata": {},
     "output_type": "execute_result"
    }
   ],
   "source": [
    "events.genre.value_counts().head(20)"
   ]
  },
  {
   "cell_type": "markdown",
   "id": "15254e66-e80e-473b-ba24-abebea5ccac7",
   "metadata": {
    "pycharm": {
     "name": "#%% md\n"
    }
   },
   "source": [
    "Треки, которые никто не прослушал"
   ]
  },
  {
   "cell_type": "code",
   "execution_count": 90,
   "id": "50bc50c6-2d83-4c7e-97fa-3e7627978438",
   "metadata": {
    "pycharm": {
     "name": "#%%\n"
    }
   },
   "outputs": [],
   "source": [
    "items_track_ids = set(items.track_id.values.tolist())\n",
    "events_track_ids = set(events.track_id.values.tolist())"
   ]
  },
  {
   "cell_type": "code",
   "execution_count": 99,
   "id": "2970f297-8227-4d8a-8e84-582a645bcb63",
   "metadata": {},
   "outputs": [
    {
     "name": "stdout",
     "output_type": "stream",
     "text": [
      "Число треков, которые никто не слушал: 0\n",
      "Доля треков от всех треков, которые никто не слушал: 0.0\n"
     ]
    }
   ],
   "source": [
    "no_listens_track_ids = list(events_track_ids - events_track_ids)\n",
    "print(\"Число треков, которые никто не слушал:\", len(no_listens_track_ids))\n",
    "print(\"Доля треков от всех треков, которые никто не слушал:\", len(no_listens_track_ids) / items.shape[0])"
   ]
  },
  {
   "cell_type": "code",
   "execution_count": 101,
   "id": "f5d8674f-967e-4700-85b1-8e3852a41947",
   "metadata": {},
   "outputs": [],
   "source": [
    "# Все слушались хотя бы раз"
   ]
  },
  {
   "cell_type": "markdown",
   "id": "0d850a07-ef1e-462f-891a-1cf89f2e24ef",
   "metadata": {
    "pycharm": {
     "name": "#%% md\n"
    }
   },
   "source": [
    "# Преобразование данных"
   ]
  },
  {
   "cell_type": "markdown",
   "id": "fabcf8d2-1192-4df5-b20b-fbb84689f57a",
   "metadata": {
    "pycharm": {
     "name": "#%% md\n"
    }
   },
   "source": [
    "Преобразуем данные в формат, более пригодный для дальнейшего использования в расчётах рекомендаций."
   ]
  },
  {
   "cell_type": "markdown",
   "id": "489df832-a062-4066-9e68-ec4954b81bb7",
   "metadata": {
    "pycharm": {
     "name": "#%%\n"
    }
   },
   "source": [
    "### Items"
   ]
  },
  {
   "cell_type": "code",
   "execution_count": 102,
   "id": "567789ff-e59c-41e1-9abc-fa14f5b52131",
   "metadata": {},
   "outputs": [
    {
     "data": {
      "text/html": [
       "<div>\n",
       "<style scoped>\n",
       "    .dataframe tbody tr th:only-of-type {\n",
       "        vertical-align: middle;\n",
       "    }\n",
       "\n",
       "    .dataframe tbody tr th {\n",
       "        vertical-align: top;\n",
       "    }\n",
       "\n",
       "    .dataframe thead th {\n",
       "        text-align: right;\n",
       "    }\n",
       "</style>\n",
       "<table border=\"1\" class=\"dataframe\">\n",
       "  <thead>\n",
       "    <tr style=\"text-align: right;\">\n",
       "      <th></th>\n",
       "      <th>track_id</th>\n",
       "      <th>track</th>\n",
       "      <th>artist</th>\n",
       "      <th>album</th>\n",
       "      <th>genre</th>\n",
       "    </tr>\n",
       "  </thead>\n",
       "  <tbody>\n",
       "    <tr>\n",
       "      <th>0</th>\n",
       "      <td>26</td>\n",
       "      <td>Complimentary Me</td>\n",
       "      <td>Elizabeth &amp; the Catapult</td>\n",
       "      <td>Taller Children</td>\n",
       "      <td>pop</td>\n",
       "    </tr>\n",
       "    <tr>\n",
       "      <th>4</th>\n",
       "      <td>38</td>\n",
       "      <td>Momma's Boy</td>\n",
       "      <td>Elizabeth &amp; the Catapult</td>\n",
       "      <td>Taller Children</td>\n",
       "      <td>pop</td>\n",
       "    </tr>\n",
       "    <tr>\n",
       "      <th>8</th>\n",
       "      <td>135</td>\n",
       "      <td>Atticus</td>\n",
       "      <td>Noisettes</td>\n",
       "      <td>Wild Young Hearts</td>\n",
       "      <td>pop</td>\n",
       "    </tr>\n",
       "    <tr>\n",
       "      <th>11</th>\n",
       "      <td>136</td>\n",
       "      <td>24 Hours</td>\n",
       "      <td>Noisettes</td>\n",
       "      <td>Wild Young Hearts</td>\n",
       "      <td>pop</td>\n",
       "    </tr>\n",
       "    <tr>\n",
       "      <th>14</th>\n",
       "      <td>138</td>\n",
       "      <td>Don't Upset The Rhythm (Go Baby Go)</td>\n",
       "      <td>Noisettes</td>\n",
       "      <td>Wild Young Hearts</td>\n",
       "      <td>pop</td>\n",
       "    </tr>\n",
       "  </tbody>\n",
       "</table>\n",
       "</div>"
      ],
      "text/plain": [
       "    track_id                                track                    artist  \\\n",
       "0         26                     Complimentary Me  Elizabeth & the Catapult   \n",
       "4         38                          Momma's Boy  Elizabeth & the Catapult   \n",
       "8        135                              Atticus                 Noisettes   \n",
       "11       136                             24 Hours                 Noisettes   \n",
       "14       138  Don't Upset The Rhythm (Go Baby Go)                 Noisettes   \n",
       "\n",
       "                album genre  \n",
       "0     Taller Children   pop  \n",
       "4     Taller Children   pop  \n",
       "8   Wild Young Hearts   pop  \n",
       "11  Wild Young Hearts   pop  \n",
       "14  Wild Young Hearts   pop  "
      ]
     },
     "execution_count": 102,
     "metadata": {},
     "output_type": "execute_result"
    }
   ],
   "source": [
    "items.head(5)"
   ]
  },
  {
   "cell_type": "code",
   "execution_count": 103,
   "id": "15fa8dbd-25a7-4c52-8db9-a44dab83a5c0",
   "metadata": {},
   "outputs": [
    {
     "data": {
      "text/html": [
       "<div>\n",
       "<style scoped>\n",
       "    .dataframe tbody tr th:only-of-type {\n",
       "        vertical-align: middle;\n",
       "    }\n",
       "\n",
       "    .dataframe tbody tr th {\n",
       "        vertical-align: top;\n",
       "    }\n",
       "\n",
       "    .dataframe thead th {\n",
       "        text-align: right;\n",
       "    }\n",
       "</style>\n",
       "<table border=\"1\" class=\"dataframe\">\n",
       "  <thead>\n",
       "    <tr style=\"text-align: right;\">\n",
       "      <th></th>\n",
       "      <th>track_id</th>\n",
       "      <th>track</th>\n",
       "      <th>artist</th>\n",
       "      <th>album</th>\n",
       "      <th>genre</th>\n",
       "    </tr>\n",
       "  </thead>\n",
       "  <tbody>\n",
       "    <tr>\n",
       "      <th>0</th>\n",
       "      <td>26</td>\n",
       "      <td>Complimentary Me</td>\n",
       "      <td>Elizabeth &amp; the Catapult</td>\n",
       "      <td>Taller Children</td>\n",
       "      <td>pop</td>\n",
       "    </tr>\n",
       "    <tr>\n",
       "      <th>1</th>\n",
       "      <td>38</td>\n",
       "      <td>Momma's Boy</td>\n",
       "      <td>Elizabeth &amp; the Catapult</td>\n",
       "      <td>Taller Children</td>\n",
       "      <td>pop</td>\n",
       "    </tr>\n",
       "    <tr>\n",
       "      <th>2</th>\n",
       "      <td>135</td>\n",
       "      <td>Atticus</td>\n",
       "      <td>Noisettes</td>\n",
       "      <td>Wild Young Hearts</td>\n",
       "      <td>pop</td>\n",
       "    </tr>\n",
       "    <tr>\n",
       "      <th>3</th>\n",
       "      <td>136</td>\n",
       "      <td>24 Hours</td>\n",
       "      <td>Noisettes</td>\n",
       "      <td>Wild Young Hearts</td>\n",
       "      <td>pop</td>\n",
       "    </tr>\n",
       "    <tr>\n",
       "      <th>4</th>\n",
       "      <td>138</td>\n",
       "      <td>Don't Upset The Rhythm (Go Baby Go)</td>\n",
       "      <td>Noisettes</td>\n",
       "      <td>Wild Young Hearts</td>\n",
       "      <td>pop</td>\n",
       "    </tr>\n",
       "  </tbody>\n",
       "</table>\n",
       "</div>"
      ],
      "text/plain": [
       "   track_id                                track                    artist  \\\n",
       "0        26                     Complimentary Me  Elizabeth & the Catapult   \n",
       "1        38                          Momma's Boy  Elizabeth & the Catapult   \n",
       "2       135                              Atticus                 Noisettes   \n",
       "3       136                             24 Hours                 Noisettes   \n",
       "4       138  Don't Upset The Rhythm (Go Baby Go)                 Noisettes   \n",
       "\n",
       "               album genre  \n",
       "0    Taller Children   pop  \n",
       "1    Taller Children   pop  \n",
       "2  Wild Young Hearts   pop  \n",
       "3  Wild Young Hearts   pop  \n",
       "4  Wild Young Hearts   pop  "
      ]
     },
     "execution_count": 103,
     "metadata": {},
     "output_type": "execute_result"
    }
   ],
   "source": [
    "items = items.reset_index(drop=True)\n",
    "items.head(5)"
   ]
  },
  {
   "cell_type": "code",
   "execution_count": 104,
   "id": "24b5af3d-df87-4c41-9622-79845866d95e",
   "metadata": {},
   "outputs": [
    {
     "data": {
      "text/html": [
       "<div>\n",
       "<style scoped>\n",
       "    .dataframe tbody tr th:only-of-type {\n",
       "        vertical-align: middle;\n",
       "    }\n",
       "\n",
       "    .dataframe tbody tr th {\n",
       "        vertical-align: top;\n",
       "    }\n",
       "\n",
       "    .dataframe thead th {\n",
       "        text-align: right;\n",
       "    }\n",
       "</style>\n",
       "<table border=\"1\" class=\"dataframe\">\n",
       "  <thead>\n",
       "    <tr style=\"text-align: right;\">\n",
       "      <th></th>\n",
       "      <th>track_id</th>\n",
       "      <th>track</th>\n",
       "      <th>artist</th>\n",
       "      <th>album</th>\n",
       "      <th>genre</th>\n",
       "      <th>track_id_enc</th>\n",
       "    </tr>\n",
       "  </thead>\n",
       "  <tbody>\n",
       "    <tr>\n",
       "      <th>0</th>\n",
       "      <td>26</td>\n",
       "      <td>Complimentary Me</td>\n",
       "      <td>Elizabeth &amp; the Catapult</td>\n",
       "      <td>Taller Children</td>\n",
       "      <td>pop</td>\n",
       "      <td>0</td>\n",
       "    </tr>\n",
       "    <tr>\n",
       "      <th>1</th>\n",
       "      <td>38</td>\n",
       "      <td>Momma's Boy</td>\n",
       "      <td>Elizabeth &amp; the Catapult</td>\n",
       "      <td>Taller Children</td>\n",
       "      <td>pop</td>\n",
       "      <td>1</td>\n",
       "    </tr>\n",
       "    <tr>\n",
       "      <th>2</th>\n",
       "      <td>135</td>\n",
       "      <td>Atticus</td>\n",
       "      <td>Noisettes</td>\n",
       "      <td>Wild Young Hearts</td>\n",
       "      <td>pop</td>\n",
       "      <td>2</td>\n",
       "    </tr>\n",
       "    <tr>\n",
       "      <th>3</th>\n",
       "      <td>136</td>\n",
       "      <td>24 Hours</td>\n",
       "      <td>Noisettes</td>\n",
       "      <td>Wild Young Hearts</td>\n",
       "      <td>pop</td>\n",
       "      <td>3</td>\n",
       "    </tr>\n",
       "    <tr>\n",
       "      <th>4</th>\n",
       "      <td>138</td>\n",
       "      <td>Don't Upset The Rhythm (Go Baby Go)</td>\n",
       "      <td>Noisettes</td>\n",
       "      <td>Wild Young Hearts</td>\n",
       "      <td>pop</td>\n",
       "      <td>4</td>\n",
       "    </tr>\n",
       "  </tbody>\n",
       "</table>\n",
       "</div>"
      ],
      "text/plain": [
       "   track_id                                track                    artist  \\\n",
       "0        26                     Complimentary Me  Elizabeth & the Catapult   \n",
       "1        38                          Momma's Boy  Elizabeth & the Catapult   \n",
       "2       135                              Atticus                 Noisettes   \n",
       "3       136                             24 Hours                 Noisettes   \n",
       "4       138  Don't Upset The Rhythm (Go Baby Go)                 Noisettes   \n",
       "\n",
       "               album genre  track_id_enc  \n",
       "0    Taller Children   pop             0  \n",
       "1    Taller Children   pop             1  \n",
       "2  Wild Young Hearts   pop             2  \n",
       "3  Wild Young Hearts   pop             3  \n",
       "4  Wild Young Hearts   pop             4  "
      ]
     },
     "execution_count": 104,
     "metadata": {},
     "output_type": "execute_result"
    }
   ],
   "source": [
    "# Закодируем track_id с 0\n",
    "items_enc = LabelEncoder()\n",
    "items_enc.fit(items[\"track_id\"])\n",
    "items[\"track_id_enc\"] = items_enc.transform(items[\"track_id\"])\n",
    "items.head()"
   ]
  },
  {
   "cell_type": "code",
   "execution_count": 105,
   "id": "f43a0bfd-b8bb-41a7-89c5-a42db4f021e3",
   "metadata": {},
   "outputs": [
    {
     "data": {
      "text/plain": [
       "(0, 999999)"
      ]
     },
     "execution_count": 105,
     "metadata": {},
     "output_type": "execute_result"
    }
   ],
   "source": [
    "items[\"track_id_enc\"].min(), items[\"track_id_enc\"].max()"
   ]
  },
  {
   "cell_type": "code",
   "execution_count": 106,
   "id": "01b1baf6-233f-4884-b4f8-339afd1cb124",
   "metadata": {},
   "outputs": [],
   "source": [
    "# Сохраняем кодировщик"
   ]
  },
  {
   "cell_type": "code",
   "execution_count": 109,
   "id": "de5a23e1-e2ca-45fb-898d-816287293eb6",
   "metadata": {},
   "outputs": [],
   "source": [
    "with open(\"item_enc.pkl\", \"wb\") as fd:\n",
    "        joblib.dump(items_enc, fd)"
   ]
  },
  {
   "cell_type": "code",
   "execution_count": 110,
   "id": "66e8c2ba-c9b2-4171-96a3-fcde50447794",
   "metadata": {},
   "outputs": [
    {
     "name": "stdout",
     "output_type": "stream",
     "text": [
      "<class 'pandas.core.frame.DataFrame'>\n",
      "RangeIndex: 1000000 entries, 0 to 999999\n",
      "Data columns (total 6 columns):\n",
      " #   Column        Non-Null Count    Dtype \n",
      "---  ------        --------------    ----- \n",
      " 0   track_id      1000000 non-null  int32 \n",
      " 1   track         1000000 non-null  object\n",
      " 2   artist        984631 non-null   object\n",
      " 3   album         999982 non-null   object\n",
      " 4   genre         996306 non-null   object\n",
      " 5   track_id_enc  1000000 non-null  int64 \n",
      "dtypes: int32(1), int64(1), object(4)\n",
      "memory usage: 320.4 MB\n"
     ]
    }
   ],
   "source": [
    "# посмотрим что по памяти\n",
    "items.info(memory_usage=\"deep\")"
   ]
  },
  {
   "cell_type": "code",
   "execution_count": 111,
   "id": "9758e478-06a0-49b1-ade9-00ffee38071d",
   "metadata": {},
   "outputs": [],
   "source": [
    "# int 64 -> int 32"
   ]
  },
  {
   "cell_type": "code",
   "execution_count": 112,
   "id": "7d2c6852-a897-4953-b311-6284db247044",
   "metadata": {},
   "outputs": [],
   "source": [
    "items[\"track_id_enc\"] = items[\"track_id_enc\"].astype(\"int32\")"
   ]
  },
  {
   "cell_type": "code",
   "execution_count": 113,
   "id": "d67df3d6-6e5f-4db3-b85c-288983e93318",
   "metadata": {},
   "outputs": [
    {
     "name": "stdout",
     "output_type": "stream",
     "text": [
      "<class 'pandas.core.frame.DataFrame'>\n",
      "RangeIndex: 1000000 entries, 0 to 999999\n",
      "Data columns (total 6 columns):\n",
      " #   Column        Non-Null Count    Dtype \n",
      "---  ------        --------------    ----- \n",
      " 0   track_id      1000000 non-null  int32 \n",
      " 1   track         1000000 non-null  object\n",
      " 2   artist        984631 non-null   object\n",
      " 3   album         999982 non-null   object\n",
      " 4   genre         996306 non-null   object\n",
      " 5   track_id_enc  1000000 non-null  int32 \n",
      "dtypes: int32(2), object(4)\n",
      "memory usage: 316.6 MB\n"
     ]
    }
   ],
   "source": [
    "items.info(memory_usage=\"deep\")"
   ]
  },
  {
   "cell_type": "code",
   "execution_count": 114,
   "id": "fa71fcc2-719f-41bd-958b-dd05e1c43006",
   "metadata": {},
   "outputs": [],
   "source": [
    "# немного, но все же"
   ]
  },
  {
   "cell_type": "markdown",
   "id": "4c11eeee-92cc-4602-b020-06a60ef3063f",
   "metadata": {},
   "source": [
    "### Events"
   ]
  },
  {
   "cell_type": "code",
   "execution_count": 115,
   "id": "d188ab17-229a-4bca-9be6-3a8570d1d759",
   "metadata": {},
   "outputs": [
    {
     "name": "stdout",
     "output_type": "stream",
     "text": [
      "<class 'pandas.core.frame.DataFrame'>\n",
      "RangeIndex: 222629898 entries, 0 to 222629897\n",
      "Data columns (total 6 columns):\n",
      " #   Column      Dtype         \n",
      "---  ------      -----         \n",
      " 0   user_id     int32         \n",
      " 1   track_id    int32         \n",
      " 2   started_at  datetime64[ns]\n",
      " 3   month       int32         \n",
      " 4   track       object        \n",
      " 5   genre       object        \n",
      "dtypes: datetime64[ns](1), int32(3), object(2)\n",
      "memory usage: 7.5+ GB\n"
     ]
    }
   ],
   "source": [
    "events.info()"
   ]
  },
  {
   "cell_type": "code",
   "execution_count": 116,
   "id": "e77b8082-e940-4e29-922d-0bde99f3b68b",
   "metadata": {},
   "outputs": [],
   "source": [
    "# многовато, можно срезать по пользователям, но попробую сделать на всех событиях"
   ]
  },
  {
   "cell_type": "code",
   "execution_count": 117,
   "id": "bc8df819-bf47-4152-ba56-831940e452f1",
   "metadata": {},
   "outputs": [
    {
     "data": {
      "text/plain": [
       "user_id            0\n",
       "track_id           0\n",
       "started_at         0\n",
       "month              0\n",
       "track              0\n",
       "genre         159631\n",
       "dtype: int64"
      ]
     },
     "execution_count": 117,
     "metadata": {},
     "output_type": "execute_result"
    }
   ],
   "source": [
    "events.isna().sum()"
   ]
  },
  {
   "cell_type": "code",
   "execution_count": 119,
   "id": "a67b18ab-b8bc-46e3-9eed-2c947a36d27a",
   "metadata": {},
   "outputs": [
    {
     "data": {
      "text/html": [
       "<div>\n",
       "<style scoped>\n",
       "    .dataframe tbody tr th:only-of-type {\n",
       "        vertical-align: middle;\n",
       "    }\n",
       "\n",
       "    .dataframe tbody tr th {\n",
       "        vertical-align: top;\n",
       "    }\n",
       "\n",
       "    .dataframe thead th {\n",
       "        text-align: right;\n",
       "    }\n",
       "</style>\n",
       "<table border=\"1\" class=\"dataframe\">\n",
       "  <thead>\n",
       "    <tr style=\"text-align: right;\">\n",
       "      <th></th>\n",
       "      <th>user_id</th>\n",
       "      <th>track_id</th>\n",
       "      <th>started_at</th>\n",
       "      <th>month</th>\n",
       "      <th>track</th>\n",
       "      <th>genre</th>\n",
       "    </tr>\n",
       "  </thead>\n",
       "  <tbody>\n",
       "    <tr>\n",
       "      <th>0</th>\n",
       "      <td>0</td>\n",
       "      <td>99262</td>\n",
       "      <td>2022-07-17</td>\n",
       "      <td>7</td>\n",
       "      <td>Bad Bad Boys</td>\n",
       "      <td>pop</td>\n",
       "    </tr>\n",
       "    <tr>\n",
       "      <th>1</th>\n",
       "      <td>0</td>\n",
       "      <td>589498</td>\n",
       "      <td>2022-07-19</td>\n",
       "      <td>7</td>\n",
       "      <td>Чао, бамбино</td>\n",
       "      <td>pop</td>\n",
       "    </tr>\n",
       "    <tr>\n",
       "      <th>2</th>\n",
       "      <td>0</td>\n",
       "      <td>590262</td>\n",
       "      <td>2022-07-21</td>\n",
       "      <td>7</td>\n",
       "      <td>Бомбей буги</td>\n",
       "      <td>pop</td>\n",
       "    </tr>\n",
       "    <tr>\n",
       "      <th>3</th>\n",
       "      <td>0</td>\n",
       "      <td>590303</td>\n",
       "      <td>2022-07-22</td>\n",
       "      <td>7</td>\n",
       "      <td>Bad Russians</td>\n",
       "      <td>pop</td>\n",
       "    </tr>\n",
       "    <tr>\n",
       "      <th>4</th>\n",
       "      <td>0</td>\n",
       "      <td>590692</td>\n",
       "      <td>2022-07-22</td>\n",
       "      <td>7</td>\n",
       "      <td>Великий инквизитор</td>\n",
       "      <td>pop</td>\n",
       "    </tr>\n",
       "  </tbody>\n",
       "</table>\n",
       "</div>"
      ],
      "text/plain": [
       "   user_id  track_id started_at  month               track genre\n",
       "0        0     99262 2022-07-17      7        Bad Bad Boys   pop\n",
       "1        0    589498 2022-07-19      7        Чао, бамбино   pop\n",
       "2        0    590262 2022-07-21      7         Бомбей буги   pop\n",
       "3        0    590303 2022-07-22      7        Bad Russians   pop\n",
       "4        0    590692 2022-07-22      7  Великий инквизитор   pop"
      ]
     },
     "execution_count": 119,
     "metadata": {},
     "output_type": "execute_result"
    }
   ],
   "source": [
    "events.head(5)"
   ]
  },
  {
   "cell_type": "code",
   "execution_count": 120,
   "id": "aa0aa752-4e9b-4c9e-8c3d-f45ae661ad79",
   "metadata": {},
   "outputs": [],
   "source": [
    "# удалим приджойнненые колонки, потом если что вернем по справочникам"
   ]
  },
  {
   "cell_type": "code",
   "execution_count": 121,
   "id": "79a37dd3-41e6-4024-9e0b-922a672ad8be",
   "metadata": {},
   "outputs": [],
   "source": [
    "events.drop(columns=['month','track','genre'], inplace=True)"
   ]
  },
  {
   "cell_type": "code",
   "execution_count": 123,
   "id": "b5a70c9b-e4ce-43d7-acb4-91a77cb5c261",
   "metadata": {},
   "outputs": [
    {
     "data": {
      "text/html": [
       "<div>\n",
       "<style scoped>\n",
       "    .dataframe tbody tr th:only-of-type {\n",
       "        vertical-align: middle;\n",
       "    }\n",
       "\n",
       "    .dataframe tbody tr th {\n",
       "        vertical-align: top;\n",
       "    }\n",
       "\n",
       "    .dataframe thead th {\n",
       "        text-align: right;\n",
       "    }\n",
       "</style>\n",
       "<table border=\"1\" class=\"dataframe\">\n",
       "  <thead>\n",
       "    <tr style=\"text-align: right;\">\n",
       "      <th></th>\n",
       "      <th>user_id</th>\n",
       "      <th>track_id</th>\n",
       "      <th>started_at</th>\n",
       "    </tr>\n",
       "  </thead>\n",
       "  <tbody>\n",
       "    <tr>\n",
       "      <th>0</th>\n",
       "      <td>0</td>\n",
       "      <td>99262</td>\n",
       "      <td>2022-07-17</td>\n",
       "    </tr>\n",
       "    <tr>\n",
       "      <th>1</th>\n",
       "      <td>0</td>\n",
       "      <td>589498</td>\n",
       "      <td>2022-07-19</td>\n",
       "    </tr>\n",
       "    <tr>\n",
       "      <th>2</th>\n",
       "      <td>0</td>\n",
       "      <td>590262</td>\n",
       "      <td>2022-07-21</td>\n",
       "    </tr>\n",
       "    <tr>\n",
       "      <th>3</th>\n",
       "      <td>0</td>\n",
       "      <td>590303</td>\n",
       "      <td>2022-07-22</td>\n",
       "    </tr>\n",
       "    <tr>\n",
       "      <th>4</th>\n",
       "      <td>0</td>\n",
       "      <td>590692</td>\n",
       "      <td>2022-07-22</td>\n",
       "    </tr>\n",
       "  </tbody>\n",
       "</table>\n",
       "</div>"
      ],
      "text/plain": [
       "   user_id  track_id started_at\n",
       "0        0     99262 2022-07-17\n",
       "1        0    589498 2022-07-19\n",
       "2        0    590262 2022-07-21\n",
       "3        0    590303 2022-07-22\n",
       "4        0    590692 2022-07-22"
      ]
     },
     "execution_count": 123,
     "metadata": {},
     "output_type": "execute_result"
    }
   ],
   "source": [
    "events.head(5)"
   ]
  },
  {
   "cell_type": "code",
   "execution_count": 125,
   "id": "614cbd16-55d7-4358-b08d-da94f95f5713",
   "metadata": {},
   "outputs": [],
   "source": [
    "# закодируем user_id и применим кодировщик для track_id (уже готовый кодировщик)"
   ]
  },
  {
   "cell_type": "code",
   "execution_count": 127,
   "id": "ba70b3a7-eeaf-4574-a3b6-4d0dcf98386d",
   "metadata": {},
   "outputs": [
    {
     "data": {
      "text/html": [
       "<div>\n",
       "<style scoped>\n",
       "    .dataframe tbody tr th:only-of-type {\n",
       "        vertical-align: middle;\n",
       "    }\n",
       "\n",
       "    .dataframe tbody tr th {\n",
       "        vertical-align: top;\n",
       "    }\n",
       "\n",
       "    .dataframe thead th {\n",
       "        text-align: right;\n",
       "    }\n",
       "</style>\n",
       "<table border=\"1\" class=\"dataframe\">\n",
       "  <thead>\n",
       "    <tr style=\"text-align: right;\">\n",
       "      <th></th>\n",
       "      <th>user_id</th>\n",
       "      <th>track_id</th>\n",
       "      <th>started_at</th>\n",
       "      <th>user_id_encoded</th>\n",
       "      <th>track_id_enc</th>\n",
       "    </tr>\n",
       "  </thead>\n",
       "  <tbody>\n",
       "    <tr>\n",
       "      <th>0</th>\n",
       "      <td>0</td>\n",
       "      <td>99262</td>\n",
       "      <td>2022-07-17</td>\n",
       "      <td>0</td>\n",
       "      <td>16078</td>\n",
       "    </tr>\n",
       "    <tr>\n",
       "      <th>1</th>\n",
       "      <td>0</td>\n",
       "      <td>589498</td>\n",
       "      <td>2022-07-19</td>\n",
       "      <td>0</td>\n",
       "      <td>60661</td>\n",
       "    </tr>\n",
       "    <tr>\n",
       "      <th>2</th>\n",
       "      <td>0</td>\n",
       "      <td>590262</td>\n",
       "      <td>2022-07-21</td>\n",
       "      <td>0</td>\n",
       "      <td>61135</td>\n",
       "    </tr>\n",
       "    <tr>\n",
       "      <th>3</th>\n",
       "      <td>0</td>\n",
       "      <td>590303</td>\n",
       "      <td>2022-07-22</td>\n",
       "      <td>0</td>\n",
       "      <td>61158</td>\n",
       "    </tr>\n",
       "    <tr>\n",
       "      <th>4</th>\n",
       "      <td>0</td>\n",
       "      <td>590692</td>\n",
       "      <td>2022-07-22</td>\n",
       "      <td>0</td>\n",
       "      <td>61386</td>\n",
       "    </tr>\n",
       "  </tbody>\n",
       "</table>\n",
       "</div>"
      ],
      "text/plain": [
       "   user_id  track_id started_at  user_id_encoded  track_id_enc\n",
       "0        0     99262 2022-07-17                0         16078\n",
       "1        0    589498 2022-07-19                0         60661\n",
       "2        0    590262 2022-07-21                0         61135\n",
       "3        0    590303 2022-07-22                0         61158\n",
       "4        0    590692 2022-07-22                0         61386"
      ]
     },
     "execution_count": 127,
     "metadata": {},
     "output_type": "execute_result"
    }
   ],
   "source": [
    "user_enc = LabelEncoder()\n",
    "user_enc.fit(events[\"user_id\"])\n",
    "events[\"user_id_encoded\"] = user_enc.transform(events[\"user_id\"])\n",
    "events[\"track_id_enc\"] = items_enc.transform(events[\"track_id\"])\n",
    "events.head()"
   ]
  },
  {
   "cell_type": "code",
   "execution_count": 129,
   "id": "2285cb49-64ca-4e4b-a443-b00185aa5a90",
   "metadata": {},
   "outputs": [],
   "source": [
    "with open(\"user_enc.pkl\", \"wb\") as fd:\n",
    "        joblib.dump(user_enc, fd)"
   ]
  },
  {
   "cell_type": "markdown",
   "id": "4d1be653-eed8-4fa0-a9c5-3811b080d71d",
   "metadata": {
    "pycharm": {
     "name": "#%% md\n"
    }
   },
   "source": [
    "# Сохранение данных"
   ]
  },
  {
   "cell_type": "markdown",
   "id": "36f1314a-3af3-4faf-a0b1-3045173d1500",
   "metadata": {
    "pycharm": {
     "name": "#%% md\n"
    }
   },
   "source": [
    "Сохраним данные в двух файлах в персональном S3-бакете по пути `recsys/data/`:\n",
    "- `items.parquet` — все данные о музыкальных треках,\n",
    "- `events.parquet` — все данные о взаимодействиях."
   ]
  },
  {
   "cell_type": "code",
   "execution_count": 180,
   "id": "9f77af17-7705-4fae-9aad-db579b39faad",
   "metadata": {
    "pycharm": {
     "name": "#%%\n"
    }
   },
   "outputs": [],
   "source": [
    "import boto3\n",
    "import os\n",
    "from dotenv import load_dotenv\n",
    "\n",
    "load_dotenv(override=True)\n",
    "\n",
    "def check_creds():\n",
    "    print(os.getenv('S3_URL'))"
   ]
  },
  {
   "cell_type": "code",
   "execution_count": 181,
   "id": "51bf07f8-c072-47cf-8f5d-5b15ee544707",
   "metadata": {},
   "outputs": [
    {
     "name": "stdout",
     "output_type": "stream",
     "text": [
      "https://storage.yandexcloud.net\n"
     ]
    }
   ],
   "source": [
    "check_creds()"
   ]
  },
  {
   "cell_type": "code",
   "execution_count": 182,
   "id": "a2f5f29a-c617-44c8-987b-38125bf99ca6",
   "metadata": {},
   "outputs": [],
   "source": [
    "session = boto3.session.Session()\n",
    "\n",
    "s3_client = session.client(\n",
    "    service_name='s3',\n",
    "    aws_access_key_id=os.getenv('AWS_ACCESS_KEY_ID'),\n",
    "    aws_secret_access_key=os.getenv('AWS_SECRET_ACCESS_KEY'),\n",
    "    endpoint_url=os.getenv('S3_URL')\n",
    ")"
   ]
  },
  {
   "cell_type": "code",
   "execution_count": 188,
   "id": "ce39535a-f161-49cc-ad53-e961e6d3685e",
   "metadata": {},
   "outputs": [
    {
     "data": {
      "text/plain": [
       "{'ResponseMetadata': {'RequestId': '0b69901ae10a3050',\n",
       "  'HostId': '',\n",
       "  'HTTPStatusCode': 200,\n",
       "  'HTTPHeaders': {'server': 'nginx',\n",
       "   'date': 'Sun, 06 Jul 2025 05:33:39 GMT',\n",
       "   'content-type': 'application/xml; charset=UTF-8',\n",
       "   'content-length': '621',\n",
       "   'connection': 'keep-alive',\n",
       "   'keep-alive': 'timeout=60',\n",
       "   'x-amz-request-id': '0b69901ae10a3050'},\n",
       "  'RetryAttempts': 0},\n",
       " 'IsTruncated': False,\n",
       " 'Marker': '',\n",
       " 'Contents': [{'Key': 'test/tracks.parquet',\n",
       "   'LastModified': datetime.datetime(2025, 7, 6, 5, 32, 28, 839000, tzinfo=tzutc()),\n",
       "   'ETag': '\"6b7032500954d5ba6e545bb7463d60f2-3\"',\n",
       "   'Size': 18938128,\n",
       "   'StorageClass': 'STANDARD',\n",
       "   'Owner': {'DisplayName': 'ajeq26s98m0ssapaa27m',\n",
       "    'ID': 'ajeq26s98m0ssapaa27m'}}],\n",
       " 'Name': 's3-student-mle-20240822-bf0f64ea21',\n",
       " 'Prefix': '',\n",
       " 'MaxKeys': 1000,\n",
       " 'EncodingType': 'url'}"
      ]
     },
     "execution_count": 188,
     "metadata": {},
     "output_type": "execute_result"
    }
   ],
   "source": [
    "s3_client.list_objects(Bucket=os.getenv('S3_BUCKET_NAME'), Prefix='')"
   ]
  },
  {
   "cell_type": "code",
   "execution_count": 190,
   "id": "56b884b3-c14c-4371-a691-26a4af0b2e1e",
   "metadata": {},
   "outputs": [],
   "source": [
    "os.mkdir('data')"
   ]
  },
  {
   "cell_type": "code",
   "execution_count": 191,
   "id": "b3b1aa27-d89f-4aeb-9b47-39e68602b70a",
   "metadata": {},
   "outputs": [],
   "source": [
    "items.to_parquet(\"data/items.parquet\")\n",
    "events.to_parquet(\"data/events.parquet\")"
   ]
  },
  {
   "cell_type": "code",
   "execution_count": 192,
   "id": "eb04e385-dfc9-479d-aaf6-3cf49ccd0d8a",
   "metadata": {},
   "outputs": [],
   "source": [
    "path = 'recsys/data/'"
   ]
  },
  {
   "cell_type": "code",
   "execution_count": 195,
   "id": "b983724d-f537-4889-b107-f1bd43363510",
   "metadata": {},
   "outputs": [],
   "source": [
    "s3_client.upload_file(Bucket=os.getenv('S3_BUCKET_NAME'), Filename='data/items.parquet', Key=path + 'items.parquet')"
   ]
  },
  {
   "cell_type": "code",
   "execution_count": 196,
   "id": "05b544e6-6adf-4477-bc4e-39b7c00b1c59",
   "metadata": {},
   "outputs": [],
   "source": [
    "s3_client.upload_file(Bucket=os.getenv('S3_BUCKET_NAME'), Filename='data/events.parquet', Key=path + 'events.parquet')"
   ]
  },
  {
   "cell_type": "code",
   "execution_count": 197,
   "id": "05a49f1f-bb89-4dae-b78f-218c47f38b1e",
   "metadata": {},
   "outputs": [
    {
     "data": {
      "text/plain": [
       "{'ResponseMetadata': {'RequestId': 'c44d19288c724bf3',\n",
       "  'HostId': '',\n",
       "  'HTTPStatusCode': 200,\n",
       "  'HTTPHeaders': {'server': 'nginx',\n",
       "   'date': 'Sun, 06 Jul 2025 05:48:02 GMT',\n",
       "   'content-type': 'application/xml; charset=UTF-8',\n",
       "   'content-length': '987',\n",
       "   'connection': 'keep-alive',\n",
       "   'keep-alive': 'timeout=60',\n",
       "   'x-amz-request-id': 'c44d19288c724bf3'},\n",
       "  'RetryAttempts': 0},\n",
       " 'IsTruncated': False,\n",
       " 'Marker': '',\n",
       " 'Contents': [{'Key': 'recsys/data/events.parquet',\n",
       "   'LastModified': datetime.datetime(2025, 7, 6, 5, 48, 2, 314000, tzinfo=tzutc()),\n",
       "   'ETag': '\"6fdb038c0823d5497c27bef71723d4ba-221\"',\n",
       "   'Size': 1853410180,\n",
       "   'StorageClass': 'STANDARD',\n",
       "   'Owner': {'DisplayName': 'ajeq26s98m0ssapaa27m',\n",
       "    'ID': 'ajeq26s98m0ssapaa27m'}},\n",
       "  {'Key': 'recsys/data/items.parquet',\n",
       "   'LastModified': datetime.datetime(2025, 7, 6, 5, 43, 26, 74000, tzinfo=tzutc()),\n",
       "   'ETag': '\"27788f900b38614b7e1214bc251c1b68-5\"',\n",
       "   'Size': 37600409,\n",
       "   'StorageClass': 'STANDARD',\n",
       "   'Owner': {'DisplayName': 'ajeq26s98m0ssapaa27m',\n",
       "    'ID': 'ajeq26s98m0ssapaa27m'}}],\n",
       " 'Name': 's3-student-mle-20240822-bf0f64ea21',\n",
       " 'Prefix': 'recsys%2Fdata%2F',\n",
       " 'MaxKeys': 1000,\n",
       " 'EncodingType': 'url'}"
      ]
     },
     "execution_count": 197,
     "metadata": {},
     "output_type": "execute_result"
    }
   ],
   "source": [
    "s3_client.list_objects(Bucket=os.getenv('S3_BUCKET_NAME'), Prefix=path)"
   ]
  },
  {
   "cell_type": "markdown",
   "id": "72ecbbed-c560-44d9-9c14-86c7dc76f399",
   "metadata": {
    "pycharm": {
     "name": "#%% md\n"
    }
   },
   "source": [
    "# Очистка памяти"
   ]
  },
  {
   "cell_type": "markdown",
   "id": "b5358ede-ba6e-4c4f-bd73-5b9344f0ba79",
   "metadata": {
    "pycharm": {
     "name": "#%% md\n"
    }
   },
   "source": [
    "Здесь, может понадобится очистка памяти для высвобождения ресурсов для выполнения кода ниже. \n",
    "\n",
    "Приведите соответствующие код, комментарии, например:\n",
    "- код для удаление более ненужных переменных,\n",
    "- комментарий, что следует перезапустить kernel, выполнить такие-то начальные секции и продолжить с этапа 3."
   ]
  },
  {
   "cell_type": "markdown",
   "id": "7022fb11-08c1-4175-82ae-8533db56093a",
   "metadata": {
    "pycharm": {
     "name": "#%%\n"
    }
   },
   "source": [
    "Просто перезапустим кернел и выполним самую первую ячейку с импортами"
   ]
  },
  {
   "cell_type": "markdown",
   "id": "708503df-ee89-4cf3-8489-093dc478e2a8",
   "metadata": {
    "pycharm": {
     "name": "#%% md\n"
    }
   },
   "source": [
    "# === ЭТАП 3 ==="
   ]
  },
  {
   "cell_type": "markdown",
   "id": "fd77de22-e10f-4b42-85c1-8fb6f805fe68",
   "metadata": {
    "pycharm": {
     "name": "#%% md\n"
    }
   },
   "source": [
    "# Загрузка данных"
   ]
  },
  {
   "cell_type": "markdown",
   "id": "780a4241-1ecd-4a3e-bbb3-fc2f6ca94f68",
   "metadata": {
    "pycharm": {
     "name": "#%% md\n"
    }
   },
   "source": [
    "Если необходимо, то загружаем items.parquet, events.parquet."
   ]
  },
  {
   "cell_type": "code",
   "execution_count": 2,
   "id": "f19fc8a5-bd2c-40d7-864a-ee75aca6d512",
   "metadata": {
    "pycharm": {
     "name": "#%%\n"
    }
   },
   "outputs": [],
   "source": [
    "items = pd.read_parquet(\"data/items.parquet\")\n",
    "events = pd.read_parquet(\"data/events.parquet\")"
   ]
  },
  {
   "cell_type": "code",
   "execution_count": 3,
   "id": "5db1e801-5845-4ce3-86f2-c2fa30f68cc5",
   "metadata": {
    "pycharm": {
     "name": "#%%\n"
    }
   },
   "outputs": [
    {
     "data": {
      "text/html": [
       "<div>\n",
       "<style scoped>\n",
       "    .dataframe tbody tr th:only-of-type {\n",
       "        vertical-align: middle;\n",
       "    }\n",
       "\n",
       "    .dataframe tbody tr th {\n",
       "        vertical-align: top;\n",
       "    }\n",
       "\n",
       "    .dataframe thead th {\n",
       "        text-align: right;\n",
       "    }\n",
       "</style>\n",
       "<table border=\"1\" class=\"dataframe\">\n",
       "  <thead>\n",
       "    <tr style=\"text-align: right;\">\n",
       "      <th></th>\n",
       "      <th>track_id</th>\n",
       "      <th>track</th>\n",
       "      <th>artist</th>\n",
       "      <th>album</th>\n",
       "      <th>genre</th>\n",
       "      <th>track_id_enc</th>\n",
       "    </tr>\n",
       "  </thead>\n",
       "  <tbody>\n",
       "    <tr>\n",
       "      <th>0</th>\n",
       "      <td>26</td>\n",
       "      <td>Complimentary Me</td>\n",
       "      <td>Elizabeth &amp; the Catapult</td>\n",
       "      <td>Taller Children</td>\n",
       "      <td>pop</td>\n",
       "      <td>0</td>\n",
       "    </tr>\n",
       "    <tr>\n",
       "      <th>1</th>\n",
       "      <td>38</td>\n",
       "      <td>Momma's Boy</td>\n",
       "      <td>Elizabeth &amp; the Catapult</td>\n",
       "      <td>Taller Children</td>\n",
       "      <td>pop</td>\n",
       "      <td>1</td>\n",
       "    </tr>\n",
       "    <tr>\n",
       "      <th>2</th>\n",
       "      <td>135</td>\n",
       "      <td>Atticus</td>\n",
       "      <td>Noisettes</td>\n",
       "      <td>Wild Young Hearts</td>\n",
       "      <td>pop</td>\n",
       "      <td>2</td>\n",
       "    </tr>\n",
       "    <tr>\n",
       "      <th>3</th>\n",
       "      <td>136</td>\n",
       "      <td>24 Hours</td>\n",
       "      <td>Noisettes</td>\n",
       "      <td>Wild Young Hearts</td>\n",
       "      <td>pop</td>\n",
       "      <td>3</td>\n",
       "    </tr>\n",
       "    <tr>\n",
       "      <th>4</th>\n",
       "      <td>138</td>\n",
       "      <td>Don't Upset The Rhythm (Go Baby Go)</td>\n",
       "      <td>Noisettes</td>\n",
       "      <td>Wild Young Hearts</td>\n",
       "      <td>pop</td>\n",
       "      <td>4</td>\n",
       "    </tr>\n",
       "  </tbody>\n",
       "</table>\n",
       "</div>"
      ],
      "text/plain": [
       "   track_id                                track                    artist  \\\n",
       "0        26                     Complimentary Me  Elizabeth & the Catapult   \n",
       "1        38                          Momma's Boy  Elizabeth & the Catapult   \n",
       "2       135                              Atticus                 Noisettes   \n",
       "3       136                             24 Hours                 Noisettes   \n",
       "4       138  Don't Upset The Rhythm (Go Baby Go)                 Noisettes   \n",
       "\n",
       "               album genre  track_id_enc  \n",
       "0    Taller Children   pop             0  \n",
       "1    Taller Children   pop             1  \n",
       "2  Wild Young Hearts   pop             2  \n",
       "3  Wild Young Hearts   pop             3  \n",
       "4  Wild Young Hearts   pop             4  "
      ]
     },
     "execution_count": 3,
     "metadata": {},
     "output_type": "execute_result"
    }
   ],
   "source": [
    "items.head(5)"
   ]
  },
  {
   "cell_type": "code",
   "execution_count": 4,
   "id": "425ba03c-2aa5-4702-903e-263afd8f33f5",
   "metadata": {},
   "outputs": [
    {
     "data": {
      "text/html": [
       "<div>\n",
       "<style scoped>\n",
       "    .dataframe tbody tr th:only-of-type {\n",
       "        vertical-align: middle;\n",
       "    }\n",
       "\n",
       "    .dataframe tbody tr th {\n",
       "        vertical-align: top;\n",
       "    }\n",
       "\n",
       "    .dataframe thead th {\n",
       "        text-align: right;\n",
       "    }\n",
       "</style>\n",
       "<table border=\"1\" class=\"dataframe\">\n",
       "  <thead>\n",
       "    <tr style=\"text-align: right;\">\n",
       "      <th></th>\n",
       "      <th>user_id</th>\n",
       "      <th>track_id</th>\n",
       "      <th>started_at</th>\n",
       "      <th>user_id_encoded</th>\n",
       "      <th>track_id_enc</th>\n",
       "    </tr>\n",
       "  </thead>\n",
       "  <tbody>\n",
       "    <tr>\n",
       "      <th>0</th>\n",
       "      <td>0</td>\n",
       "      <td>99262</td>\n",
       "      <td>2022-07-17</td>\n",
       "      <td>0</td>\n",
       "      <td>16078</td>\n",
       "    </tr>\n",
       "    <tr>\n",
       "      <th>1</th>\n",
       "      <td>0</td>\n",
       "      <td>589498</td>\n",
       "      <td>2022-07-19</td>\n",
       "      <td>0</td>\n",
       "      <td>60661</td>\n",
       "    </tr>\n",
       "    <tr>\n",
       "      <th>2</th>\n",
       "      <td>0</td>\n",
       "      <td>590262</td>\n",
       "      <td>2022-07-21</td>\n",
       "      <td>0</td>\n",
       "      <td>61135</td>\n",
       "    </tr>\n",
       "    <tr>\n",
       "      <th>3</th>\n",
       "      <td>0</td>\n",
       "      <td>590303</td>\n",
       "      <td>2022-07-22</td>\n",
       "      <td>0</td>\n",
       "      <td>61158</td>\n",
       "    </tr>\n",
       "    <tr>\n",
       "      <th>4</th>\n",
       "      <td>0</td>\n",
       "      <td>590692</td>\n",
       "      <td>2022-07-22</td>\n",
       "      <td>0</td>\n",
       "      <td>61386</td>\n",
       "    </tr>\n",
       "  </tbody>\n",
       "</table>\n",
       "</div>"
      ],
      "text/plain": [
       "   user_id  track_id started_at  user_id_encoded  track_id_enc\n",
       "0        0     99262 2022-07-17                0         16078\n",
       "1        0    589498 2022-07-19                0         60661\n",
       "2        0    590262 2022-07-21                0         61135\n",
       "3        0    590303 2022-07-22                0         61158\n",
       "4        0    590692 2022-07-22                0         61386"
      ]
     },
     "execution_count": 4,
     "metadata": {},
     "output_type": "execute_result"
    }
   ],
   "source": [
    "events.head(5)"
   ]
  },
  {
   "cell_type": "code",
   "execution_count": 5,
   "id": "0344c941-eef9-42bb-aaad-fe8af30b6b69",
   "metadata": {},
   "outputs": [],
   "source": [
    "with open(\"user_enc.pkl\", \"rb\") as fd:\n",
    "        user_encoder = joblib.load(fd)"
   ]
  },
  {
   "cell_type": "code",
   "execution_count": 6,
   "id": "96745eb8-93a8-4c0a-90de-46827378db40",
   "metadata": {},
   "outputs": [],
   "source": [
    "with open(\"item_enc.pkl\", \"rb\") as fd:\n",
    "    item_encoder = joblib.load(fd)"
   ]
  },
  {
   "cell_type": "markdown",
   "id": "a694c023-6477-490b-939d-1cfa6f5f1b72",
   "metadata": {
    "pycharm": {
     "name": "#%% md\n"
    }
   },
   "source": [
    "# Разбиение данных"
   ]
  },
  {
   "cell_type": "markdown",
   "id": "fbd5f6e0-54e7-4428-8678-eabce505d82c",
   "metadata": {
    "pycharm": {
     "name": "#%% md\n"
    }
   },
   "source": [
    "Разбиваем данные на тренировочную, тестовую выборки."
   ]
  },
  {
   "cell_type": "code",
   "execution_count": 7,
   "id": "00c2dfa5-d8a2-47d1-922e-6eefee2c62d1",
   "metadata": {
    "pycharm": {
     "name": "#%%\n"
    }
   },
   "outputs": [],
   "source": [
    "# сначала нужно ввести целевую переменную ~ рейтинг, сделаем нормальзованное количество прослушеваний от максимального в границах [0:1]"
   ]
  },
  {
   "cell_type": "code",
   "execution_count": 8,
   "id": "973414ee-8517-46db-a3c7-67c07f1387cc",
   "metadata": {},
   "outputs": [
    {
     "data": {
      "text/html": [
       "<div>\n",
       "<style scoped>\n",
       "    .dataframe tbody tr th:only-of-type {\n",
       "        vertical-align: middle;\n",
       "    }\n",
       "\n",
       "    .dataframe tbody tr th {\n",
       "        vertical-align: top;\n",
       "    }\n",
       "\n",
       "    .dataframe thead th {\n",
       "        text-align: right;\n",
       "    }\n",
       "</style>\n",
       "<table border=\"1\" class=\"dataframe\">\n",
       "  <thead>\n",
       "    <tr style=\"text-align: right;\">\n",
       "      <th></th>\n",
       "      <th>user_id</th>\n",
       "      <th>track_id</th>\n",
       "      <th>started_at</th>\n",
       "      <th>user_id_encoded</th>\n",
       "      <th>track_id_enc</th>\n",
       "    </tr>\n",
       "  </thead>\n",
       "  <tbody>\n",
       "    <tr>\n",
       "      <th>0</th>\n",
       "      <td>0</td>\n",
       "      <td>99262</td>\n",
       "      <td>2022-07-17</td>\n",
       "      <td>0</td>\n",
       "      <td>16078</td>\n",
       "    </tr>\n",
       "    <tr>\n",
       "      <th>1</th>\n",
       "      <td>0</td>\n",
       "      <td>589498</td>\n",
       "      <td>2022-07-19</td>\n",
       "      <td>0</td>\n",
       "      <td>60661</td>\n",
       "    </tr>\n",
       "    <tr>\n",
       "      <th>2</th>\n",
       "      <td>0</td>\n",
       "      <td>590262</td>\n",
       "      <td>2022-07-21</td>\n",
       "      <td>0</td>\n",
       "      <td>61135</td>\n",
       "    </tr>\n",
       "    <tr>\n",
       "      <th>3</th>\n",
       "      <td>0</td>\n",
       "      <td>590303</td>\n",
       "      <td>2022-07-22</td>\n",
       "      <td>0</td>\n",
       "      <td>61158</td>\n",
       "    </tr>\n",
       "    <tr>\n",
       "      <th>4</th>\n",
       "      <td>0</td>\n",
       "      <td>590692</td>\n",
       "      <td>2022-07-22</td>\n",
       "      <td>0</td>\n",
       "      <td>61386</td>\n",
       "    </tr>\n",
       "  </tbody>\n",
       "</table>\n",
       "</div>"
      ],
      "text/plain": [
       "   user_id  track_id started_at  user_id_encoded  track_id_enc\n",
       "0        0     99262 2022-07-17                0         16078\n",
       "1        0    589498 2022-07-19                0         60661\n",
       "2        0    590262 2022-07-21                0         61135\n",
       "3        0    590303 2022-07-22                0         61158\n",
       "4        0    590692 2022-07-22                0         61386"
      ]
     },
     "execution_count": 8,
     "metadata": {},
     "output_type": "execute_result"
    }
   ],
   "source": [
    "events.head(5)"
   ]
  },
  {
   "cell_type": "code",
   "execution_count": 9,
   "id": "26fe3e3c-8c5f-4437-bf13-9191adef08bb",
   "metadata": {
    "pycharm": {
     "name": "#%%\n"
    }
   },
   "outputs": [
    {
     "data": {
      "text/html": [
       "<div>\n",
       "<style scoped>\n",
       "    .dataframe tbody tr th:only-of-type {\n",
       "        vertical-align: middle;\n",
       "    }\n",
       "\n",
       "    .dataframe tbody tr th {\n",
       "        vertical-align: top;\n",
       "    }\n",
       "\n",
       "    .dataframe thead th {\n",
       "        text-align: right;\n",
       "    }\n",
       "</style>\n",
       "<table border=\"1\" class=\"dataframe\">\n",
       "  <thead>\n",
       "    <tr style=\"text-align: right;\">\n",
       "      <th></th>\n",
       "      <th>track_id_enc</th>\n",
       "      <th>tracks_played</th>\n",
       "    </tr>\n",
       "  </thead>\n",
       "  <tbody>\n",
       "    <tr>\n",
       "      <th>0</th>\n",
       "      <td>0</td>\n",
       "      <td>0.000045</td>\n",
       "    </tr>\n",
       "    <tr>\n",
       "      <th>1</th>\n",
       "      <td>1</td>\n",
       "      <td>0.000072</td>\n",
       "    </tr>\n",
       "    <tr>\n",
       "      <th>2</th>\n",
       "      <td>2</td>\n",
       "      <td>0.000144</td>\n",
       "    </tr>\n",
       "    <tr>\n",
       "      <th>3</th>\n",
       "      <td>3</td>\n",
       "      <td>0.000063</td>\n",
       "    </tr>\n",
       "    <tr>\n",
       "      <th>4</th>\n",
       "      <td>4</td>\n",
       "      <td>0.000153</td>\n",
       "    </tr>\n",
       "    <tr>\n",
       "      <th>...</th>\n",
       "      <td>...</td>\n",
       "      <td>...</td>\n",
       "    </tr>\n",
       "    <tr>\n",
       "      <th>999995</th>\n",
       "      <td>999995</td>\n",
       "      <td>0.000054</td>\n",
       "    </tr>\n",
       "    <tr>\n",
       "      <th>999996</th>\n",
       "      <td>999996</td>\n",
       "      <td>0.000648</td>\n",
       "    </tr>\n",
       "    <tr>\n",
       "      <th>999997</th>\n",
       "      <td>999997</td>\n",
       "      <td>0.000081</td>\n",
       "    </tr>\n",
       "    <tr>\n",
       "      <th>999998</th>\n",
       "      <td>999998</td>\n",
       "      <td>0.000180</td>\n",
       "    </tr>\n",
       "    <tr>\n",
       "      <th>999999</th>\n",
       "      <td>999999</td>\n",
       "      <td>0.000306</td>\n",
       "    </tr>\n",
       "  </tbody>\n",
       "</table>\n",
       "<p>1000000 rows × 2 columns</p>\n",
       "</div>"
      ],
      "text/plain": [
       "        track_id_enc  tracks_played\n",
       "0                  0       0.000045\n",
       "1                  1       0.000072\n",
       "2                  2       0.000144\n",
       "3                  3       0.000063\n",
       "4                  4       0.000153\n",
       "...              ...            ...\n",
       "999995        999995       0.000054\n",
       "999996        999996       0.000648\n",
       "999997        999997       0.000081\n",
       "999998        999998       0.000180\n",
       "999999        999999       0.000306\n",
       "\n",
       "[1000000 rows x 2 columns]"
      ]
     },
     "execution_count": 9,
     "metadata": {},
     "output_type": "execute_result"
    }
   ],
   "source": [
    "track_pop = events.groupby(\"track_id_enc\")[\"user_id_encoded\"].count()\n",
    "track_pop /= track_pop.max()\n",
    "track_pop = track_pop.reset_index()\n",
    "track_pop = track_pop.rename(\n",
    "    columns={\n",
    "        \"user_id_encoded\": \"tracks_played\"\n",
    "    }\n",
    ")\n",
    "track_pop"
   ]
  },
  {
   "cell_type": "code",
   "execution_count": 10,
   "id": "6507b146-7b1a-4e25-9001-8f3fd8aedc68",
   "metadata": {},
   "outputs": [
    {
     "data": {
      "text/html": [
       "<div>\n",
       "<style scoped>\n",
       "    .dataframe tbody tr th:only-of-type {\n",
       "        vertical-align: middle;\n",
       "    }\n",
       "\n",
       "    .dataframe tbody tr th {\n",
       "        vertical-align: top;\n",
       "    }\n",
       "\n",
       "    .dataframe thead th {\n",
       "        text-align: right;\n",
       "    }\n",
       "</style>\n",
       "<table border=\"1\" class=\"dataframe\">\n",
       "  <thead>\n",
       "    <tr style=\"text-align: right;\">\n",
       "      <th></th>\n",
       "      <th>user_id</th>\n",
       "      <th>track_id</th>\n",
       "      <th>started_at</th>\n",
       "      <th>user_id_encoded</th>\n",
       "      <th>track_id_enc</th>\n",
       "      <th>tracks_played</th>\n",
       "    </tr>\n",
       "  </thead>\n",
       "  <tbody>\n",
       "    <tr>\n",
       "      <th>0</th>\n",
       "      <td>0</td>\n",
       "      <td>99262</td>\n",
       "      <td>2022-07-17</td>\n",
       "      <td>0</td>\n",
       "      <td>16078</td>\n",
       "      <td>0.022726</td>\n",
       "    </tr>\n",
       "    <tr>\n",
       "      <th>1</th>\n",
       "      <td>0</td>\n",
       "      <td>589498</td>\n",
       "      <td>2022-07-19</td>\n",
       "      <td>0</td>\n",
       "      <td>60661</td>\n",
       "      <td>0.021538</td>\n",
       "    </tr>\n",
       "    <tr>\n",
       "      <th>2</th>\n",
       "      <td>0</td>\n",
       "      <td>590262</td>\n",
       "      <td>2022-07-21</td>\n",
       "      <td>0</td>\n",
       "      <td>61135</td>\n",
       "      <td>0.005132</td>\n",
       "    </tr>\n",
       "    <tr>\n",
       "      <th>3</th>\n",
       "      <td>0</td>\n",
       "      <td>590303</td>\n",
       "      <td>2022-07-22</td>\n",
       "      <td>0</td>\n",
       "      <td>61158</td>\n",
       "      <td>0.003854</td>\n",
       "    </tr>\n",
       "    <tr>\n",
       "      <th>4</th>\n",
       "      <td>0</td>\n",
       "      <td>590692</td>\n",
       "      <td>2022-07-22</td>\n",
       "      <td>0</td>\n",
       "      <td>61386</td>\n",
       "      <td>0.002215</td>\n",
       "    </tr>\n",
       "  </tbody>\n",
       "</table>\n",
       "</div>"
      ],
      "text/plain": [
       "   user_id  track_id started_at  user_id_encoded  track_id_enc  tracks_played\n",
       "0        0     99262 2022-07-17                0         16078       0.022726\n",
       "1        0    589498 2022-07-19                0         60661       0.021538\n",
       "2        0    590262 2022-07-21                0         61135       0.005132\n",
       "3        0    590303 2022-07-22                0         61158       0.003854\n",
       "4        0    590692 2022-07-22                0         61386       0.002215"
      ]
     },
     "execution_count": 10,
     "metadata": {},
     "output_type": "execute_result"
    }
   ],
   "source": [
    "events = events.merge(\n",
    "    track_pop,\n",
    "    on=\"track_id_enc\",\n",
    "    how=\"left\"\n",
    ")\n",
    "events.head()"
   ]
  },
  {
   "cell_type": "code",
   "execution_count": 11,
   "id": "6de9c7e0-8f16-4f23-9dc0-d526c9a2cbf8",
   "metadata": {},
   "outputs": [
    {
     "data": {
      "text/plain": [
       "<Axes: >"
      ]
     },
     "execution_count": 11,
     "metadata": {},
     "output_type": "execute_result"
    },
    {
     "data": {
      "image/png": "[encoded data removed]",
      "text/plain": [
       "<Figure size 640x480 with 1 Axes>"
      ]
     },
     "metadata": {},
     "output_type": "display_data"
    }
   ],
   "source": [
    "events['started_at'].hist(bins=12)"
   ]
  },
  {
   "cell_type": "code",
   "execution_count": 12,
   "id": "3de85905-d651-40e7-bfa3-598f1dd12f28",
   "metadata": {},
   "outputs": [],
   "source": [
    "# оставим последний месяц на тест (глобальный трешхолд)"
   ]
  },
  {
   "cell_type": "code",
   "execution_count": 13,
   "id": "b1bb43d6-6750-4b8a-9cdd-dc376661e686",
   "metadata": {},
   "outputs": [
    {
     "name": "stdout",
     "output_type": "stream",
     "text": [
      "Train: 191,586,163\n",
      "Test: 31,043,735\n"
     ]
    }
   ],
   "source": [
    "train_test_global_time_split_date = pd.to_datetime(\"2022-12-01\")\n",
    "\n",
    "train_test_global_time_split_idx = events[\"started_at\"] < train_test_global_time_split_date\n",
    "events_train = events[train_test_global_time_split_idx].copy()\n",
    "events_test = events[~train_test_global_time_split_idx].copy()\n",
    "\n",
    "print(\"Train: {:,}\".format(events_train.shape[0]))\n",
    "print(\"Test: {:,}\".format(events_test.shape[0]))"
   ]
  },
  {
   "cell_type": "code",
   "execution_count": 14,
   "id": "9fdbb728-2714-49f4-bf7d-d0eb3bc4d8ab",
   "metadata": {},
   "outputs": [],
   "source": [
    "# Посмотрим еще на юзеров, которые попали в выборки"
   ]
  },
  {
   "cell_type": "code",
   "execution_count": 15,
   "id": "48c85dec-409f-4904-9f86-bf15dfd1a318",
   "metadata": {},
   "outputs": [
    {
     "data": {
      "text/html": [
       "<div>\n",
       "<style scoped>\n",
       "    .dataframe tbody tr th:only-of-type {\n",
       "        vertical-align: middle;\n",
       "    }\n",
       "\n",
       "    .dataframe tbody tr th {\n",
       "        vertical-align: top;\n",
       "    }\n",
       "\n",
       "    .dataframe thead th {\n",
       "        text-align: right;\n",
       "    }\n",
       "</style>\n",
       "<table border=\"1\" class=\"dataframe\">\n",
       "  <thead>\n",
       "    <tr style=\"text-align: right;\">\n",
       "      <th></th>\n",
       "      <th>user_id</th>\n",
       "      <th>track_id</th>\n",
       "      <th>started_at</th>\n",
       "      <th>user_id_encoded</th>\n",
       "      <th>track_id_enc</th>\n",
       "      <th>tracks_played</th>\n",
       "    </tr>\n",
       "  </thead>\n",
       "  <tbody>\n",
       "    <tr>\n",
       "      <th>0</th>\n",
       "      <td>0</td>\n",
       "      <td>99262</td>\n",
       "      <td>2022-07-17</td>\n",
       "      <td>0</td>\n",
       "      <td>16078</td>\n",
       "      <td>0.022726</td>\n",
       "    </tr>\n",
       "    <tr>\n",
       "      <th>1</th>\n",
       "      <td>0</td>\n",
       "      <td>589498</td>\n",
       "      <td>2022-07-19</td>\n",
       "      <td>0</td>\n",
       "      <td>60661</td>\n",
       "      <td>0.021538</td>\n",
       "    </tr>\n",
       "    <tr>\n",
       "      <th>2</th>\n",
       "      <td>0</td>\n",
       "      <td>590262</td>\n",
       "      <td>2022-07-21</td>\n",
       "      <td>0</td>\n",
       "      <td>61135</td>\n",
       "      <td>0.005132</td>\n",
       "    </tr>\n",
       "    <tr>\n",
       "      <th>3</th>\n",
       "      <td>0</td>\n",
       "      <td>590303</td>\n",
       "      <td>2022-07-22</td>\n",
       "      <td>0</td>\n",
       "      <td>61158</td>\n",
       "      <td>0.003854</td>\n",
       "    </tr>\n",
       "    <tr>\n",
       "      <th>4</th>\n",
       "      <td>0</td>\n",
       "      <td>590692</td>\n",
       "      <td>2022-07-22</td>\n",
       "      <td>0</td>\n",
       "      <td>61386</td>\n",
       "      <td>0.002215</td>\n",
       "    </tr>\n",
       "    <tr>\n",
       "      <th>...</th>\n",
       "      <td>...</td>\n",
       "      <td>...</td>\n",
       "      <td>...</td>\n",
       "      <td>...</td>\n",
       "      <td>...</td>\n",
       "      <td>...</td>\n",
       "    </tr>\n",
       "    <tr>\n",
       "      <th>222629733</th>\n",
       "      <td>1374582</td>\n",
       "      <td>58847203</td>\n",
       "      <td>2022-11-29</td>\n",
       "      <td>1373220</td>\n",
       "      <td>765960</td>\n",
       "      <td>0.004403</td>\n",
       "    </tr>\n",
       "    <tr>\n",
       "      <th>222629734</th>\n",
       "      <td>1374582</td>\n",
       "      <td>59140485</td>\n",
       "      <td>2022-11-30</td>\n",
       "      <td>1373220</td>\n",
       "      <td>768742</td>\n",
       "      <td>0.024905</td>\n",
       "    </tr>\n",
       "    <tr>\n",
       "      <th>222629735</th>\n",
       "      <td>1374582</td>\n",
       "      <td>59572098</td>\n",
       "      <td>2022-11-30</td>\n",
       "      <td>1373220</td>\n",
       "      <td>772963</td>\n",
       "      <td>0.016936</td>\n",
       "    </tr>\n",
       "    <tr>\n",
       "      <th>222629736</th>\n",
       "      <td>1374582</td>\n",
       "      <td>60450775</td>\n",
       "      <td>2022-11-30</td>\n",
       "      <td>1373220</td>\n",
       "      <td>780944</td>\n",
       "      <td>0.094578</td>\n",
       "    </tr>\n",
       "    <tr>\n",
       "      <th>222629737</th>\n",
       "      <td>1374582</td>\n",
       "      <td>60784157</td>\n",
       "      <td>2022-11-30</td>\n",
       "      <td>1373220</td>\n",
       "      <td>783364</td>\n",
       "      <td>0.067152</td>\n",
       "    </tr>\n",
       "  </tbody>\n",
       "</table>\n",
       "<p>191586163 rows × 6 columns</p>\n",
       "</div>"
      ],
      "text/plain": [
       "           user_id  track_id started_at  user_id_encoded  track_id_enc  \\\n",
       "0                0     99262 2022-07-17                0         16078   \n",
       "1                0    589498 2022-07-19                0         60661   \n",
       "2                0    590262 2022-07-21                0         61135   \n",
       "3                0    590303 2022-07-22                0         61158   \n",
       "4                0    590692 2022-07-22                0         61386   \n",
       "...            ...       ...        ...              ...           ...   \n",
       "222629733  1374582  58847203 2022-11-29          1373220        765960   \n",
       "222629734  1374582  59140485 2022-11-30          1373220        768742   \n",
       "222629735  1374582  59572098 2022-11-30          1373220        772963   \n",
       "222629736  1374582  60450775 2022-11-30          1373220        780944   \n",
       "222629737  1374582  60784157 2022-11-30          1373220        783364   \n",
       "\n",
       "           tracks_played  \n",
       "0               0.022726  \n",
       "1               0.021538  \n",
       "2               0.005132  \n",
       "3               0.003854  \n",
       "4               0.002215  \n",
       "...                  ...  \n",
       "222629733       0.004403  \n",
       "222629734       0.024905  \n",
       "222629735       0.016936  \n",
       "222629736       0.094578  \n",
       "222629737       0.067152  \n",
       "\n",
       "[191586163 rows x 6 columns]"
      ]
     },
     "execution_count": 15,
     "metadata": {},
     "output_type": "execute_result"
    }
   ],
   "source": [
    "events_train"
   ]
  },
  {
   "cell_type": "code",
   "execution_count": 16,
   "id": "fa26853f-5840-433d-8e7c-75a263cbd0da",
   "metadata": {},
   "outputs": [
    {
     "name": "stdout",
     "output_type": "stream",
     "text": [
      "Число уникальных юзеров в трейне : 1,294,970\n",
      "Число уникальных юзеров в тесте: 995,485\n",
      "Число общих юзеров: 917,234\n",
      "Число холодных юзеров: 78,251\n"
     ]
    }
   ],
   "source": [
    "users_train = events_train[\"user_id_encoded\"].drop_duplicates().tolist()\n",
    "users_test = events_test[\"user_id_encoded\"].drop_duplicates().tolist()\n",
    "\n",
    "common_users = set(users_train) & set(users_test)\n",
    "cold_users = (set(users_train) | set(users_test)) - set(users_train)\n",
    "\n",
    "print(\"Число уникальных юзеров в трейне : {:,}\".format(len(users_train)))\n",
    "print(\"Число уникальных юзеров в тесте: {:,}\".format(len(users_test)))\n",
    "print(\"Число общих юзеров: {:,}\".format(len(common_users)))\n",
    "print(\"Число холодных юзеров: {:,}\".format(len(cold_users)))"
   ]
  },
  {
   "cell_type": "markdown",
   "id": "9131c7e6-8852-4556-b510-51f7253cc299",
   "metadata": {
    "pycharm": {
     "name": "#%% md\n"
    }
   },
   "source": [
    "# Топ популярных"
   ]
  },
  {
   "cell_type": "markdown",
   "id": "dd70d43a-88cc-4719-b291-feaed7136f30",
   "metadata": {
    "pycharm": {
     "name": "#%% md\n"
    }
   },
   "source": [
    "Рассчитаем рекомендации как топ популярных."
   ]
  },
  {
   "cell_type": "code",
   "execution_count": 17,
   "id": "ee45e200-b7d6-4f56-9077-aad431689b96",
   "metadata": {
    "pycharm": {
     "name": "#%%\n"
    }
   },
   "outputs": [],
   "source": [
    "# Возьмем топ 100 треков"
   ]
  },
  {
   "cell_type": "code",
   "execution_count": 18,
   "id": "7690c86f-7aa9-46ed-bba5-2c837626411e",
   "metadata": {
    "pycharm": {
     "name": "#%%\n"
    }
   },
   "outputs": [
    {
     "data": {
      "text/html": [
       "<div>\n",
       "<style scoped>\n",
       "    .dataframe tbody tr th:only-of-type {\n",
       "        vertical-align: middle;\n",
       "    }\n",
       "\n",
       "    .dataframe tbody tr th {\n",
       "        vertical-align: top;\n",
       "    }\n",
       "\n",
       "    .dataframe thead th {\n",
       "        text-align: right;\n",
       "    }\n",
       "</style>\n",
       "<table border=\"1\" class=\"dataframe\">\n",
       "  <thead>\n",
       "    <tr style=\"text-align: right;\">\n",
       "      <th></th>\n",
       "      <th>track_id</th>\n",
       "      <th>track</th>\n",
       "      <th>artist</th>\n",
       "      <th>tracks_played</th>\n",
       "      <th>track_id_encoded</th>\n",
       "    </tr>\n",
       "  </thead>\n",
       "  <tbody>\n",
       "    <tr>\n",
       "      <th>0</th>\n",
       "      <td>53404</td>\n",
       "      <td>Smells Like Teen Spirit</td>\n",
       "      <td>Nirvana</td>\n",
       "      <td>107608</td>\n",
       "      <td>9098</td>\n",
       "    </tr>\n",
       "    <tr>\n",
       "      <th>1</th>\n",
       "      <td>178529</td>\n",
       "      <td>Numb</td>\n",
       "      <td>Linkin Park</td>\n",
       "      <td>98444</td>\n",
       "      <td>26665</td>\n",
       "    </tr>\n",
       "    <tr>\n",
       "      <th>2</th>\n",
       "      <td>33311009</td>\n",
       "      <td>Believer</td>\n",
       "      <td>Imagine Dragons</td>\n",
       "      <td>93384</td>\n",
       "      <td>483876</td>\n",
       "    </tr>\n",
       "    <tr>\n",
       "      <th>3</th>\n",
       "      <td>35505245</td>\n",
       "      <td>I Got Love</td>\n",
       "      <td>Miyagi &amp; Эндшпиль</td>\n",
       "      <td>89879</td>\n",
       "      <td>512157</td>\n",
       "    </tr>\n",
       "    <tr>\n",
       "      <th>4</th>\n",
       "      <td>795836</td>\n",
       "      <td>Shape Of My Heart</td>\n",
       "      <td>Sting</td>\n",
       "      <td>81219</td>\n",
       "      <td>90461</td>\n",
       "    </tr>\n",
       "    <tr>\n",
       "      <th>...</th>\n",
       "      <td>...</td>\n",
       "      <td>...</td>\n",
       "      <td>...</td>\n",
       "      <td>...</td>\n",
       "      <td>...</td>\n",
       "    </tr>\n",
       "    <tr>\n",
       "      <th>95</th>\n",
       "      <td>56920237</td>\n",
       "      <td>Beverly Hills</td>\n",
       "      <td>Zivert</td>\n",
       "      <td>42856</td>\n",
       "      <td>749870</td>\n",
       "    </tr>\n",
       "    <tr>\n",
       "      <th>96</th>\n",
       "      <td>69542</td>\n",
       "      <td>Big City Life</td>\n",
       "      <td>Mattafix</td>\n",
       "      <td>42760</td>\n",
       "      <td>11289</td>\n",
       "    </tr>\n",
       "    <tr>\n",
       "      <th>97</th>\n",
       "      <td>14701552</td>\n",
       "      <td>How You Remind Me</td>\n",
       "      <td>Nickelback</td>\n",
       "      <td>42633</td>\n",
       "      <td>244930</td>\n",
       "    </tr>\n",
       "    <tr>\n",
       "      <th>98</th>\n",
       "      <td>32182642</td>\n",
       "      <td>Лирика</td>\n",
       "      <td>Filatov &amp; Karas</td>\n",
       "      <td>42481</td>\n",
       "      <td>461481</td>\n",
       "    </tr>\n",
       "    <tr>\n",
       "      <th>99</th>\n",
       "      <td>78426489</td>\n",
       "      <td>Rampampam</td>\n",
       "      <td>Minelli</td>\n",
       "      <td>42461</td>\n",
       "      <td>917171</td>\n",
       "    </tr>\n",
       "  </tbody>\n",
       "</table>\n",
       "<p>100 rows × 5 columns</p>\n",
       "</div>"
      ],
      "text/plain": [
       "    track_id                    track             artist  tracks_played  \\\n",
       "0      53404  Smells Like Teen Spirit            Nirvana         107608   \n",
       "1     178529                     Numb        Linkin Park          98444   \n",
       "2   33311009                 Believer    Imagine Dragons          93384   \n",
       "3   35505245               I Got Love  Miyagi & Эндшпиль          89879   \n",
       "4     795836        Shape Of My Heart              Sting          81219   \n",
       "..       ...                      ...                ...            ...   \n",
       "95  56920237            Beverly Hills             Zivert          42856   \n",
       "96     69542            Big City Life           Mattafix          42760   \n",
       "97  14701552        How You Remind Me         Nickelback          42633   \n",
       "98  32182642                   Лирика    Filatov & Karas          42481   \n",
       "99  78426489                Rampampam            Minelli          42461   \n",
       "\n",
       "    track_id_encoded  \n",
       "0               9098  \n",
       "1              26665  \n",
       "2             483876  \n",
       "3             512157  \n",
       "4              90461  \n",
       "..               ...  \n",
       "95            749870  \n",
       "96             11289  \n",
       "97            244930  \n",
       "98            461481  \n",
       "99            917171  \n",
       "\n",
       "[100 rows x 5 columns]"
      ]
     },
     "execution_count": 18,
     "metadata": {},
     "output_type": "execute_result"
    }
   ],
   "source": [
    "top_100_popular = events_train.track_id \\\n",
    "                        .value_counts() \\\n",
    "                        .head(100) \\\n",
    "                        .reset_index() \\\n",
    "                        .rename(\n",
    "                            columns={\n",
    "                                \"count\": \"tracks_played\",\n",
    "                            }\n",
    "                        ).merge(\n",
    "                            items[[\"track_id\", \"track\", \"artist\"]],\n",
    "                            on=\"track_id\",\n",
    "                            how=\"left\",\n",
    "                        )[[\"track_id\", \"track\", \"artist\", \"tracks_played\"]]\n",
    "top_100_popular[\"track_id_encoded\"] = item_encoder.transform(top_100_popular[\"track_id\"])\n",
    "top_100_popular"
   ]
  },
  {
   "cell_type": "code",
   "execution_count": 19,
   "id": "05545efc-ddc7-4934-bee9-4277883d92d9",
   "metadata": {},
   "outputs": [],
   "source": [
    "top_100_popular.to_parquet(\"data/top_100_popular.parquet\")"
   ]
  },
  {
   "cell_type": "markdown",
   "id": "2ad231f2-6158-421a-b7fa-01d8bc3ed572",
   "metadata": {
    "pycharm": {
     "name": "#%% md\n"
    }
   },
   "source": [
    "# Персональные"
   ]
  },
  {
   "cell_type": "markdown",
   "id": "86159460-cd9d-4b63-8248-604ea3c9aebf",
   "metadata": {
    "pycharm": {
     "name": "#%% md\n"
    }
   },
   "source": [
    "Рассчитаем персональные рекомендации."
   ]
  },
  {
   "cell_type": "code",
   "execution_count": 20,
   "id": "d2944822-569c-4f9b-82dc-70a7fa2d542e",
   "metadata": {
    "pycharm": {
     "name": "#%%\n"
    }
   },
   "outputs": [],
   "source": [
    "# сначала создадим разреженную матрицу"
   ]
  },
  {
   "cell_type": "code",
   "execution_count": 21,
   "id": "bc25849a-0830-4a45-a905-b772907ec82f",
   "metadata": {},
   "outputs": [
    {
     "data": {
      "text/html": [
       "<div>\n",
       "<style scoped>\n",
       "    .dataframe tbody tr th:only-of-type {\n",
       "        vertical-align: middle;\n",
       "    }\n",
       "\n",
       "    .dataframe tbody tr th {\n",
       "        vertical-align: top;\n",
       "    }\n",
       "\n",
       "    .dataframe thead th {\n",
       "        text-align: right;\n",
       "    }\n",
       "</style>\n",
       "<table border=\"1\" class=\"dataframe\">\n",
       "  <thead>\n",
       "    <tr style=\"text-align: right;\">\n",
       "      <th></th>\n",
       "      <th>user_id</th>\n",
       "      <th>track_id</th>\n",
       "      <th>started_at</th>\n",
       "      <th>user_id_encoded</th>\n",
       "      <th>track_id_enc</th>\n",
       "      <th>tracks_played</th>\n",
       "    </tr>\n",
       "  </thead>\n",
       "  <tbody>\n",
       "    <tr>\n",
       "      <th>0</th>\n",
       "      <td>0</td>\n",
       "      <td>99262</td>\n",
       "      <td>2022-07-17</td>\n",
       "      <td>0</td>\n",
       "      <td>16078</td>\n",
       "      <td>0.022726</td>\n",
       "    </tr>\n",
       "    <tr>\n",
       "      <th>1</th>\n",
       "      <td>0</td>\n",
       "      <td>589498</td>\n",
       "      <td>2022-07-19</td>\n",
       "      <td>0</td>\n",
       "      <td>60661</td>\n",
       "      <td>0.021538</td>\n",
       "    </tr>\n",
       "    <tr>\n",
       "      <th>2</th>\n",
       "      <td>0</td>\n",
       "      <td>590262</td>\n",
       "      <td>2022-07-21</td>\n",
       "      <td>0</td>\n",
       "      <td>61135</td>\n",
       "      <td>0.005132</td>\n",
       "    </tr>\n",
       "    <tr>\n",
       "      <th>3</th>\n",
       "      <td>0</td>\n",
       "      <td>590303</td>\n",
       "      <td>2022-07-22</td>\n",
       "      <td>0</td>\n",
       "      <td>61158</td>\n",
       "      <td>0.003854</td>\n",
       "    </tr>\n",
       "    <tr>\n",
       "      <th>4</th>\n",
       "      <td>0</td>\n",
       "      <td>590692</td>\n",
       "      <td>2022-07-22</td>\n",
       "      <td>0</td>\n",
       "      <td>61386</td>\n",
       "      <td>0.002215</td>\n",
       "    </tr>\n",
       "    <tr>\n",
       "      <th>...</th>\n",
       "      <td>...</td>\n",
       "      <td>...</td>\n",
       "      <td>...</td>\n",
       "      <td>...</td>\n",
       "      <td>...</td>\n",
       "      <td>...</td>\n",
       "    </tr>\n",
       "    <tr>\n",
       "      <th>222629733</th>\n",
       "      <td>1374582</td>\n",
       "      <td>58847203</td>\n",
       "      <td>2022-11-29</td>\n",
       "      <td>1373220</td>\n",
       "      <td>765960</td>\n",
       "      <td>0.004403</td>\n",
       "    </tr>\n",
       "    <tr>\n",
       "      <th>222629734</th>\n",
       "      <td>1374582</td>\n",
       "      <td>59140485</td>\n",
       "      <td>2022-11-30</td>\n",
       "      <td>1373220</td>\n",
       "      <td>768742</td>\n",
       "      <td>0.024905</td>\n",
       "    </tr>\n",
       "    <tr>\n",
       "      <th>222629735</th>\n",
       "      <td>1374582</td>\n",
       "      <td>59572098</td>\n",
       "      <td>2022-11-30</td>\n",
       "      <td>1373220</td>\n",
       "      <td>772963</td>\n",
       "      <td>0.016936</td>\n",
       "    </tr>\n",
       "    <tr>\n",
       "      <th>222629736</th>\n",
       "      <td>1374582</td>\n",
       "      <td>60450775</td>\n",
       "      <td>2022-11-30</td>\n",
       "      <td>1373220</td>\n",
       "      <td>780944</td>\n",
       "      <td>0.094578</td>\n",
       "    </tr>\n",
       "    <tr>\n",
       "      <th>222629737</th>\n",
       "      <td>1374582</td>\n",
       "      <td>60784157</td>\n",
       "      <td>2022-11-30</td>\n",
       "      <td>1373220</td>\n",
       "      <td>783364</td>\n",
       "      <td>0.067152</td>\n",
       "    </tr>\n",
       "  </tbody>\n",
       "</table>\n",
       "<p>191586163 rows × 6 columns</p>\n",
       "</div>"
      ],
      "text/plain": [
       "           user_id  track_id started_at  user_id_encoded  track_id_enc  \\\n",
       "0                0     99262 2022-07-17                0         16078   \n",
       "1                0    589498 2022-07-19                0         60661   \n",
       "2                0    590262 2022-07-21                0         61135   \n",
       "3                0    590303 2022-07-22                0         61158   \n",
       "4                0    590692 2022-07-22                0         61386   \n",
       "...            ...       ...        ...              ...           ...   \n",
       "222629733  1374582  58847203 2022-11-29          1373220        765960   \n",
       "222629734  1374582  59140485 2022-11-30          1373220        768742   \n",
       "222629735  1374582  59572098 2022-11-30          1373220        772963   \n",
       "222629736  1374582  60450775 2022-11-30          1373220        780944   \n",
       "222629737  1374582  60784157 2022-11-30          1373220        783364   \n",
       "\n",
       "           tracks_played  \n",
       "0               0.022726  \n",
       "1               0.021538  \n",
       "2               0.005132  \n",
       "3               0.003854  \n",
       "4               0.002215  \n",
       "...                  ...  \n",
       "222629733       0.004403  \n",
       "222629734       0.024905  \n",
       "222629735       0.016936  \n",
       "222629736       0.094578  \n",
       "222629737       0.067152  \n",
       "\n",
       "[191586163 rows x 6 columns]"
      ]
     },
     "execution_count": 21,
     "metadata": {},
     "output_type": "execute_result"
    }
   ],
   "source": [
    "events_train"
   ]
  },
  {
   "cell_type": "code",
   "execution_count": 22,
   "id": "1e8cdb58-3a8c-45ad-8e5f-7f950314aa56",
   "metadata": {
    "pycharm": {
     "name": "#%%\n"
    }
   },
   "outputs": [
    {
     "data": {
      "text/plain": [
       "<1373221x1000000 sparse matrix of type '<class 'numpy.int8'>'\n",
       "\twith 191586163 stored elements in Compressed Sparse Row format>"
      ]
     },
     "execution_count": 22,
     "metadata": {},
     "output_type": "execute_result"
    }
   ],
   "source": [
    "user_item_matrix_train = scipy.sparse.csr_matrix(\n",
    "    (\n",
    "    events_train[\"tracks_played\"],\n",
    "    (events_train[\"user_id_encoded\"], events_train[\"track_id_enc\"])\n",
    "    ),\n",
    "    dtype=np.int8\n",
    ")\n",
    "user_item_matrix_train"
   ]
  },
  {
   "cell_type": "code",
   "execution_count": 23,
   "id": "6dfa8246-5a26-4cde-a777-4cf340add85b",
   "metadata": {},
   "outputs": [],
   "source": [
    "# Теперь применим ALS"
   ]
  },
  {
   "cell_type": "code",
   "execution_count": 24,
   "id": "8d8709b0-9e67-47ce-9363-798ae2b22df7",
   "metadata": {},
   "outputs": [
    {
     "name": "stderr",
     "output_type": "stream",
     "text": [
      "/Users/andryousha/Projects/Python_projects/mle-project-sprint-4-v001/env_recsys_start/lib/python3.9/site-packages/implicit/cpu/als.py:95: RuntimeWarning: OpenBLAS is configured to use 10 threads. It is highly recommended to disable its internal threadpool by setting the environment variable 'OPENBLAS_NUM_THREADS=1' or by calling 'threadpoolctl.threadpool_limits(1, \"blas\")'. Having OpenBLAS use a threadpool can lead to severe performance issues here.\n",
      "  check_blas_config()\n",
      "100%|████████████████████████████████████████████████████████████████████████████████████████████████████████████████████████████████████████████████████████████████████████████████████████████████████████████████████| 40/40 [46:22<00:00, 69.57s/it]\n"
     ]
    }
   ],
   "source": [
    "als_params = {\n",
    "    \"factors\": 40,\n",
    "    \"iterations\": 40,\n",
    "    \"regularization\": 0.05,\n",
    "    \"random_state\": 42,\n",
    "}\n",
    "\n",
    "als_model = AlternatingLeastSquares(**als_params)\n",
    "als_model.fit(user_item_matrix_train)"
   ]
  },
  {
   "cell_type": "code",
   "execution_count": 26,
   "id": "a1aa04b6-400e-447e-b465-c5dcf128a258",
   "metadata": {},
   "outputs": [],
   "source": [
    "# Все закодированные идентификаторы пользователей\n",
    "user_ids_encoded = range(len(user_encoder.classes_))\n",
    "\n",
    "# Делаем рекомендации на всех юзеров\n",
    "als_recommendations = als_model.recommend(\n",
    "    user_ids_encoded, \n",
    "    user_item_matrix_train[user_ids_encoded], \n",
    "    filter_already_liked_items=False, \n",
    "    N=10,\n",
    ")"
   ]
  },
  {
   "cell_type": "code",
   "execution_count": 27,
   "id": "26468642-ee18-46dc-9dc8-f2733b41e6b6",
   "metadata": {},
   "outputs": [],
   "source": [
    "# Приведем рекомендации к более читаемому виду"
   ]
  },
  {
   "cell_type": "code",
   "execution_count": 28,
   "id": "f06d85a4-78f4-4e9c-b629-c6f74ebcd739",
   "metadata": {},
   "outputs": [],
   "source": [
    "# Separating identifiers and ALS-scores\n",
    "track_ids_encoded = als_recommendations[0]\n",
    "als_scores = als_recommendations[1]\n",
    "\n",
    "als_recommendations = pd.DataFrame({\n",
    "    \"user_id_encoded\": user_ids_encoded,\n",
    "    \"track_id_encoded\": track_ids_encoded.tolist(), \n",
    "    \"score\": als_scores.tolist(),\n",
    "})\n",
    "als_recommendations = als_recommendations.explode([\"track_id_encoded\", \"score\"], ignore_index=True)\n",
    "\n",
    "# Сменим типы\n",
    "als_recommendations[\"track_id_encoded\"] = als_recommendations[\"track_id_encoded\"].astype(\"int\")\n",
    "als_recommendations[\"score\"] = als_recommendations[\"score\"].astype(\"float\")\n",
    "\n",
    "# Вернем оригинальные идетификаторы\n",
    "als_recommendations[\"user_id\"] = user_encoder.inverse_transform(als_recommendations[\"user_id_encoded\"])\n",
    "als_recommendations[\"track_id\"] = item_encoder.inverse_transform(als_recommendations[\"track_id_encoded\"])\n",
    "als_recommendations = als_recommendations.drop(columns=[\"user_id_encoded\", \"track_id_encoded\"])\n",
    "\n",
    "# Оставим только нужные колонки\n",
    "als_recommendations = als_recommendations[[\"user_id\", \"track_id\", \"score\"]]"
   ]
  },
  {
   "cell_type": "code",
   "execution_count": 29,
   "id": "f3607866-36ce-40e5-99c3-ee757557c322",
   "metadata": {},
   "outputs": [
    {
     "data": {
      "text/html": [
       "<div>\n",
       "<style scoped>\n",
       "    .dataframe tbody tr th:only-of-type {\n",
       "        vertical-align: middle;\n",
       "    }\n",
       "\n",
       "    .dataframe tbody tr th {\n",
       "        vertical-align: top;\n",
       "    }\n",
       "\n",
       "    .dataframe thead th {\n",
       "        text-align: right;\n",
       "    }\n",
       "</style>\n",
       "<table border=\"1\" class=\"dataframe\">\n",
       "  <thead>\n",
       "    <tr style=\"text-align: right;\">\n",
       "      <th></th>\n",
       "      <th>user_id</th>\n",
       "      <th>track_id</th>\n",
       "      <th>score</th>\n",
       "      <th>track</th>\n",
       "      <th>artist</th>\n",
       "      <th>album</th>\n",
       "      <th>genre</th>\n",
       "      <th>track_id_enc</th>\n",
       "    </tr>\n",
       "  </thead>\n",
       "  <tbody>\n",
       "    <tr>\n",
       "      <th>0</th>\n",
       "      <td>42</td>\n",
       "      <td>53404</td>\n",
       "      <td>3.023713e-11</td>\n",
       "      <td>Smells Like Teen Spirit</td>\n",
       "      <td>Nirvana</td>\n",
       "      <td>Nevermind</td>\n",
       "      <td>alternative</td>\n",
       "      <td>9098</td>\n",
       "    </tr>\n",
       "    <tr>\n",
       "      <th>1</th>\n",
       "      <td>42</td>\n",
       "      <td>43052381</td>\n",
       "      <td>6.687612e-20</td>\n",
       "      <td>Мокрые кроссы</td>\n",
       "      <td>Тима Белорусских</td>\n",
       "      <td>Мокрые кроссы</td>\n",
       "      <td>pop</td>\n",
       "      <td>618207</td>\n",
       "    </tr>\n",
       "    <tr>\n",
       "      <th>2</th>\n",
       "      <td>42</td>\n",
       "      <td>43716993</td>\n",
       "      <td>6.338018e-20</td>\n",
       "      <td>Голоса</td>\n",
       "      <td>Звонкий</td>\n",
       "      <td>Голоса</td>\n",
       "      <td>rusrap</td>\n",
       "      <td>627047</td>\n",
       "    </tr>\n",
       "    <tr>\n",
       "      <th>3</th>\n",
       "      <td>42</td>\n",
       "      <td>56204557</td>\n",
       "      <td>6.055728e-20</td>\n",
       "      <td>Dance Monkey</td>\n",
       "      <td>Tones And I</td>\n",
       "      <td>Dance Monkey</td>\n",
       "      <td>pop</td>\n",
       "      <td>744014</td>\n",
       "    </tr>\n",
       "    <tr>\n",
       "      <th>4</th>\n",
       "      <td>42</td>\n",
       "      <td>29569939</td>\n",
       "      <td>5.563875e-20</td>\n",
       "      <td>Tuesday</td>\n",
       "      <td>Burak Yeter</td>\n",
       "      <td>Tuesday</td>\n",
       "      <td>dance</td>\n",
       "      <td>427412</td>\n",
       "    </tr>\n",
       "    <tr>\n",
       "      <th>5</th>\n",
       "      <td>42</td>\n",
       "      <td>6679078</td>\n",
       "      <td>4.897857e-20</td>\n",
       "      <td>Intro</td>\n",
       "      <td>The xx</td>\n",
       "      <td>xx</td>\n",
       "      <td>indie</td>\n",
       "      <td>195983</td>\n",
       "    </tr>\n",
       "    <tr>\n",
       "      <th>6</th>\n",
       "      <td>42</td>\n",
       "      <td>48951</td>\n",
       "      <td>4.638604e-20</td>\n",
       "      <td>It's My Life</td>\n",
       "      <td>Bon Jovi</td>\n",
       "      <td>Crush</td>\n",
       "      <td>rock</td>\n",
       "      <td>8553</td>\n",
       "    </tr>\n",
       "    <tr>\n",
       "      <th>7</th>\n",
       "      <td>42</td>\n",
       "      <td>36479667</td>\n",
       "      <td>4.628141e-20</td>\n",
       "      <td>Havana</td>\n",
       "      <td>Camila Cabello</td>\n",
       "      <td>Havana</td>\n",
       "      <td>pop</td>\n",
       "      <td>526457</td>\n",
       "    </tr>\n",
       "    <tr>\n",
       "      <th>8</th>\n",
       "      <td>42</td>\n",
       "      <td>680075</td>\n",
       "      <td>4.566252e-20</td>\n",
       "      <td>Brother Louie Mix '98</td>\n",
       "      <td>Modern Talking</td>\n",
       "      <td>Back For Good/2nd</td>\n",
       "      <td>estrada</td>\n",
       "      <td>77142</td>\n",
       "    </tr>\n",
       "    <tr>\n",
       "      <th>9</th>\n",
       "      <td>42</td>\n",
       "      <td>44279380</td>\n",
       "      <td>4.402331e-20</td>\n",
       "      <td>Плакала</td>\n",
       "      <td>KAZKA</td>\n",
       "      <td>Karma</td>\n",
       "      <td>pop</td>\n",
       "      <td>635258</td>\n",
       "    </tr>\n",
       "  </tbody>\n",
       "</table>\n",
       "</div>"
      ],
      "text/plain": [
       "   user_id  track_id         score                    track            artist  \\\n",
       "0       42     53404  3.023713e-11  Smells Like Teen Spirit           Nirvana   \n",
       "1       42  43052381  6.687612e-20            Мокрые кроссы  Тима Белорусских   \n",
       "2       42  43716993  6.338018e-20                   Голоса           Звонкий   \n",
       "3       42  56204557  6.055728e-20             Dance Monkey       Tones And I   \n",
       "4       42  29569939  5.563875e-20                  Tuesday       Burak Yeter   \n",
       "5       42   6679078  4.897857e-20                    Intro            The xx   \n",
       "6       42     48951  4.638604e-20             It's My Life          Bon Jovi   \n",
       "7       42  36479667  4.628141e-20                   Havana    Camila Cabello   \n",
       "8       42    680075  4.566252e-20    Brother Louie Mix '98    Modern Talking   \n",
       "9       42  44279380  4.402331e-20                  Плакала             KAZKA   \n",
       "\n",
       "               album        genre  track_id_enc  \n",
       "0          Nevermind  alternative          9098  \n",
       "1      Мокрые кроссы          pop        618207  \n",
       "2             Голоса       rusrap        627047  \n",
       "3       Dance Monkey          pop        744014  \n",
       "4            Tuesday        dance        427412  \n",
       "5                 xx        indie        195983  \n",
       "6              Crush         rock          8553  \n",
       "7             Havana          pop        526457  \n",
       "8  Back For Good/2nd      estrada         77142  \n",
       "9              Karma          pop        635258  "
      ]
     },
     "execution_count": 29,
     "metadata": {},
     "output_type": "execute_result"
    }
   ],
   "source": [
    "# в процессе обучения мы оставили только 10 рекомендаций, проверим все ли хорошо\n",
    "als_recommendations.query(\"user_id == 42\").merge(items, on=\"track_id\", how=\"left\")"
   ]
  },
  {
   "cell_type": "code",
   "execution_count": 30,
   "id": "4a34b13c-c956-4f52-b08c-b188d1dc12ab",
   "metadata": {},
   "outputs": [],
   "source": [
    "# и еще посмотрим визуально что нам рекомендуют по рандомномному юзеру"
   ]
  },
  {
   "cell_type": "code",
   "execution_count": 32,
   "id": "a6e976f0-726b-4a60-a9f1-2df844870e60",
   "metadata": {},
   "outputs": [
    {
     "name": "stdout",
     "output_type": "stream",
     "text": [
      "Последние 10 взаимодействий по 'user_id=2109'\n"
     ]
    },
    {
     "data": {
      "text/html": [
       "<div>\n",
       "<style scoped>\n",
       "    .dataframe tbody tr th:only-of-type {\n",
       "        vertical-align: middle;\n",
       "    }\n",
       "\n",
       "    .dataframe tbody tr th {\n",
       "        vertical-align: top;\n",
       "    }\n",
       "\n",
       "    .dataframe thead th {\n",
       "        text-align: right;\n",
       "    }\n",
       "</style>\n",
       "<table border=\"1\" class=\"dataframe\">\n",
       "  <thead>\n",
       "    <tr style=\"text-align: right;\">\n",
       "      <th></th>\n",
       "      <th>user_id</th>\n",
       "      <th>track_id</th>\n",
       "      <th>track</th>\n",
       "      <th>artist</th>\n",
       "      <th>album</th>\n",
       "      <th>genre</th>\n",
       "    </tr>\n",
       "  </thead>\n",
       "  <tbody>\n",
       "    <tr>\n",
       "      <th>0</th>\n",
       "      <td>2109</td>\n",
       "      <td>5876642</td>\n",
       "      <td>Get Ur Freak On</td>\n",
       "      <td>Missy  Elliott</td>\n",
       "      <td>Get Ur Freak On - R&amp;B Anthems</td>\n",
       "      <td>pop</td>\n",
       "    </tr>\n",
       "    <tr>\n",
       "      <th>1</th>\n",
       "      <td>2109</td>\n",
       "      <td>10791881</td>\n",
       "      <td>Ты кидал</td>\n",
       "      <td>5'nizza</td>\n",
       "      <td>Пятница</td>\n",
       "      <td>reggae</td>\n",
       "    </tr>\n",
       "    <tr>\n",
       "      <th>2</th>\n",
       "      <td>2109</td>\n",
       "      <td>16759428</td>\n",
       "      <td>Белый флаг</td>\n",
       "      <td>Green Grey</td>\n",
       "      <td>Greatest Hits</td>\n",
       "      <td>ukrrock</td>\n",
       "    </tr>\n",
       "    <tr>\n",
       "      <th>3</th>\n",
       "      <td>2109</td>\n",
       "      <td>17198086</td>\n",
       "      <td>В клубе</td>\n",
       "      <td>Тимати</td>\n",
       "      <td>Black Star</td>\n",
       "      <td>rusrap</td>\n",
       "    </tr>\n",
       "    <tr>\n",
       "      <th>4</th>\n",
       "      <td>2109</td>\n",
       "      <td>17198095</td>\n",
       "      <td>Плачут небеса</td>\n",
       "      <td>Банда</td>\n",
       "      <td>Новые люди</td>\n",
       "      <td>rusrap</td>\n",
       "    </tr>\n",
       "    <tr>\n",
       "      <th>5</th>\n",
       "      <td>2109</td>\n",
       "      <td>17198795</td>\n",
       "      <td>Знаешь ли ты</td>\n",
       "      <td>МакSим</td>\n",
       "      <td>Трудный возраст</td>\n",
       "      <td>pop</td>\n",
       "    </tr>\n",
       "    <tr>\n",
       "      <th>6</th>\n",
       "      <td>2109</td>\n",
       "      <td>17563759</td>\n",
       "      <td>Танцуй</td>\n",
       "      <td>Звери</td>\n",
       "      <td>Лучшие</td>\n",
       "      <td>rusrock</td>\n",
       "    </tr>\n",
       "    <tr>\n",
       "      <th>7</th>\n",
       "      <td>2109</td>\n",
       "      <td>17805144</td>\n",
       "      <td>Танцы</td>\n",
       "      <td>REFLEX</td>\n",
       "      <td>Пульс</td>\n",
       "      <td>pop</td>\n",
       "    </tr>\n",
       "    <tr>\n",
       "      <th>8</th>\n",
       "      <td>2109</td>\n",
       "      <td>19722850</td>\n",
       "      <td>В жизни так бывает</td>\n",
       "      <td>Многоточие</td>\n",
       "      <td>Жизнь и Свобода</td>\n",
       "      <td>rusrap</td>\n",
       "    </tr>\n",
       "    <tr>\n",
       "      <th>9</th>\n",
       "      <td>2109</td>\n",
       "      <td>20796634</td>\n",
       "      <td>In Da Club</td>\n",
       "      <td>50 Cent</td>\n",
       "      <td>SHADYXV</td>\n",
       "      <td>foreignrap</td>\n",
       "    </tr>\n",
       "  </tbody>\n",
       "</table>\n",
       "</div>"
      ],
      "text/plain": [
       "   user_id  track_id               track          artist  \\\n",
       "0     2109   5876642     Get Ur Freak On  Missy  Elliott   \n",
       "1     2109  10791881            Ты кидал         5'nizza   \n",
       "2     2109  16759428          Белый флаг      Green Grey   \n",
       "3     2109  17198086             В клубе          Тимати   \n",
       "4     2109  17198095       Плачут небеса           Банда   \n",
       "5     2109  17198795        Знаешь ли ты          МакSим   \n",
       "6     2109  17563759              Танцуй           Звери   \n",
       "7     2109  17805144               Танцы          REFLEX   \n",
       "8     2109  19722850  В жизни так бывает      Многоточие   \n",
       "9     2109  20796634          In Da Club         50 Cent   \n",
       "\n",
       "                           album       genre  \n",
       "0  Get Ur Freak On - R&B Anthems         pop  \n",
       "1                        Пятница      reggae  \n",
       "2                  Greatest Hits     ukrrock  \n",
       "3                     Black Star      rusrap  \n",
       "4                     Новые люди      rusrap  \n",
       "5                Трудный возраст         pop  \n",
       "6                         Лучшие     rusrock  \n",
       "7                          Пульс         pop  \n",
       "8                Жизнь и Свобода      rusrap  \n",
       "9                        SHADYXV  foreignrap  "
      ]
     },
     "metadata": {},
     "output_type": "display_data"
    },
    {
     "name": "stdout",
     "output_type": "stream",
     "text": [
      "Рекомендации для 'user_id=2109'\n"
     ]
    },
    {
     "data": {
      "text/html": [
       "<div>\n",
       "<style scoped>\n",
       "    .dataframe tbody tr th:only-of-type {\n",
       "        vertical-align: middle;\n",
       "    }\n",
       "\n",
       "    .dataframe tbody tr th {\n",
       "        vertical-align: top;\n",
       "    }\n",
       "\n",
       "    .dataframe thead th {\n",
       "        text-align: right;\n",
       "    }\n",
       "</style>\n",
       "<table border=\"1\" class=\"dataframe\">\n",
       "  <thead>\n",
       "    <tr style=\"text-align: right;\">\n",
       "      <th></th>\n",
       "      <th>user_id</th>\n",
       "      <th>track_id</th>\n",
       "      <th>track</th>\n",
       "      <th>artist</th>\n",
       "      <th>album</th>\n",
       "      <th>genre</th>\n",
       "    </tr>\n",
       "  </thead>\n",
       "  <tbody>\n",
       "    <tr>\n",
       "      <th>0</th>\n",
       "      <td>2109</td>\n",
       "      <td>53404</td>\n",
       "      <td>Smells Like Teen Spirit</td>\n",
       "      <td>Nirvana</td>\n",
       "      <td>Nevermind</td>\n",
       "      <td>alternative</td>\n",
       "    </tr>\n",
       "    <tr>\n",
       "      <th>1</th>\n",
       "      <td>2109</td>\n",
       "      <td>57799893</td>\n",
       "      <td>Roses</td>\n",
       "      <td>SAINt JHN</td>\n",
       "      <td>Roses</td>\n",
       "      <td>dance</td>\n",
       "    </tr>\n",
       "    <tr>\n",
       "      <th>2</th>\n",
       "      <td>2109</td>\n",
       "      <td>73376988</td>\n",
       "      <td>Ягода малинка</td>\n",
       "      <td>ХАБИБ</td>\n",
       "      <td>Ягода малинка</td>\n",
       "      <td>pop</td>\n",
       "    </tr>\n",
       "    <tr>\n",
       "      <th>3</th>\n",
       "      <td>2109</td>\n",
       "      <td>50834580</td>\n",
       "      <td>Девочка-война</td>\n",
       "      <td>HammAli &amp; Navai</td>\n",
       "      <td>Девочка-война</td>\n",
       "      <td>rusrap</td>\n",
       "    </tr>\n",
       "    <tr>\n",
       "      <th>4</th>\n",
       "      <td>2109</td>\n",
       "      <td>595258</td>\n",
       "      <td>Я свободен</td>\n",
       "      <td>Кипелов</td>\n",
       "      <td>Вавилон</td>\n",
       "      <td>classicmetal</td>\n",
       "    </tr>\n",
       "    <tr>\n",
       "      <th>5</th>\n",
       "      <td>2109</td>\n",
       "      <td>46104677</td>\n",
       "      <td>Украду</td>\n",
       "      <td>ANIVAR</td>\n",
       "      <td>Украду</td>\n",
       "      <td>pop</td>\n",
       "    </tr>\n",
       "    <tr>\n",
       "      <th>6</th>\n",
       "      <td>2109</td>\n",
       "      <td>33311009</td>\n",
       "      <td>Believer</td>\n",
       "      <td>Imagine Dragons</td>\n",
       "      <td>Shape Of Pop</td>\n",
       "      <td>rock</td>\n",
       "    </tr>\n",
       "    <tr>\n",
       "      <th>7</th>\n",
       "      <td>2109</td>\n",
       "      <td>307826</td>\n",
       "      <td>Black Black Heart</td>\n",
       "      <td>David Usher</td>\n",
       "      <td>Morning Orbit</td>\n",
       "      <td>pop</td>\n",
       "    </tr>\n",
       "    <tr>\n",
       "      <th>8</th>\n",
       "      <td>2109</td>\n",
       "      <td>51130411</td>\n",
       "      <td>Почему так больно</td>\n",
       "      <td>T1One</td>\n",
       "      <td>Почему так больно</td>\n",
       "      <td>rusrap</td>\n",
       "    </tr>\n",
       "    <tr>\n",
       "      <th>9</th>\n",
       "      <td>2109</td>\n",
       "      <td>2758009</td>\n",
       "      <td>The Show Must Go On</td>\n",
       "      <td>Queen</td>\n",
       "      <td>Innuendo</td>\n",
       "      <td>rock</td>\n",
       "    </tr>\n",
       "  </tbody>\n",
       "</table>\n",
       "</div>"
      ],
      "text/plain": [
       "   user_id  track_id                    track           artist  \\\n",
       "0     2109     53404  Smells Like Teen Spirit          Nirvana   \n",
       "1     2109  57799893                    Roses        SAINt JHN   \n",
       "2     2109  73376988            Ягода малинка            ХАБИБ   \n",
       "3     2109  50834580            Девочка-война  HammAli & Navai   \n",
       "4     2109    595258               Я свободен          Кипелов   \n",
       "5     2109  46104677                   Украду           ANIVAR   \n",
       "6     2109  33311009                 Believer  Imagine Dragons   \n",
       "7     2109    307826        Black Black Heart      David Usher   \n",
       "8     2109  51130411        Почему так больно            T1One   \n",
       "9     2109   2758009      The Show Must Go On            Queen   \n",
       "\n",
       "               album         genre  \n",
       "0          Nevermind   alternative  \n",
       "1              Roses         dance  \n",
       "2      Ягода малинка           pop  \n",
       "3      Девочка-война        rusrap  \n",
       "4            Вавилон  classicmetal  \n",
       "5             Украду           pop  \n",
       "6       Shape Of Pop          rock  \n",
       "7      Morning Orbit           pop  \n",
       "8  Почему так больно        rusrap  \n",
       "9           Innuendo          rock  "
      ]
     },
     "metadata": {},
     "output_type": "display_data"
    }
   ],
   "source": [
    "tst_user_id = events_train.user_id.drop_duplicates().tolist()[1991]\n",
    "\n",
    "last_10_events = events_train \\\n",
    "        .query(\"user_id == @tst_user_id\") \\\n",
    "        .tail(10) \\\n",
    "        .merge(\n",
    "            items, \n",
    "            on=\"track_id\", \n",
    "            how=\"left\",\n",
    "        )[[\"user_id\", \"track_id\", \"track\", \"artist\", \"album\", \"genre\"]]\n",
    "print(f\"Последние 10 взаимодействий по 'user_id={tst_user_id}'\")\n",
    "display(last_10_events)\n",
    "\n",
    "# Посомтрим рекомендации\n",
    "user_recs = als_recommendations \\\n",
    "            .query(\"user_id == @tst_user_id\") \\\n",
    "            .merge(items, on=\"track_id\", how=\"left\").drop([\"score\", \"track_id_enc\"], axis=1)\n",
    "print(f\"Рекомендации для 'user_id={tst_user_id}'\")\n",
    "display(user_recs)"
   ]
  },
  {
   "cell_type": "code",
   "execution_count": 33,
   "id": "18b91373-c608-40e4-ac6b-82d622ba5976",
   "metadata": {},
   "outputs": [],
   "source": [
    "# Сохраним реки\n",
    "als_recommendations.to_parquet(\"data/personal_als.parquet\")"
   ]
  },
  {
   "cell_type": "markdown",
   "id": "5f09dc7e-7c91-4355-860a-b9cfb9f33f15",
   "metadata": {
    "pycharm": {
     "name": "#%% md\n"
    }
   },
   "source": [
    "# Похожие"
   ]
  },
  {
   "cell_type": "markdown",
   "id": "1dfcb683-b440-40a8-9975-894156a53872",
   "metadata": {
    "pycharm": {
     "name": "#%% md\n"
    }
   },
   "source": [
    "Рассчитаем похожие, они позже пригодятся для онлайн-рекомендаций."
   ]
  },
  {
   "cell_type": "code",
   "execution_count": 34,
   "id": "a75d07ee-4b12-4ce5-aa85-e45cb7a7a4f0",
   "metadata": {
    "pycharm": {
     "name": "#%%\n"
    }
   },
   "outputs": [],
   "source": [
    "# Расчитаем похожие треки будем смотреть только на 10 треков (1 из них сам трек)"
   ]
  },
  {
   "cell_type": "code",
   "execution_count": 35,
   "id": "7e1cb068-ebe7-4419-9410-3f924ada1bab",
   "metadata": {},
   "outputs": [
    {
     "data": {
      "text/plain": [
       "array([       26,        38,       135, ..., 101493057, 101495927,\n",
       "       101521819], dtype=int32)"
      ]
     },
     "execution_count": 35,
     "metadata": {},
     "output_type": "execute_result"
    }
   ],
   "source": [
    "item_encoder.classes_"
   ]
  },
  {
   "cell_type": "code",
   "execution_count": 36,
   "id": "47b532ca-657f-4a1e-89ce-0c20e0bbc76a",
   "metadata": {},
   "outputs": [],
   "source": [
    "train_track_ids_encoded = range(len(item_encoder.classes_))\n",
    "\n",
    "similar_items = als_model.similar_items(train_track_ids_encoded, N=10)"
   ]
  },
  {
   "cell_type": "code",
   "execution_count": 37,
   "id": "ce370904-4c49-4152-8706-416074ea9b9a",
   "metadata": {
    "pycharm": {
     "name": "#%%\n"
    }
   },
   "outputs": [
    {
     "data": {
      "text/html": [
       "<div>\n",
       "<style scoped>\n",
       "    .dataframe tbody tr th:only-of-type {\n",
       "        vertical-align: middle;\n",
       "    }\n",
       "\n",
       "    .dataframe tbody tr th {\n",
       "        vertical-align: top;\n",
       "    }\n",
       "\n",
       "    .dataframe thead th {\n",
       "        text-align: right;\n",
       "    }\n",
       "</style>\n",
       "<table border=\"1\" class=\"dataframe\">\n",
       "  <thead>\n",
       "    <tr style=\"text-align: right;\">\n",
       "      <th></th>\n",
       "      <th>track_id_1</th>\n",
       "      <th>track_id_2</th>\n",
       "      <th>score</th>\n",
       "    </tr>\n",
       "  </thead>\n",
       "  <tbody>\n",
       "    <tr>\n",
       "      <th>1</th>\n",
       "      <td>26</td>\n",
       "      <td>4792100</td>\n",
       "      <td>0.905948</td>\n",
       "    </tr>\n",
       "    <tr>\n",
       "      <th>2</th>\n",
       "      <td>26</td>\n",
       "      <td>68659177</td>\n",
       "      <td>0.873158</td>\n",
       "    </tr>\n",
       "    <tr>\n",
       "      <th>3</th>\n",
       "      <td>26</td>\n",
       "      <td>977690</td>\n",
       "      <td>0.864438</td>\n",
       "    </tr>\n",
       "    <tr>\n",
       "      <th>4</th>\n",
       "      <td>26</td>\n",
       "      <td>19905189</td>\n",
       "      <td>0.858814</td>\n",
       "    </tr>\n",
       "    <tr>\n",
       "      <th>5</th>\n",
       "      <td>26</td>\n",
       "      <td>18330217</td>\n",
       "      <td>0.852247</td>\n",
       "    </tr>\n",
       "    <tr>\n",
       "      <th>...</th>\n",
       "      <td>...</td>\n",
       "      <td>...</td>\n",
       "      <td>...</td>\n",
       "    </tr>\n",
       "    <tr>\n",
       "      <th>9999995</th>\n",
       "      <td>101521819</td>\n",
       "      <td>679175</td>\n",
       "      <td>0.768101</td>\n",
       "    </tr>\n",
       "    <tr>\n",
       "      <th>9999996</th>\n",
       "      <td>101521819</td>\n",
       "      <td>69719547</td>\n",
       "      <td>0.755770</td>\n",
       "    </tr>\n",
       "    <tr>\n",
       "      <th>9999997</th>\n",
       "      <td>101521819</td>\n",
       "      <td>69164022</td>\n",
       "      <td>0.755173</td>\n",
       "    </tr>\n",
       "    <tr>\n",
       "      <th>9999998</th>\n",
       "      <td>101521819</td>\n",
       "      <td>17795646</td>\n",
       "      <td>0.753689</td>\n",
       "    </tr>\n",
       "    <tr>\n",
       "      <th>9999999</th>\n",
       "      <td>101521819</td>\n",
       "      <td>26420660</td>\n",
       "      <td>0.753162</td>\n",
       "    </tr>\n",
       "  </tbody>\n",
       "</table>\n",
       "<p>9002340 rows × 3 columns</p>\n",
       "</div>"
      ],
      "text/plain": [
       "         track_id_1  track_id_2     score\n",
       "1                26     4792100  0.905948\n",
       "2                26    68659177  0.873158\n",
       "3                26      977690  0.864438\n",
       "4                26    19905189  0.858814\n",
       "5                26    18330217  0.852247\n",
       "...             ...         ...       ...\n",
       "9999995   101521819      679175  0.768101\n",
       "9999996   101521819    69719547  0.755770\n",
       "9999997   101521819    69164022  0.755173\n",
       "9999998   101521819    17795646  0.753689\n",
       "9999999   101521819    26420660  0.753162\n",
       "\n",
       "[9002340 rows x 3 columns]"
      ]
     },
     "execution_count": 37,
     "metadata": {},
     "output_type": "execute_result"
    }
   ],
   "source": [
    "sim_item_item_ids_enc = similar_items[0]\n",
    "sim_item_scores = similar_items[1]\n",
    "\n",
    "# Соберем датасет\n",
    "similar_items = pd.DataFrame({\n",
    "    \"track_id_encoded\": train_track_ids_encoded,\n",
    "    \"sim_track_id_encoded\": sim_item_item_ids_enc.tolist(), \n",
    "    \"score\": sim_item_scores.tolist()})\n",
    "similar_items = similar_items.explode([\"sim_track_id_encoded\", \"score\"], ignore_index=True)\n",
    "\n",
    "# Приведем типы\n",
    "similar_items[\"sim_track_id_encoded\"] = similar_items[\"sim_track_id_encoded\"].astype(\"int64\")\n",
    "similar_items[\"score\"] = similar_items[\"score\"].astype(\"float\")\n",
    "\n",
    "# Вернем оригинальные айдишники треков\n",
    "similar_items[\"track_id_1\"] = item_encoder.inverse_transform(similar_items[\"track_id_encoded\"])\n",
    "similar_items[\"track_id_2\"] = item_encoder.inverse_transform(similar_items[\"sim_track_id_encoded\"])\n",
    "similar_items = similar_items.drop(columns=[\"track_id_encoded\", \"sim_track_id_encoded\"])\n",
    "\n",
    "# Отфильтруем рекомендацию на самого себя\n",
    "similar_items = similar_items.query(\"track_id_1 != track_id_2\")\n",
    "\n",
    "similar_items = similar_items[[\"track_id_1\", \"track_id_2\", \"score\"]]\n",
    "similar_items"
   ]
  },
  {
   "cell_type": "code",
   "execution_count": 38,
   "id": "828679ed-b40f-4500-9787-307c43f51888",
   "metadata": {},
   "outputs": [],
   "source": [
    "# Посмотрим глазами что получилось"
   ]
  },
  {
   "cell_type": "code",
   "execution_count": 39,
   "id": "9c5312bb-52d0-4268-8052-7c2c2b795c43",
   "metadata": {},
   "outputs": [
    {
     "data": {
      "text/html": [
       "<div>\n",
       "<style scoped>\n",
       "    .dataframe tbody tr th:only-of-type {\n",
       "        vertical-align: middle;\n",
       "    }\n",
       "\n",
       "    .dataframe tbody tr th {\n",
       "        vertical-align: top;\n",
       "    }\n",
       "\n",
       "    .dataframe thead th {\n",
       "        text-align: right;\n",
       "    }\n",
       "</style>\n",
       "<table border=\"1\" class=\"dataframe\">\n",
       "  <thead>\n",
       "    <tr style=\"text-align: right;\">\n",
       "      <th></th>\n",
       "      <th>track_id</th>\n",
       "      <th>track</th>\n",
       "      <th>artist</th>\n",
       "      <th>album</th>\n",
       "      <th>genre</th>\n",
       "      <th>track_id_enc</th>\n",
       "    </tr>\n",
       "  </thead>\n",
       "  <tbody>\n",
       "    <tr>\n",
       "      <th>63652</th>\n",
       "      <td>609676</td>\n",
       "      <td>Never Gonna Give You Up</td>\n",
       "      <td>Rick Astley</td>\n",
       "      <td>The Best Year Of My Life: 1987</td>\n",
       "      <td>pop</td>\n",
       "      <td>63652</td>\n",
       "    </tr>\n",
       "  </tbody>\n",
       "</table>\n",
       "</div>"
      ],
      "text/plain": [
       "       track_id                    track       artist  \\\n",
       "63652    609676  Never Gonna Give You Up  Rick Astley   \n",
       "\n",
       "                                album genre  track_id_enc  \n",
       "63652  The Best Year Of My Life: 1987   pop         63652  "
      ]
     },
     "metadata": {},
     "output_type": "display_data"
    },
    {
     "data": {
      "text/html": [
       "<div>\n",
       "<style scoped>\n",
       "    .dataframe tbody tr th:only-of-type {\n",
       "        vertical-align: middle;\n",
       "    }\n",
       "\n",
       "    .dataframe tbody tr th {\n",
       "        vertical-align: top;\n",
       "    }\n",
       "\n",
       "    .dataframe thead th {\n",
       "        text-align: right;\n",
       "    }\n",
       "</style>\n",
       "<table border=\"1\" class=\"dataframe\">\n",
       "  <thead>\n",
       "    <tr style=\"text-align: right;\">\n",
       "      <th></th>\n",
       "      <th>track_id_1</th>\n",
       "      <th>track_id_2</th>\n",
       "      <th>score</th>\n",
       "      <th>track_id</th>\n",
       "      <th>track</th>\n",
       "      <th>artist</th>\n",
       "      <th>album</th>\n",
       "      <th>genre</th>\n",
       "      <th>track_id_enc</th>\n",
       "    </tr>\n",
       "  </thead>\n",
       "  <tbody>\n",
       "    <tr>\n",
       "      <th>0</th>\n",
       "      <td>609676</td>\n",
       "      <td>80031329</td>\n",
       "      <td>0.906309</td>\n",
       "      <td>80031329</td>\n",
       "      <td>La Bambola</td>\n",
       "      <td>Elenoir</td>\n",
       "      <td>La Bambola</td>\n",
       "      <td>pop</td>\n",
       "      <td>927578</td>\n",
       "    </tr>\n",
       "    <tr>\n",
       "      <th>1</th>\n",
       "      <td>609676</td>\n",
       "      <td>22041559</td>\n",
       "      <td>0.904351</td>\n",
       "      <td>22041559</td>\n",
       "      <td>The Rhythm of Violence</td>\n",
       "      <td>Wynardtage</td>\n",
       "      <td>Pest</td>\n",
       "      <td>metal</td>\n",
       "      <td>340045</td>\n",
       "    </tr>\n",
       "    <tr>\n",
       "      <th>2</th>\n",
       "      <td>609676</td>\n",
       "      <td>26107809</td>\n",
       "      <td>0.903240</td>\n",
       "      <td>26107809</td>\n",
       "      <td>100 Degrees</td>\n",
       "      <td>Kylie Minogue</td>\n",
       "      <td>Kylie Christmas</td>\n",
       "      <td>pop</td>\n",
       "      <td>387281</td>\n",
       "    </tr>\n",
       "    <tr>\n",
       "      <th>3</th>\n",
       "      <td>609676</td>\n",
       "      <td>2786323</td>\n",
       "      <td>0.896318</td>\n",
       "      <td>2786323</td>\n",
       "      <td>Старики</td>\n",
       "      <td>Пелагея</td>\n",
       "      <td>Тропы live</td>\n",
       "      <td>folkrock</td>\n",
       "      <td>139248</td>\n",
       "    </tr>\n",
       "    <tr>\n",
       "      <th>4</th>\n",
       "      <td>609676</td>\n",
       "      <td>24503053</td>\n",
       "      <td>0.890242</td>\n",
       "      <td>24503053</td>\n",
       "      <td>More...</td>\n",
       "      <td>Wilco</td>\n",
       "      <td>Star Wars</td>\n",
       "      <td>alternative</td>\n",
       "      <td>365494</td>\n",
       "    </tr>\n",
       "    <tr>\n",
       "      <th>5</th>\n",
       "      <td>609676</td>\n",
       "      <td>15876467</td>\n",
       "      <td>0.886770</td>\n",
       "      <td>15876467</td>\n",
       "      <td>All in the Balance</td>\n",
       "      <td>Murray Gold</td>\n",
       "      <td>Doctor Who: Series 4-The Specials</td>\n",
       "      <td>tvseries</td>\n",
       "      <td>256578</td>\n",
       "    </tr>\n",
       "    <tr>\n",
       "      <th>6</th>\n",
       "      <td>609676</td>\n",
       "      <td>382439</td>\n",
       "      <td>0.885859</td>\n",
       "      <td>382439</td>\n",
       "      <td>The Closest Thing To Crazy</td>\n",
       "      <td>Katie Melua</td>\n",
       "      <td>I Love Mum</td>\n",
       "      <td>jazz</td>\n",
       "      <td>45324</td>\n",
       "    </tr>\n",
       "    <tr>\n",
       "      <th>7</th>\n",
       "      <td>609676</td>\n",
       "      <td>79339975</td>\n",
       "      <td>0.885110</td>\n",
       "      <td>79339975</td>\n",
       "      <td>Она моё всё</td>\n",
       "      <td>NECHAEV</td>\n",
       "      <td>Она моё всё</td>\n",
       "      <td>pop</td>\n",
       "      <td>923096</td>\n",
       "    </tr>\n",
       "    <tr>\n",
       "      <th>8</th>\n",
       "      <td>609676</td>\n",
       "      <td>17198460</td>\n",
       "      <td>0.881217</td>\n",
       "      <td>17198460</td>\n",
       "      <td>Когда я закрываю глаза</td>\n",
       "      <td>Игорь Крутой</td>\n",
       "      <td>Без слов. . .</td>\n",
       "      <td>rusestrada</td>\n",
       "      <td>272673</td>\n",
       "    </tr>\n",
       "  </tbody>\n",
       "</table>\n",
       "</div>"
      ],
      "text/plain": [
       "   track_id_1  track_id_2     score  track_id                       track  \\\n",
       "0      609676    80031329  0.906309  80031329                  La Bambola   \n",
       "1      609676    22041559  0.904351  22041559      The Rhythm of Violence   \n",
       "2      609676    26107809  0.903240  26107809                 100 Degrees   \n",
       "3      609676     2786323  0.896318   2786323                     Старики   \n",
       "4      609676    24503053  0.890242  24503053                     More...   \n",
       "5      609676    15876467  0.886770  15876467          All in the Balance   \n",
       "6      609676      382439  0.885859    382439  The Closest Thing To Crazy   \n",
       "7      609676    79339975  0.885110  79339975                 Она моё всё   \n",
       "8      609676    17198460  0.881217  17198460      Когда я закрываю глаза   \n",
       "\n",
       "          artist                              album        genre  track_id_enc  \n",
       "0        Elenoir                         La Bambola          pop        927578  \n",
       "1     Wynardtage                               Pest        metal        340045  \n",
       "2  Kylie Minogue                    Kylie Christmas          pop        387281  \n",
       "3        Пелагея                         Тропы live     folkrock        139248  \n",
       "4          Wilco                          Star Wars  alternative        365494  \n",
       "5    Murray Gold  Doctor Who: Series 4-The Specials     tvseries        256578  \n",
       "6    Katie Melua                         I Love Mum         jazz         45324  \n",
       "7        NECHAEV                        Она моё всё          pop        923096  \n",
       "8   Игорь Крутой                      Без слов. . .   rusestrada        272673  "
      ]
     },
     "metadata": {},
     "output_type": "display_data"
    }
   ],
   "source": [
    "trackid = events_train.track_id.drop_duplicates().tolist()[1111]\n",
    "track = items.query(\"track_id == @trackid\")\n",
    "display(track)\n",
    "\n",
    "k_sim = similar_items.query(\"track_id_1 == @trackid\").merge(items, left_on=\"track_id_2\", right_on=\"track_id\")\n",
    "display(k_sim)"
   ]
  },
  {
   "cell_type": "code",
   "execution_count": 40,
   "id": "4988d587-5215-4689-9661-7690b46f49a7",
   "metadata": {},
   "outputs": [
    {
     "name": "stdout",
     "output_type": "stream",
     "text": [
      "<class 'pandas.core.frame.DataFrame'>\n",
      "Index: 9002340 entries, 1 to 9999999\n",
      "Data columns (total 3 columns):\n",
      " #   Column      Dtype  \n",
      "---  ------      -----  \n",
      " 0   track_id_1  int32  \n",
      " 1   track_id_2  int32  \n",
      " 2   score       float64\n",
      "dtypes: float64(1), int32(2)\n",
      "memory usage: 206.0 MB\n"
     ]
    }
   ],
   "source": [
    "similar_items.info()"
   ]
  },
  {
   "cell_type": "code",
   "execution_count": 41,
   "id": "c3d708bc-74f3-493b-ae66-fcd2ed03dc06",
   "metadata": {},
   "outputs": [],
   "source": [
    "similar_items.to_parquet(\"data/similar.parquet\")"
   ]
  },
  {
   "cell_type": "markdown",
   "id": "0087a3e7-ca9f-42cd-944c-944222c1baef",
   "metadata": {
    "pycharm": {
     "name": "#%% md\n"
    }
   },
   "source": [
    "# Построение признаков"
   ]
  },
  {
   "cell_type": "markdown",
   "id": "e82a32e1-b90b-4eaf-9439-fc8deab9f34b",
   "metadata": {
    "pycharm": {
     "name": "#%% md\n"
    }
   },
   "source": [
    "Построим три признака, можно больше, для ранжирующей модели."
   ]
  },
  {
   "cell_type": "code",
   "execution_count": 42,
   "id": "05b4ae84-406a-44a4-abec-4f80f93e3004",
   "metadata": {
    "pycharm": {
     "name": "#%%\n"
    }
   },
   "outputs": [],
   "source": [
    "# Сначала разделим тест еще на два набора, чтобы мы могли обучить катбуст"
   ]
  },
  {
   "cell_type": "code",
   "execution_count": 43,
   "id": "180c14e2-c2fc-4f36-b82d-aef98f0a60fc",
   "metadata": {},
   "outputs": [
    {
     "name": "stdout",
     "output_type": "stream",
     "text": [
      "(16039203, 6) (15004532, 6)\n"
     ]
    }
   ],
   "source": [
    "split_date_for_labels = pd.to_datetime(\"2022-12-15\")\n",
    "\n",
    "split_date_for_labels_idx = events_test[\"started_at\"] < split_date_for_labels\n",
    "events_labels = events_test[split_date_for_labels_idx].copy()\n",
    "events_test_2 = events_test[~split_date_for_labels_idx].copy()\n",
    "\n",
    "print(events_labels.shape, events_test_2.shape)"
   ]
  },
  {
   "cell_type": "code",
   "execution_count": 44,
   "id": "f82a4720-c54a-47ee-b52c-8c0e1e31626b",
   "metadata": {},
   "outputs": [],
   "source": [
    "# Теперь мы можем пометить данные, так что у нас получится таргет, мы можем посмотреть в истории прослушал ли пользователь трек или нет."
   ]
  },
  {
   "cell_type": "code",
   "execution_count": 50,
   "id": "613ab793-680a-433f-bf5c-ceaae962db69",
   "metadata": {},
   "outputs": [],
   "source": [
    "events_labels[\"target\"] = 1\n",
    "\n",
    "candidates = als_recommendations.merge(\n",
    "    events_labels[[\"user_id\", \"track_id\", \"target\"]],\n",
    "    on=[\"user_id\", \"track_id\"],\n",
    "    how=\"left\",\n",
    ")\n",
    "candidates[\"target\"] = candidates[\"target\"].fillna(0).astype(\"int\")"
   ]
  },
  {
   "cell_type": "code",
   "execution_count": 51,
   "id": "95baf1e9-980d-45d1-b65b-735a31e9c904",
   "metadata": {},
   "outputs": [
    {
     "data": {
      "text/plain": [
       "target\n",
       "0    0.997596\n",
       "1    0.002404\n",
       "Name: proportion, dtype: float64"
      ]
     },
     "execution_count": 51,
     "metadata": {},
     "output_type": "execute_result"
    }
   ],
   "source": [
    "candidates.target.value_counts(normalize=True)"
   ]
  },
  {
   "cell_type": "raw",
   "id": "ea67387e-a6ff-41e5-8cfd-90deb0672fc8",
   "metadata": {},
   "source": [
    "# Тут дисбаланс\n",
    "- Обрежем только тех пользователей у которых был положительный таргет\n",
    "- Оставим только по 4 негативных примера для каждого юзера"
   ]
  },
  {
   "cell_type": "code",
   "execution_count": 52,
   "id": "fea3b620-9887-4242-878d-365b357f27f9",
   "metadata": {},
   "outputs": [
    {
     "data": {
      "text/html": [
       "<div>\n",
       "<style scoped>\n",
       "    .dataframe tbody tr th:only-of-type {\n",
       "        vertical-align: middle;\n",
       "    }\n",
       "\n",
       "    .dataframe tbody tr th {\n",
       "        vertical-align: top;\n",
       "    }\n",
       "\n",
       "    .dataframe thead th {\n",
       "        text-align: right;\n",
       "    }\n",
       "</style>\n",
       "<table border=\"1\" class=\"dataframe\">\n",
       "  <thead>\n",
       "    <tr style=\"text-align: right;\">\n",
       "      <th></th>\n",
       "      <th>user_id</th>\n",
       "      <th>track_id</th>\n",
       "      <th>score</th>\n",
       "      <th>target</th>\n",
       "    </tr>\n",
       "  </thead>\n",
       "  <tbody>\n",
       "    <tr>\n",
       "      <th>0</th>\n",
       "      <td>0</td>\n",
       "      <td>73376988</td>\n",
       "      <td>1.160120e-19</td>\n",
       "      <td>0</td>\n",
       "    </tr>\n",
       "    <tr>\n",
       "      <th>1</th>\n",
       "      <td>0</td>\n",
       "      <td>32947997</td>\n",
       "      <td>1.072650e-19</td>\n",
       "      <td>0</td>\n",
       "    </tr>\n",
       "    <tr>\n",
       "      <th>2</th>\n",
       "      <td>0</td>\n",
       "      <td>50834580</td>\n",
       "      <td>9.919567e-20</td>\n",
       "      <td>0</td>\n",
       "    </tr>\n",
       "    <tr>\n",
       "      <th>3</th>\n",
       "      <td>0</td>\n",
       "      <td>10216</td>\n",
       "      <td>8.936289e-20</td>\n",
       "      <td>0</td>\n",
       "    </tr>\n",
       "    <tr>\n",
       "      <th>4</th>\n",
       "      <td>0</td>\n",
       "      <td>44484514</td>\n",
       "      <td>8.917339e-20</td>\n",
       "      <td>0</td>\n",
       "    </tr>\n",
       "    <tr>\n",
       "      <th>...</th>\n",
       "      <td>...</td>\n",
       "      <td>...</td>\n",
       "      <td>...</td>\n",
       "      <td>...</td>\n",
       "    </tr>\n",
       "    <tr>\n",
       "      <th>13732205</th>\n",
       "      <td>1374582</td>\n",
       "      <td>53117514</td>\n",
       "      <td>3.041105e-20</td>\n",
       "      <td>0</td>\n",
       "    </tr>\n",
       "    <tr>\n",
       "      <th>13732206</th>\n",
       "      <td>1374582</td>\n",
       "      <td>31078723</td>\n",
       "      <td>2.945979e-20</td>\n",
       "      <td>0</td>\n",
       "    </tr>\n",
       "    <tr>\n",
       "      <th>13732207</th>\n",
       "      <td>1374582</td>\n",
       "      <td>42242123</td>\n",
       "      <td>2.650701e-20</td>\n",
       "      <td>0</td>\n",
       "    </tr>\n",
       "    <tr>\n",
       "      <th>13732208</th>\n",
       "      <td>1374582</td>\n",
       "      <td>35505245</td>\n",
       "      <td>2.634321e-20</td>\n",
       "      <td>0</td>\n",
       "    </tr>\n",
       "    <tr>\n",
       "      <th>13732209</th>\n",
       "      <td>1374582</td>\n",
       "      <td>43052381</td>\n",
       "      <td>2.433790e-20</td>\n",
       "      <td>0</td>\n",
       "    </tr>\n",
       "  </tbody>\n",
       "</table>\n",
       "<p>13732210 rows × 4 columns</p>\n",
       "</div>"
      ],
      "text/plain": [
       "          user_id  track_id         score  target\n",
       "0               0  73376988  1.160120e-19       0\n",
       "1               0  32947997  1.072650e-19       0\n",
       "2               0  50834580  9.919567e-20       0\n",
       "3               0     10216  8.936289e-20       0\n",
       "4               0  44484514  8.917339e-20       0\n",
       "...           ...       ...           ...     ...\n",
       "13732205  1374582  53117514  3.041105e-20       0\n",
       "13732206  1374582  31078723  2.945979e-20       0\n",
       "13732207  1374582  42242123  2.650701e-20       0\n",
       "13732208  1374582  35505245  2.634321e-20       0\n",
       "13732209  1374582  43052381  2.433790e-20       0\n",
       "\n",
       "[13732210 rows x 4 columns]"
      ]
     },
     "execution_count": 52,
     "metadata": {},
     "output_type": "execute_result"
    }
   ],
   "source": [
    "candidates"
   ]
  },
  {
   "cell_type": "code",
   "execution_count": 53,
   "id": "d3e6ca91-a0f6-4177-ab98-31b996405867",
   "metadata": {},
   "outputs": [],
   "source": [
    "candidates = candidates.groupby(\"user_id\").filter(lambda x: x[\"target\"].sum() > 0)"
   ]
  },
  {
   "cell_type": "code",
   "execution_count": 63,
   "id": "9c96630e-1f9f-4df5-b3af-f1a8d0c14cab",
   "metadata": {},
   "outputs": [],
   "source": [
    "candidates_for_train = pd.concat([\n",
    "    candidates.query(\"target == 1\"),\n",
    "    candidates.query(\"target == 0\") \\\n",
    "        .groupby(\"user_id\") \\\n",
    "        .apply(lambda x: x.sample(4, random_state=42))\n",
    "])\n",
    "del candidates"
   ]
  },
  {
   "cell_type": "code",
   "execution_count": 64,
   "id": "efe20943-1ef2-4550-aa3c-4a7476c6b535",
   "metadata": {},
   "outputs": [
    {
     "data": {
      "text/plain": [
       "target\n",
       "0    0.785015\n",
       "1    0.214985\n",
       "Name: proportion, dtype: float64"
      ]
     },
     "execution_count": 64,
     "metadata": {},
     "output_type": "execute_result"
    }
   ],
   "source": [
    "candidates_for_train.target.value_counts(normalize=True)"
   ]
  },
  {
   "cell_type": "code",
   "execution_count": 65,
   "id": "40b2d388-d5e3-40de-bd0d-c6266b162027",
   "metadata": {},
   "outputs": [
    {
     "data": {
      "text/html": [
       "<div>\n",
       "<style scoped>\n",
       "    .dataframe tbody tr th:only-of-type {\n",
       "        vertical-align: middle;\n",
       "    }\n",
       "\n",
       "    .dataframe tbody tr th {\n",
       "        vertical-align: top;\n",
       "    }\n",
       "\n",
       "    .dataframe thead th {\n",
       "        text-align: right;\n",
       "    }\n",
       "</style>\n",
       "<table border=\"1\" class=\"dataframe\">\n",
       "  <thead>\n",
       "    <tr style=\"text-align: right;\">\n",
       "      <th></th>\n",
       "      <th>user_id</th>\n",
       "      <th>track_id</th>\n",
       "      <th>score</th>\n",
       "      <th>target</th>\n",
       "    </tr>\n",
       "  </thead>\n",
       "  <tbody>\n",
       "    <tr>\n",
       "      <th>0</th>\n",
       "      <td>42</td>\n",
       "      <td>29569939</td>\n",
       "      <td>5.563875e-20</td>\n",
       "      <td>1</td>\n",
       "    </tr>\n",
       "    <tr>\n",
       "      <th>1</th>\n",
       "      <td>76</td>\n",
       "      <td>6705392</td>\n",
       "      <td>1.748076e-13</td>\n",
       "      <td>1</td>\n",
       "    </tr>\n",
       "    <tr>\n",
       "      <th>2</th>\n",
       "      <td>135</td>\n",
       "      <td>56204557</td>\n",
       "      <td>6.409600e-20</td>\n",
       "      <td>1</td>\n",
       "    </tr>\n",
       "    <tr>\n",
       "      <th>3</th>\n",
       "      <td>138</td>\n",
       "      <td>81848875</td>\n",
       "      <td>1.033923e-20</td>\n",
       "      <td>1</td>\n",
       "    </tr>\n",
       "    <tr>\n",
       "      <th>4</th>\n",
       "      <td>143</td>\n",
       "      <td>52395280</td>\n",
       "      <td>1.487064e-13</td>\n",
       "      <td>1</td>\n",
       "    </tr>\n",
       "  </tbody>\n",
       "</table>\n",
       "</div>"
      ],
      "text/plain": [
       "   user_id  track_id         score  target\n",
       "0       42  29569939  5.563875e-20       1\n",
       "1       76   6705392  1.748076e-13       1\n",
       "2      135  56204557  6.409600e-20       1\n",
       "3      138  81848875  1.033923e-20       1\n",
       "4      143  52395280  1.487064e-13       1"
      ]
     },
     "metadata": {},
     "output_type": "display_data"
    },
    {
     "name": "stdout",
     "output_type": "stream",
     "text": [
      "<class 'pandas.core.frame.DataFrame'>\n",
      "RangeIndex: 153536 entries, 0 to 153535\n",
      "Data columns (total 4 columns):\n",
      " #   Column    Non-Null Count   Dtype  \n",
      "---  ------    --------------   -----  \n",
      " 0   user_id   153536 non-null  int32  \n",
      " 1   track_id  153536 non-null  int32  \n",
      " 2   score     153536 non-null  float64\n",
      " 3   target    153536 non-null  int64  \n",
      "dtypes: float64(1), int32(2), int64(1)\n",
      "memory usage: 3.5 MB\n"
     ]
    },
    {
     "data": {
      "text/plain": [
       "None"
      ]
     },
     "metadata": {},
     "output_type": "display_data"
    }
   ],
   "source": [
    "candidates_for_train = candidates_for_train.reset_index(drop=True)\n",
    "display(candidates_for_train.head())\n",
    "display(candidates_for_train.info())"
   ]
  },
  {
   "cell_type": "code",
   "execution_count": 66,
   "id": "a0f8fcc1-e136-4960-847e-e16dc981ed26",
   "metadata": {},
   "outputs": [],
   "source": [
    "# Жанровая фича"
   ]
  },
  {
   "cell_type": "code",
   "execution_count": 67,
   "id": "00f84c35-f544-4c3d-ad53-9b1d2b684c75",
   "metadata": {
    "pycharm": {
     "name": "#%%\n"
    }
   },
   "outputs": [
    {
     "data": {
      "text/html": [
       "<div>\n",
       "<style scoped>\n",
       "    .dataframe tbody tr th:only-of-type {\n",
       "        vertical-align: middle;\n",
       "    }\n",
       "\n",
       "    .dataframe tbody tr th {\n",
       "        vertical-align: top;\n",
       "    }\n",
       "\n",
       "    .dataframe thead th {\n",
       "        text-align: right;\n",
       "    }\n",
       "</style>\n",
       "<table border=\"1\" class=\"dataframe\">\n",
       "  <thead>\n",
       "    <tr style=\"text-align: right;\">\n",
       "      <th></th>\n",
       "      <th>user_id</th>\n",
       "      <th>track_id</th>\n",
       "      <th>score</th>\n",
       "      <th>target</th>\n",
       "      <th>genre</th>\n",
       "    </tr>\n",
       "  </thead>\n",
       "  <tbody>\n",
       "    <tr>\n",
       "      <th>0</th>\n",
       "      <td>42</td>\n",
       "      <td>29569939</td>\n",
       "      <td>5.563875e-20</td>\n",
       "      <td>1</td>\n",
       "      <td>dance</td>\n",
       "    </tr>\n",
       "    <tr>\n",
       "      <th>1</th>\n",
       "      <td>76</td>\n",
       "      <td>6705392</td>\n",
       "      <td>1.748076e-13</td>\n",
       "      <td>1</td>\n",
       "      <td>alternative</td>\n",
       "    </tr>\n",
       "    <tr>\n",
       "      <th>2</th>\n",
       "      <td>135</td>\n",
       "      <td>56204557</td>\n",
       "      <td>6.409600e-20</td>\n",
       "      <td>1</td>\n",
       "      <td>pop</td>\n",
       "    </tr>\n",
       "    <tr>\n",
       "      <th>3</th>\n",
       "      <td>138</td>\n",
       "      <td>81848875</td>\n",
       "      <td>1.033923e-20</td>\n",
       "      <td>1</td>\n",
       "      <td>pop</td>\n",
       "    </tr>\n",
       "    <tr>\n",
       "      <th>4</th>\n",
       "      <td>143</td>\n",
       "      <td>52395280</td>\n",
       "      <td>1.487064e-13</td>\n",
       "      <td>1</td>\n",
       "      <td>electronics</td>\n",
       "    </tr>\n",
       "  </tbody>\n",
       "</table>\n",
       "</div>"
      ],
      "text/plain": [
       "   user_id  track_id         score  target        genre\n",
       "0       42  29569939  5.563875e-20       1        dance\n",
       "1       76   6705392  1.748076e-13       1  alternative\n",
       "2      135  56204557  6.409600e-20       1          pop\n",
       "3      138  81848875  1.033923e-20       1          pop\n",
       "4      143  52395280  1.487064e-13       1  electronics"
      ]
     },
     "execution_count": 67,
     "metadata": {},
     "output_type": "execute_result"
    }
   ],
   "source": [
    "candidates_for_train = candidates_for_train.merge(\n",
    "    items[[\"track_id\", \"genre\"]],\n",
    "    on=\"track_id\",\n",
    "    how=\"left\"\n",
    ")\n",
    "candidates_for_train.head(5)"
   ]
  },
  {
   "cell_type": "code",
   "execution_count": 69,
   "id": "c7ee3035-9577-4652-8c4f-4c810d4dbf10",
   "metadata": {},
   "outputs": [],
   "source": [
    "# Рассмотрим ее как доля жанра во всех жанрах"
   ]
  },
  {
   "cell_type": "code",
   "execution_count": 68,
   "id": "c6b2bd4e-afb5-41b7-a7b9-c471d11beff0",
   "metadata": {},
   "outputs": [
    {
     "data": {
      "text/html": [
       "<div>\n",
       "<style scoped>\n",
       "    .dataframe tbody tr th:only-of-type {\n",
       "        vertical-align: middle;\n",
       "    }\n",
       "\n",
       "    .dataframe tbody tr th {\n",
       "        vertical-align: top;\n",
       "    }\n",
       "\n",
       "    .dataframe thead th {\n",
       "        text-align: right;\n",
       "    }\n",
       "</style>\n",
       "<table border=\"1\" class=\"dataframe\">\n",
       "  <thead>\n",
       "    <tr style=\"text-align: right;\">\n",
       "      <th></th>\n",
       "      <th>genre</th>\n",
       "      <th>genre_share</th>\n",
       "    </tr>\n",
       "  </thead>\n",
       "  <tbody>\n",
       "    <tr>\n",
       "      <th>42</th>\n",
       "      <td>pop</td>\n",
       "      <td>2.443062e-01</td>\n",
       "    </tr>\n",
       "    <tr>\n",
       "      <th>54</th>\n",
       "      <td>rusrap</td>\n",
       "      <td>1.100612e-01</td>\n",
       "    </tr>\n",
       "    <tr>\n",
       "      <th>15</th>\n",
       "      <td>electronics</td>\n",
       "      <td>8.417039e-02</td>\n",
       "    </tr>\n",
       "    <tr>\n",
       "      <th>13</th>\n",
       "      <td>dance</td>\n",
       "      <td>6.616507e-02</td>\n",
       "    </tr>\n",
       "    <tr>\n",
       "      <th>55</th>\n",
       "      <td>rusrock</td>\n",
       "      <td>6.016836e-02</td>\n",
       "    </tr>\n",
       "    <tr>\n",
       "      <th>...</th>\n",
       "      <td>...</td>\n",
       "      <td>...</td>\n",
       "    </tr>\n",
       "    <tr>\n",
       "      <th>5</th>\n",
       "      <td>bard</td>\n",
       "      <td>2.643009e-06</td>\n",
       "    </tr>\n",
       "    <tr>\n",
       "      <th>29</th>\n",
       "      <td>hls</td>\n",
       "      <td>2.026655e-06</td>\n",
       "    </tr>\n",
       "    <tr>\n",
       "      <th>4</th>\n",
       "      <td>audiobooks</td>\n",
       "      <td>1.274494e-06</td>\n",
       "    </tr>\n",
       "    <tr>\n",
       "      <th>67</th>\n",
       "      <td>technologies</td>\n",
       "      <td>2.402735e-07</td>\n",
       "    </tr>\n",
       "    <tr>\n",
       "      <th>61</th>\n",
       "      <td>soviet</td>\n",
       "      <td>2.089335e-08</td>\n",
       "    </tr>\n",
       "  </tbody>\n",
       "</table>\n",
       "<p>74 rows × 2 columns</p>\n",
       "</div>"
      ],
      "text/plain": [
       "           genre   genre_share\n",
       "42           pop  2.443062e-01\n",
       "54        rusrap  1.100612e-01\n",
       "15   electronics  8.417039e-02\n",
       "13         dance  6.616507e-02\n",
       "55       rusrock  6.016836e-02\n",
       "..           ...           ...\n",
       "5           bard  2.643009e-06\n",
       "29           hls  2.026655e-06\n",
       "4     audiobooks  1.274494e-06\n",
       "67  technologies  2.402735e-07\n",
       "61        soviet  2.089335e-08\n",
       "\n",
       "[74 rows x 2 columns]"
      ]
     },
     "execution_count": 68,
     "metadata": {},
     "output_type": "execute_result"
    }
   ],
   "source": [
    "genre_shares = events_train \\\n",
    "                .merge(\n",
    "                    items[[\"track_id\", \"genre\"]], \n",
    "                    on=\"track_id\", \n",
    "                    how=\"left\",\n",
    "                ).groupby(\"genre\")[\"track_id\"].count()\n",
    "genre_shares /= genre_shares.sum()\n",
    "genre_shares = genre_shares.reset_index().rename(columns={\"track_id\": \"genre_share\"})\n",
    "genre_shares.sort_values(by=\"genre_share\", ascending=False)"
   ]
  },
  {
   "cell_type": "code",
   "execution_count": 70,
   "id": "7937e7a0-b21b-44e9-aea3-6ba4555f1d79",
   "metadata": {},
   "outputs": [
    {
     "data": {
      "text/html": [
       "<div>\n",
       "<style scoped>\n",
       "    .dataframe tbody tr th:only-of-type {\n",
       "        vertical-align: middle;\n",
       "    }\n",
       "\n",
       "    .dataframe tbody tr th {\n",
       "        vertical-align: top;\n",
       "    }\n",
       "\n",
       "    .dataframe thead th {\n",
       "        text-align: right;\n",
       "    }\n",
       "</style>\n",
       "<table border=\"1\" class=\"dataframe\">\n",
       "  <thead>\n",
       "    <tr style=\"text-align: right;\">\n",
       "      <th></th>\n",
       "      <th>user_id</th>\n",
       "      <th>track_id</th>\n",
       "      <th>score</th>\n",
       "      <th>target</th>\n",
       "      <th>genre</th>\n",
       "      <th>genre_share</th>\n",
       "    </tr>\n",
       "  </thead>\n",
       "  <tbody>\n",
       "    <tr>\n",
       "      <th>0</th>\n",
       "      <td>42</td>\n",
       "      <td>29569939</td>\n",
       "      <td>5.563875e-20</td>\n",
       "      <td>1</td>\n",
       "      <td>dance</td>\n",
       "      <td>0.066165</td>\n",
       "    </tr>\n",
       "    <tr>\n",
       "      <th>1</th>\n",
       "      <td>76</td>\n",
       "      <td>6705392</td>\n",
       "      <td>1.748076e-13</td>\n",
       "      <td>1</td>\n",
       "      <td>alternative</td>\n",
       "      <td>0.046200</td>\n",
       "    </tr>\n",
       "    <tr>\n",
       "      <th>2</th>\n",
       "      <td>135</td>\n",
       "      <td>56204557</td>\n",
       "      <td>6.409600e-20</td>\n",
       "      <td>1</td>\n",
       "      <td>pop</td>\n",
       "      <td>0.244306</td>\n",
       "    </tr>\n",
       "    <tr>\n",
       "      <th>3</th>\n",
       "      <td>138</td>\n",
       "      <td>81848875</td>\n",
       "      <td>1.033923e-20</td>\n",
       "      <td>1</td>\n",
       "      <td>pop</td>\n",
       "      <td>0.244306</td>\n",
       "    </tr>\n",
       "    <tr>\n",
       "      <th>4</th>\n",
       "      <td>143</td>\n",
       "      <td>52395280</td>\n",
       "      <td>1.487064e-13</td>\n",
       "      <td>1</td>\n",
       "      <td>electronics</td>\n",
       "      <td>0.084170</td>\n",
       "    </tr>\n",
       "  </tbody>\n",
       "</table>\n",
       "</div>"
      ],
      "text/plain": [
       "   user_id  track_id         score  target        genre  genre_share\n",
       "0       42  29569939  5.563875e-20       1        dance     0.066165\n",
       "1       76   6705392  1.748076e-13       1  alternative     0.046200\n",
       "2      135  56204557  6.409600e-20       1          pop     0.244306\n",
       "3      138  81848875  1.033923e-20       1          pop     0.244306\n",
       "4      143  52395280  1.487064e-13       1  electronics     0.084170"
      ]
     },
     "execution_count": 70,
     "metadata": {},
     "output_type": "execute_result"
    }
   ],
   "source": [
    "candidates_for_train = candidates_for_train.merge(\n",
    "    genre_shares,\n",
    "    on=\"genre\",\n",
    "    how=\"left\"\n",
    ")\n",
    "candidates_for_train.head()"
   ]
  },
  {
   "cell_type": "code",
   "execution_count": 71,
   "id": "469050c4-19e0-458b-b811-ebfd17f7214c",
   "metadata": {},
   "outputs": [],
   "source": [
    "candidates_for_train.rename(columns={'score': 'als_score'}, inplace=True)"
   ]
  },
  {
   "cell_type": "code",
   "execution_count": 76,
   "id": "8b88d1b7-91ec-4ddf-b1b7-d353c72c151a",
   "metadata": {},
   "outputs": [
    {
     "name": "stdout",
     "output_type": "stream",
     "text": [
      "<class 'pandas.core.frame.DataFrame'>\n",
      "Index: 191586163 entries, 0 to 222629737\n",
      "Data columns (total 6 columns):\n",
      " #   Column           Dtype         \n",
      "---  ------           -----         \n",
      " 0   user_id          int32         \n",
      " 1   track_id         int32         \n",
      " 2   started_at       datetime64[ns]\n",
      " 3   user_id_encoded  int64         \n",
      " 4   track_id_enc     int64         \n",
      " 5   tracks_played    float64       \n",
      "dtypes: datetime64[ns](1), float64(1), int32(2), int64(2)\n",
      "memory usage: 8.6 GB\n"
     ]
    }
   ],
   "source": [
    "events_train.info()"
   ]
  },
  {
   "cell_type": "code",
   "execution_count": 164,
   "id": "cbbb854b-85a1-4cbe-b44f-fe1d875078f4",
   "metadata": {},
   "outputs": [
    {
     "name": "stdout",
     "output_type": "stream",
     "text": [
      "<class 'pandas.core.frame.DataFrame'>\n",
      "Index: 207625366 entries, 0 to 222629807\n",
      "Data columns (total 7 columns):\n",
      " #   Column           Dtype         \n",
      "---  ------           -----         \n",
      " 0   user_id          int32         \n",
      " 1   track_id         int32         \n",
      " 2   started_at       datetime64[ns]\n",
      " 3   user_id_encoded  int64         \n",
      " 4   track_id_enc     int64         \n",
      " 5   tracks_played    float64       \n",
      " 6   target           float64       \n",
      "dtypes: datetime64[ns](1), float64(2), int32(2), int64(2)\n",
      "memory usage: 10.8 GB\n"
     ]
    }
   ],
   "source": [
    "# events_train, events_labels - новый слепок для инференса\n",
    "\n",
    "inference_data = pd.concat([events_train, events_labels])\n",
    "inference_data.info()"
   ]
  },
  {
   "cell_type": "code",
   "execution_count": 81,
   "id": "32c30d27-2f1b-489c-b84d-fadc04c4603b",
   "metadata": {},
   "outputs": [
    {
     "data": {
      "text/plain": [
       "<1373221x1000000 sparse matrix of type '<class 'numpy.int8'>'\n",
       "\twith 207625366 stored elements in Compressed Sparse Row format>"
      ]
     },
     "execution_count": 81,
     "metadata": {},
     "output_type": "execute_result"
    }
   ],
   "source": [
    "# строим матрицу\n",
    "user_item_matrix_inference = scipy.sparse.csr_matrix(\n",
    "    (\n",
    "    inference_data[\"tracks_played\"],\n",
    "    (inference_data[\"user_id_encoded\"], inference_data[\"track_id_enc\"])\n",
    "    ),\n",
    "    dtype=np.int8\n",
    ")\n",
    "user_item_matrix_inference"
   ]
  },
  {
   "cell_type": "code",
   "execution_count": 82,
   "id": "026dcb07-74d0-473a-9666-77e6985d59f1",
   "metadata": {},
   "outputs": [
    {
     "name": "stderr",
     "output_type": "stream",
     "text": [
      "100%|████████████████████████████████████████████████████████████████████████████████████████████████████████████████████████████████████████████████████████████████████████████████████████████████████████████████████| 40/40 [54:58<00:00, 82.47s/it]\n"
     ]
    }
   ],
   "source": [
    "als_model_inference = AlternatingLeastSquares(**als_params)\n",
    "als_model_inference.fit(user_item_matrix_inference)"
   ]
  },
  {
   "cell_type": "code",
   "execution_count": 84,
   "id": "4c312685-2326-4795-9cba-9c97e8e307cc",
   "metadata": {},
   "outputs": [],
   "source": [
    "user_ids_encoded = range(len(user_encoder.classes_))\n",
    "\n",
    "als_recommendations_inference = als_model_inference.recommend(\n",
    "    user_ids_encoded, \n",
    "    user_item_matrix_inference[user_ids_encoded], \n",
    "    filter_already_liked_items=False, \n",
    "    N=10,\n",
    ")"
   ]
  },
  {
   "cell_type": "code",
   "execution_count": 85,
   "id": "5d267ef8-b1ca-4696-a8f3-1a3970d50d55",
   "metadata": {},
   "outputs": [
    {
     "data": {
      "text/html": [
       "<div>\n",
       "<style scoped>\n",
       "    .dataframe tbody tr th:only-of-type {\n",
       "        vertical-align: middle;\n",
       "    }\n",
       "\n",
       "    .dataframe tbody tr th {\n",
       "        vertical-align: top;\n",
       "    }\n",
       "\n",
       "    .dataframe thead th {\n",
       "        text-align: right;\n",
       "    }\n",
       "</style>\n",
       "<table border=\"1\" class=\"dataframe\">\n",
       "  <thead>\n",
       "    <tr style=\"text-align: right;\">\n",
       "      <th></th>\n",
       "      <th>user_id</th>\n",
       "      <th>track_id</th>\n",
       "      <th>score</th>\n",
       "    </tr>\n",
       "  </thead>\n",
       "  <tbody>\n",
       "    <tr>\n",
       "      <th>0</th>\n",
       "      <td>0</td>\n",
       "      <td>580880</td>\n",
       "      <td>2.753374e-20</td>\n",
       "    </tr>\n",
       "    <tr>\n",
       "      <th>1</th>\n",
       "      <td>0</td>\n",
       "      <td>665493</td>\n",
       "      <td>2.719888e-20</td>\n",
       "    </tr>\n",
       "    <tr>\n",
       "      <th>2</th>\n",
       "      <td>0</td>\n",
       "      <td>52395280</td>\n",
       "      <td>2.704267e-20</td>\n",
       "    </tr>\n",
       "    <tr>\n",
       "      <th>3</th>\n",
       "      <td>0</td>\n",
       "      <td>45130892</td>\n",
       "      <td>2.700750e-20</td>\n",
       "    </tr>\n",
       "    <tr>\n",
       "      <th>4</th>\n",
       "      <td>0</td>\n",
       "      <td>52380688</td>\n",
       "      <td>2.669193e-20</td>\n",
       "    </tr>\n",
       "  </tbody>\n",
       "</table>\n",
       "</div>"
      ],
      "text/plain": [
       "   user_id  track_id         score\n",
       "0        0    580880  2.753374e-20\n",
       "1        0    665493  2.719888e-20\n",
       "2        0  52395280  2.704267e-20\n",
       "3        0  45130892  2.700750e-20\n",
       "4        0  52380688  2.669193e-20"
      ]
     },
     "execution_count": 85,
     "metadata": {},
     "output_type": "execute_result"
    }
   ],
   "source": [
    "track_ids_encoded = als_recommendations_inference[0]\n",
    "als_scores = als_recommendations_inference[1]\n",
    "\n",
    "als_recommendations_inference = pd.DataFrame({\n",
    "    \"user_id_encoded\": user_ids_encoded,\n",
    "    \"track_id_encoded\": track_ids_encoded.tolist(), \n",
    "    \"score\": als_scores.tolist()\n",
    "})\n",
    "als_recommendations_inference = als_recommendations_inference.explode([\"track_id_encoded\", \"score\"], ignore_index=True)\n",
    "\n",
    "als_recommendations_inference[\"track_id_encoded\"] = als_recommendations_inference[\"track_id_encoded\"].astype(\"int\")\n",
    "als_recommendations_inference[\"score\"] = als_recommendations_inference[\"score\"].astype(\"float\")\n",
    "\n",
    "als_recommendations_inference[\"user_id\"] = user_encoder.inverse_transform(\n",
    "    als_recommendations_inference[\"user_id_encoded\"])\n",
    "als_recommendations_inference[\"track_id\"] = item_encoder.inverse_transform(\n",
    "    als_recommendations_inference[\"track_id_encoded\"])\n",
    "als_recommendations_inference = als_recommendations_inference.drop(\n",
    "    columns=[\"user_id_encoded\", \"track_id_encoded\"])\n",
    "\n",
    "als_recommendations_inference = als_recommendations_inference[[\"user_id\", \"track_id\", \"score\"]]\n",
    "als_recommendations_inference.head(5)"
   ]
  },
  {
   "cell_type": "code",
   "execution_count": 86,
   "id": "bdd564b8-75c4-42a5-9d54-d9faaa68c40d",
   "metadata": {},
   "outputs": [],
   "source": [
    "als_recommendations_inference.to_parquet(\"data/personal_als_inference.parquet\")"
   ]
  },
  {
   "cell_type": "code",
   "execution_count": 87,
   "id": "31a06c78-7f58-46ba-be3b-9b5e927cc783",
   "metadata": {},
   "outputs": [],
   "source": [
    "# Сохраним только юзеров для events_test_2"
   ]
  },
  {
   "cell_type": "code",
   "execution_count": 88,
   "id": "688bdb52-af10-4b72-bb49-ee8692a84e4b",
   "metadata": {},
   "outputs": [
    {
     "data": {
      "text/html": [
       "<div>\n",
       "<style scoped>\n",
       "    .dataframe tbody tr th:only-of-type {\n",
       "        vertical-align: middle;\n",
       "    }\n",
       "\n",
       "    .dataframe tbody tr th {\n",
       "        vertical-align: top;\n",
       "    }\n",
       "\n",
       "    .dataframe thead th {\n",
       "        text-align: right;\n",
       "    }\n",
       "</style>\n",
       "<table border=\"1\" class=\"dataframe\">\n",
       "  <thead>\n",
       "    <tr style=\"text-align: right;\">\n",
       "      <th></th>\n",
       "      <th>user_id</th>\n",
       "      <th>track_id</th>\n",
       "      <th>score</th>\n",
       "    </tr>\n",
       "  </thead>\n",
       "  <tbody>\n",
       "    <tr>\n",
       "      <th>30</th>\n",
       "      <td>3</td>\n",
       "      <td>44484514</td>\n",
       "      <td>4.183806e-20</td>\n",
       "    </tr>\n",
       "    <tr>\n",
       "      <th>31</th>\n",
       "      <td>3</td>\n",
       "      <td>50834580</td>\n",
       "      <td>4.008750e-20</td>\n",
       "    </tr>\n",
       "    <tr>\n",
       "      <th>32</th>\n",
       "      <td>3</td>\n",
       "      <td>43052381</td>\n",
       "      <td>3.848737e-20</td>\n",
       "    </tr>\n",
       "    <tr>\n",
       "      <th>33</th>\n",
       "      <td>3</td>\n",
       "      <td>52395280</td>\n",
       "      <td>3.390298e-20</td>\n",
       "    </tr>\n",
       "    <tr>\n",
       "      <th>34</th>\n",
       "      <td>3</td>\n",
       "      <td>45499814</td>\n",
       "      <td>3.344669e-20</td>\n",
       "    </tr>\n",
       "  </tbody>\n",
       "</table>\n",
       "</div>"
      ],
      "text/plain": [
       "    user_id  track_id         score\n",
       "30        3  44484514  4.183806e-20\n",
       "31        3  50834580  4.008750e-20\n",
       "32        3  43052381  3.848737e-20\n",
       "33        3  52395280  3.390298e-20\n",
       "34        3  45499814  3.344669e-20"
      ]
     },
     "execution_count": 88,
     "metadata": {},
     "output_type": "execute_result"
    }
   ],
   "source": [
    "candidates_to_rank = als_recommendations_inference[als_recommendations_inference.user_id.isin(events_test_2.user_id.drop_duplicates())]\n",
    "candidates_to_rank.head(5)"
   ]
  },
  {
   "cell_type": "code",
   "execution_count": 89,
   "id": "5d7b071e-4b5f-4ce5-b45a-ab473d1655aa",
   "metadata": {},
   "outputs": [
    {
     "data": {
      "text/html": [
       "<div>\n",
       "<style scoped>\n",
       "    .dataframe tbody tr th:only-of-type {\n",
       "        vertical-align: middle;\n",
       "    }\n",
       "\n",
       "    .dataframe tbody tr th {\n",
       "        vertical-align: top;\n",
       "    }\n",
       "\n",
       "    .dataframe thead th {\n",
       "        text-align: right;\n",
       "    }\n",
       "</style>\n",
       "<table border=\"1\" class=\"dataframe\">\n",
       "  <thead>\n",
       "    <tr style=\"text-align: right;\">\n",
       "      <th></th>\n",
       "      <th>user_id</th>\n",
       "      <th>track_id</th>\n",
       "      <th>score</th>\n",
       "      <th>genre</th>\n",
       "    </tr>\n",
       "  </thead>\n",
       "  <tbody>\n",
       "    <tr>\n",
       "      <th>0</th>\n",
       "      <td>3</td>\n",
       "      <td>44484514</td>\n",
       "      <td>4.183806e-20</td>\n",
       "      <td>dance</td>\n",
       "    </tr>\n",
       "    <tr>\n",
       "      <th>1</th>\n",
       "      <td>3</td>\n",
       "      <td>50834580</td>\n",
       "      <td>4.008750e-20</td>\n",
       "      <td>rusrap</td>\n",
       "    </tr>\n",
       "    <tr>\n",
       "      <th>2</th>\n",
       "      <td>3</td>\n",
       "      <td>43052381</td>\n",
       "      <td>3.848737e-20</td>\n",
       "      <td>pop</td>\n",
       "    </tr>\n",
       "    <tr>\n",
       "      <th>3</th>\n",
       "      <td>3</td>\n",
       "      <td>52395280</td>\n",
       "      <td>3.390298e-20</td>\n",
       "      <td>electronics</td>\n",
       "    </tr>\n",
       "    <tr>\n",
       "      <th>4</th>\n",
       "      <td>3</td>\n",
       "      <td>45499814</td>\n",
       "      <td>3.344669e-20</td>\n",
       "      <td>pop</td>\n",
       "    </tr>\n",
       "  </tbody>\n",
       "</table>\n",
       "</div>"
      ],
      "text/plain": [
       "   user_id  track_id         score        genre\n",
       "0        3  44484514  4.183806e-20        dance\n",
       "1        3  50834580  4.008750e-20       rusrap\n",
       "2        3  43052381  3.848737e-20          pop\n",
       "3        3  52395280  3.390298e-20  electronics\n",
       "4        3  45499814  3.344669e-20          pop"
      ]
     },
     "execution_count": 89,
     "metadata": {},
     "output_type": "execute_result"
    }
   ],
   "source": [
    "# Добавим жанр\n",
    "candidates_to_rank = candidates_to_rank.merge(\n",
    "    items[[\"track_id\", \"genre\"]],\n",
    "    on=\"track_id\",\n",
    "    how=\"left\"\n",
    ")\n",
    "candidates_to_rank.head()"
   ]
  },
  {
   "cell_type": "code",
   "execution_count": 90,
   "id": "6c0c1c18-8630-4060-a5d6-9b0eee4ee8b2",
   "metadata": {},
   "outputs": [
    {
     "data": {
      "text/html": [
       "<div>\n",
       "<style scoped>\n",
       "    .dataframe tbody tr th:only-of-type {\n",
       "        vertical-align: middle;\n",
       "    }\n",
       "\n",
       "    .dataframe tbody tr th {\n",
       "        vertical-align: top;\n",
       "    }\n",
       "\n",
       "    .dataframe thead th {\n",
       "        text-align: right;\n",
       "    }\n",
       "</style>\n",
       "<table border=\"1\" class=\"dataframe\">\n",
       "  <thead>\n",
       "    <tr style=\"text-align: right;\">\n",
       "      <th></th>\n",
       "      <th>user_id</th>\n",
       "      <th>track_id</th>\n",
       "      <th>score</th>\n",
       "      <th>genre</th>\n",
       "      <th>genre_share</th>\n",
       "    </tr>\n",
       "  </thead>\n",
       "  <tbody>\n",
       "    <tr>\n",
       "      <th>0</th>\n",
       "      <td>3</td>\n",
       "      <td>44484514</td>\n",
       "      <td>4.183806e-20</td>\n",
       "      <td>dance</td>\n",
       "      <td>0.066165</td>\n",
       "    </tr>\n",
       "    <tr>\n",
       "      <th>1</th>\n",
       "      <td>3</td>\n",
       "      <td>50834580</td>\n",
       "      <td>4.008750e-20</td>\n",
       "      <td>rusrap</td>\n",
       "      <td>0.110061</td>\n",
       "    </tr>\n",
       "    <tr>\n",
       "      <th>2</th>\n",
       "      <td>3</td>\n",
       "      <td>43052381</td>\n",
       "      <td>3.848737e-20</td>\n",
       "      <td>pop</td>\n",
       "      <td>0.244306</td>\n",
       "    </tr>\n",
       "    <tr>\n",
       "      <th>3</th>\n",
       "      <td>3</td>\n",
       "      <td>52395280</td>\n",
       "      <td>3.390298e-20</td>\n",
       "      <td>electronics</td>\n",
       "      <td>0.084170</td>\n",
       "    </tr>\n",
       "    <tr>\n",
       "      <th>4</th>\n",
       "      <td>3</td>\n",
       "      <td>45499814</td>\n",
       "      <td>3.344669e-20</td>\n",
       "      <td>pop</td>\n",
       "      <td>0.244306</td>\n",
       "    </tr>\n",
       "  </tbody>\n",
       "</table>\n",
       "</div>"
      ],
      "text/plain": [
       "   user_id  track_id         score        genre  genre_share\n",
       "0        3  44484514  4.183806e-20        dance     0.066165\n",
       "1        3  50834580  4.008750e-20       rusrap     0.110061\n",
       "2        3  43052381  3.848737e-20          pop     0.244306\n",
       "3        3  52395280  3.390298e-20  electronics     0.084170\n",
       "4        3  45499814  3.344669e-20          pop     0.244306"
      ]
     },
     "execution_count": 90,
     "metadata": {},
     "output_type": "execute_result"
    }
   ],
   "source": [
    "# Добавим частотность жанра\n",
    "candidates_to_rank = candidates_to_rank.merge(\n",
    "    genre_shares,\n",
    "    on=\"genre\",\n",
    "    how=\"left\"\n",
    ")\n",
    "candidates_to_rank.head()"
   ]
  },
  {
   "cell_type": "code",
   "execution_count": 91,
   "id": "0ebecfa8-6a5e-4e84-b1ac-48ce058c9cd2",
   "metadata": {},
   "outputs": [
    {
     "data": {
      "text/plain": [
       "user_id          0\n",
       "track_id         0\n",
       "score            0\n",
       "genre          362\n",
       "genre_share    362\n",
       "dtype: int64"
      ]
     },
     "execution_count": 91,
     "metadata": {},
     "output_type": "execute_result"
    }
   ],
   "source": [
    "candidates_to_rank.isna().sum()"
   ]
  },
  {
   "cell_type": "code",
   "execution_count": 92,
   "id": "15ecfdc0-6ea9-460f-a3c8-b45c02080136",
   "metadata": {},
   "outputs": [
    {
     "data": {
      "text/html": [
       "<div>\n",
       "<style scoped>\n",
       "    .dataframe tbody tr th:only-of-type {\n",
       "        vertical-align: middle;\n",
       "    }\n",
       "\n",
       "    .dataframe tbody tr th {\n",
       "        vertical-align: top;\n",
       "    }\n",
       "\n",
       "    .dataframe thead th {\n",
       "        text-align: right;\n",
       "    }\n",
       "</style>\n",
       "<table border=\"1\" class=\"dataframe\">\n",
       "  <thead>\n",
       "    <tr style=\"text-align: right;\">\n",
       "      <th></th>\n",
       "      <th>user_id</th>\n",
       "      <th>track_id</th>\n",
       "      <th>als_score</th>\n",
       "      <th>genre</th>\n",
       "      <th>genre_share</th>\n",
       "    </tr>\n",
       "  </thead>\n",
       "  <tbody>\n",
       "    <tr>\n",
       "      <th>0</th>\n",
       "      <td>3</td>\n",
       "      <td>44484514</td>\n",
       "      <td>4.183806e-20</td>\n",
       "      <td>dance</td>\n",
       "      <td>0.066165</td>\n",
       "    </tr>\n",
       "    <tr>\n",
       "      <th>1</th>\n",
       "      <td>3</td>\n",
       "      <td>50834580</td>\n",
       "      <td>4.008750e-20</td>\n",
       "      <td>rusrap</td>\n",
       "      <td>0.110061</td>\n",
       "    </tr>\n",
       "    <tr>\n",
       "      <th>2</th>\n",
       "      <td>3</td>\n",
       "      <td>43052381</td>\n",
       "      <td>3.848737e-20</td>\n",
       "      <td>pop</td>\n",
       "      <td>0.244306</td>\n",
       "    </tr>\n",
       "    <tr>\n",
       "      <th>3</th>\n",
       "      <td>3</td>\n",
       "      <td>52395280</td>\n",
       "      <td>3.390298e-20</td>\n",
       "      <td>electronics</td>\n",
       "      <td>0.084170</td>\n",
       "    </tr>\n",
       "    <tr>\n",
       "      <th>4</th>\n",
       "      <td>3</td>\n",
       "      <td>45499814</td>\n",
       "      <td>3.344669e-20</td>\n",
       "      <td>pop</td>\n",
       "      <td>0.244306</td>\n",
       "    </tr>\n",
       "  </tbody>\n",
       "</table>\n",
       "</div>"
      ],
      "text/plain": [
       "   user_id  track_id     als_score        genre  genre_share\n",
       "0        3  44484514  4.183806e-20        dance     0.066165\n",
       "1        3  50834580  4.008750e-20       rusrap     0.110061\n",
       "2        3  43052381  3.848737e-20          pop     0.244306\n",
       "3        3  52395280  3.390298e-20  electronics     0.084170\n",
       "4        3  45499814  3.344669e-20          pop     0.244306"
      ]
     },
     "execution_count": 92,
     "metadata": {},
     "output_type": "execute_result"
    }
   ],
   "source": [
    "candidates_to_rank = candidates_to_rank.rename(columns={\"score\": \"als_score\"})\n",
    "candidates_to_rank.head(5)"
   ]
  },
  {
   "cell_type": "code",
   "execution_count": 93,
   "id": "2ee6882b-6d23-46d7-aaa9-227830522633",
   "metadata": {},
   "outputs": [
    {
     "name": "stdout",
     "output_type": "stream",
     "text": [
      "<class 'pandas.core.frame.DataFrame'>\n",
      "RangeIndex: 8029310 entries, 0 to 8029309\n",
      "Data columns (total 5 columns):\n",
      " #   Column       Dtype  \n",
      "---  ------       -----  \n",
      " 0   user_id      int32  \n",
      " 1   track_id     int32  \n",
      " 2   als_score    float64\n",
      " 3   genre        object \n",
      " 4   genre_share  float64\n",
      "dtypes: float64(2), int32(2), object(1)\n",
      "memory usage: 245.0+ MB\n"
     ]
    }
   ],
   "source": [
    "candidates_to_rank.info()"
   ]
  },
  {
   "cell_type": "code",
   "execution_count": 94,
   "id": "2f7083b7-bc10-4332-bf7b-408677521e40",
   "metadata": {},
   "outputs": [],
   "source": [
    "candidates_to_rank_personal = candidates_to_rank.copy()\n",
    "candidates_to_rank_final = candidates_to_rank.copy()\n",
    "\n",
    "del candidates_to_rank"
   ]
  },
  {
   "cell_type": "markdown",
   "id": "47bcf88d-b236-46f0-a6f3-38ddd64895fe",
   "metadata": {
    "pycharm": {
     "name": "#%% md\n"
    }
   },
   "source": [
    "# Ранжирование рекомендаций"
   ]
  },
  {
   "cell_type": "markdown",
   "id": "e8cd8223-3418-4493-8c87-1f76286ebda0",
   "metadata": {
    "pycharm": {
     "name": "#%% md\n"
    }
   },
   "source": [
    "Построим ранжирующую модель, чтобы сделать рекомендации более точными. Отранжируем рекомендации."
   ]
  },
  {
   "cell_type": "markdown",
   "id": "ec5e3093-dcd2-4e33-899e-dad4ed63431d",
   "metadata": {
    "pycharm": {
     "name": "#%%\n"
    }
   },
   "source": [
    "- genre - категориальная фича / не забыть пометить в catboost\n",
    "- Есть дисбаланс классов поэтому включим auto_class_weights"
   ]
  },
  {
   "cell_type": "code",
   "execution_count": 99,
   "id": "be4440a2-cc83-4dd7-8858-ce757dc8804e",
   "metadata": {},
   "outputs": [
    {
     "name": "stdout",
     "output_type": "stream",
     "text": [
      "<class 'pandas.core.frame.DataFrame'>\n",
      "RangeIndex: 153536 entries, 0 to 153535\n",
      "Data columns (total 6 columns):\n",
      " #   Column       Non-Null Count   Dtype  \n",
      "---  ------       --------------   -----  \n",
      " 0   user_id      153536 non-null  int32  \n",
      " 1   track_id     153536 non-null  int32  \n",
      " 2   als_score    153536 non-null  float64\n",
      " 3   target       153536 non-null  int64  \n",
      " 4   genre        153532 non-null  object \n",
      " 5   genre_share  153532 non-null  float64\n",
      "dtypes: float64(2), int32(2), int64(1), object(1)\n",
      "memory usage: 5.9+ MB\n"
     ]
    }
   ],
   "source": [
    "candidates_for_train.info()"
   ]
  },
  {
   "cell_type": "code",
   "execution_count": 102,
   "id": "fa958f1a-55d3-4ff4-ae92-336c070b6974",
   "metadata": {},
   "outputs": [
    {
     "data": {
      "text/plain": [
       "58"
      ]
     },
     "execution_count": 102,
     "metadata": {},
     "output_type": "execute_result"
    }
   ],
   "source": [
    "len(candidates_for_train['genre'].value_counts(dropna=False))"
   ]
  },
  {
   "cell_type": "code",
   "execution_count": 104,
   "id": "ca5e8b63-0d9b-4320-9c00-2fd6fd2cde50",
   "metadata": {},
   "outputs": [
    {
     "name": "stdout",
     "output_type": "stream",
     "text": [
      "als_score      0\n",
      "genre          4\n",
      "genre_share    4\n",
      "dtype: int64\n"
     ]
    }
   ],
   "source": [
    "print(candidates_for_train[features].isnull().sum())"
   ]
  },
  {
   "cell_type": "code",
   "execution_count": 114,
   "id": "1ffd0ada-a923-4421-9212-ad414b50e5aa",
   "metadata": {},
   "outputs": [],
   "source": [
    "candidates_for_train.loc[candidates_for_train['genre'].isnull(), 'genre'] = '-1'"
   ]
  },
  {
   "cell_type": "code",
   "execution_count": 115,
   "id": "3ee5aa05-067f-4514-9987-ce9e1d7181f0",
   "metadata": {},
   "outputs": [],
   "source": [
    "candidates_for_train.loc[candidates_for_train['genre_share'].isnull(), 'genre_share'] = 0"
   ]
  },
  {
   "cell_type": "code",
   "execution_count": 116,
   "id": "6dbe4db4-1ac5-44da-a13c-8e7f9768ab73",
   "metadata": {
    "pycharm": {
     "name": "#%%\n"
    }
   },
   "outputs": [
    {
     "name": "stdout",
     "output_type": "stream",
     "text": [
      "0:\tlearn: 0.6862299\ttotal: 70.8ms\tremaining: 1m 10s\n",
      "100:\tlearn: 0.6292666\ttotal: 727ms\tremaining: 6.47s\n",
      "200:\tlearn: 0.6254913\ttotal: 1.36s\tremaining: 5.42s\n",
      "300:\tlearn: 0.6236533\ttotal: 2.23s\tremaining: 5.17s\n",
      "400:\tlearn: 0.6226531\ttotal: 3s\tremaining: 4.48s\n",
      "500:\tlearn: 0.6219803\ttotal: 3.67s\tremaining: 3.65s\n",
      "600:\tlearn: 0.6215479\ttotal: 4.37s\tremaining: 2.9s\n",
      "700:\tlearn: 0.6211524\ttotal: 5.33s\tremaining: 2.27s\n",
      "800:\tlearn: 0.6208294\ttotal: 6.31s\tremaining: 1.57s\n",
      "900:\tlearn: 0.6204826\ttotal: 7.09s\tremaining: 779ms\n",
      "999:\tlearn: 0.6201937\ttotal: 8.16s\tremaining: 0us\n"
     ]
    },
    {
     "data": {
      "text/plain": [
       "<catboost.core.CatBoostClassifier at 0x346f7fa90>"
      ]
     },
     "execution_count": 116,
     "metadata": {},
     "output_type": "execute_result"
    }
   ],
   "source": [
    "features = [\"als_score\", \"genre\", \"genre_share\"]\n",
    "cat_features = [\"genre\"]\n",
    "target = [\"target\"]\n",
    "\n",
    "train_data = Pool(\n",
    "    data=candidates_for_train[features],\n",
    "    label=candidates_for_train[target],\n",
    "    cat_features=cat_features,\n",
    ")\n",
    "\n",
    "catboost_params = {\n",
    "    \"iterations\": 1000,\n",
    "    \"learning_rate\": 0.05,\n",
    "    \"depth\": 3,\n",
    "    \"verbose\": 100,\n",
    "    \"loss_function\": \"Logloss\",\n",
    "    \"one_hot_max_size\": 100,\n",
    "    \"auto_class_weights\": \"Balanced\",\n",
    "    \"random_seed\": 42,\n",
    "}\n",
    "model = CatBoostClassifier(**catboost_params)\n",
    "\n",
    "# Launching training\n",
    "model.fit(train_data)"
   ]
  },
  {
   "cell_type": "code",
   "execution_count": 117,
   "id": "1cc06413-fc1f-4ef7-a47a-eec97cffe1a2",
   "metadata": {},
   "outputs": [],
   "source": [
    "# Теперь займемся ранжированием"
   ]
  },
  {
   "cell_type": "code",
   "execution_count": 121,
   "id": "1f4383d2-a8da-4d8c-b1ef-55e8bf0bb7fa",
   "metadata": {},
   "outputs": [],
   "source": [
    "candidates_to_rank_personal.loc[candidates_to_rank_personal['genre'].isnull(), 'genre'] = '-1'\n",
    "candidates_to_rank_personal.loc[candidates_to_rank_personal['genre_share'].isnull(), 'genre_share'] = 0"
   ]
  },
  {
   "cell_type": "code",
   "execution_count": 122,
   "id": "e41d61c7-19d5-488e-aa2c-7421bcfdcf61",
   "metadata": {},
   "outputs": [],
   "source": [
    "inf_data = Pool(data=candidates_to_rank_personal[features], cat_features=cat_features)\n",
    "predictions = model.predict_proba(inf_data)\n",
    "candidates_to_rank_personal[\"cb_score\"] = predictions[:, 1]\n",
    "\n",
    "candidates_to_rank_personal = candidates_to_rank_personal.sort_values(\n",
    "    by=[\"user_id\", \"cb_score\"], ascending=[True, False]\n",
    ")\n",
    "\n",
    "candidates_to_rank_personal[\"rank\"] = candidates_to_rank_personal.groupby(\"user_id\").cumcount() + 1"
   ]
  },
  {
   "cell_type": "code",
   "execution_count": 123,
   "id": "53925f90-456f-44ed-b0a0-707054fe6add",
   "metadata": {},
   "outputs": [
    {
     "data": {
      "text/html": [
       "<div>\n",
       "<style scoped>\n",
       "    .dataframe tbody tr th:only-of-type {\n",
       "        vertical-align: middle;\n",
       "    }\n",
       "\n",
       "    .dataframe tbody tr th {\n",
       "        vertical-align: top;\n",
       "    }\n",
       "\n",
       "    .dataframe thead th {\n",
       "        text-align: right;\n",
       "    }\n",
       "</style>\n",
       "<table border=\"1\" class=\"dataframe\">\n",
       "  <thead>\n",
       "    <tr style=\"text-align: right;\">\n",
       "      <th></th>\n",
       "      <th>user_id</th>\n",
       "      <th>track_id</th>\n",
       "      <th>als_score</th>\n",
       "      <th>genre</th>\n",
       "      <th>genre_share</th>\n",
       "      <th>cb_score</th>\n",
       "      <th>rank</th>\n",
       "    </tr>\n",
       "  </thead>\n",
       "  <tbody>\n",
       "    <tr>\n",
       "      <th>0</th>\n",
       "      <td>3</td>\n",
       "      <td>44484514</td>\n",
       "      <td>4.183806e-20</td>\n",
       "      <td>dance</td>\n",
       "      <td>0.066165</td>\n",
       "      <td>0.611719</td>\n",
       "      <td>1</td>\n",
       "    </tr>\n",
       "    <tr>\n",
       "      <th>7</th>\n",
       "      <td>3</td>\n",
       "      <td>79071657</td>\n",
       "      <td>2.698131e-20</td>\n",
       "      <td>pop</td>\n",
       "      <td>0.244306</td>\n",
       "      <td>0.584200</td>\n",
       "      <td>2</td>\n",
       "    </tr>\n",
       "    <tr>\n",
       "      <th>4</th>\n",
       "      <td>3</td>\n",
       "      <td>45499814</td>\n",
       "      <td>3.344669e-20</td>\n",
       "      <td>pop</td>\n",
       "      <td>0.244306</td>\n",
       "      <td>0.579356</td>\n",
       "      <td>3</td>\n",
       "    </tr>\n",
       "    <tr>\n",
       "      <th>2</th>\n",
       "      <td>3</td>\n",
       "      <td>43052381</td>\n",
       "      <td>3.848737e-20</td>\n",
       "      <td>pop</td>\n",
       "      <td>0.244306</td>\n",
       "      <td>0.577060</td>\n",
       "      <td>4</td>\n",
       "    </tr>\n",
       "    <tr>\n",
       "      <th>1</th>\n",
       "      <td>3</td>\n",
       "      <td>50834580</td>\n",
       "      <td>4.008750e-20</td>\n",
       "      <td>rusrap</td>\n",
       "      <td>0.110061</td>\n",
       "      <td>0.532658</td>\n",
       "      <td>5</td>\n",
       "    </tr>\n",
       "  </tbody>\n",
       "</table>\n",
       "</div>"
      ],
      "text/plain": [
       "   user_id  track_id     als_score   genre  genre_share  cb_score  rank\n",
       "0        3  44484514  4.183806e-20   dance     0.066165  0.611719     1\n",
       "7        3  79071657  2.698131e-20     pop     0.244306  0.584200     2\n",
       "4        3  45499814  3.344669e-20     pop     0.244306  0.579356     3\n",
       "2        3  43052381  3.848737e-20     pop     0.244306  0.577060     4\n",
       "1        3  50834580  4.008750e-20  rusrap     0.110061  0.532658     5"
      ]
     },
     "execution_count": 123,
     "metadata": {},
     "output_type": "execute_result"
    }
   ],
   "source": [
    "candidates_to_rank_personal.head()"
   ]
  },
  {
   "cell_type": "code",
   "execution_count": 124,
   "id": "c2fac767-3ac7-4e4b-b302-1f7adf5c32f5",
   "metadata": {},
   "outputs": [],
   "source": [
    "# посмотрим на важность фичей"
   ]
  },
  {
   "cell_type": "code",
   "execution_count": 125,
   "id": "541300b3-499f-434c-8684-3e13ae3ae4f7",
   "metadata": {},
   "outputs": [
    {
     "data": {
      "text/plain": [
       "genre_share     8.712224\n",
       "genre          16.555462\n",
       "als_score      74.732314\n",
       "Name: features_importance, dtype: float64"
      ]
     },
     "execution_count": 125,
     "metadata": {},
     "output_type": "execute_result"
    }
   ],
   "source": [
    "pd.Series(\n",
    "     model.feature_importances_,\n",
    "    index=features,\n",
    "    name=\"features_importance\",\n",
    ").sort_values()"
   ]
  },
  {
   "cell_type": "code",
   "execution_count": null,
   "id": "246331de-c6db-4fec-bb06-a28dc9b2459c",
   "metadata": {},
   "outputs": [],
   "source": [
    "# Добавим еще в качестве фичи кол-во прослушиваний"
   ]
  },
  {
   "cell_type": "code",
   "execution_count": 126,
   "id": "1ac94a20-1855-46c8-829a-6222e1dddf5b",
   "metadata": {},
   "outputs": [
    {
     "data": {
      "text/html": [
       "<div>\n",
       "<style scoped>\n",
       "    .dataframe tbody tr th:only-of-type {\n",
       "        vertical-align: middle;\n",
       "    }\n",
       "\n",
       "    .dataframe tbody tr th {\n",
       "        vertical-align: top;\n",
       "    }\n",
       "\n",
       "    .dataframe thead th {\n",
       "        text-align: right;\n",
       "    }\n",
       "</style>\n",
       "<table border=\"1\" class=\"dataframe\">\n",
       "  <thead>\n",
       "    <tr style=\"text-align: right;\">\n",
       "      <th></th>\n",
       "      <th>track_id</th>\n",
       "      <th>track</th>\n",
       "      <th>artist</th>\n",
       "      <th>count</th>\n",
       "    </tr>\n",
       "  </thead>\n",
       "  <tbody>\n",
       "    <tr>\n",
       "      <th>0</th>\n",
       "      <td>53404</td>\n",
       "      <td>Smells Like Teen Spirit</td>\n",
       "      <td>Nirvana</td>\n",
       "      <td>107608</td>\n",
       "    </tr>\n",
       "    <tr>\n",
       "      <th>1</th>\n",
       "      <td>178529</td>\n",
       "      <td>Numb</td>\n",
       "      <td>Linkin Park</td>\n",
       "      <td>98444</td>\n",
       "    </tr>\n",
       "    <tr>\n",
       "      <th>2</th>\n",
       "      <td>33311009</td>\n",
       "      <td>Believer</td>\n",
       "      <td>Imagine Dragons</td>\n",
       "      <td>93384</td>\n",
       "    </tr>\n",
       "    <tr>\n",
       "      <th>3</th>\n",
       "      <td>35505245</td>\n",
       "      <td>I Got Love</td>\n",
       "      <td>Miyagi &amp; Эндшпиль</td>\n",
       "      <td>89879</td>\n",
       "    </tr>\n",
       "    <tr>\n",
       "      <th>4</th>\n",
       "      <td>795836</td>\n",
       "      <td>Shape Of My Heart</td>\n",
       "      <td>Sting</td>\n",
       "      <td>81219</td>\n",
       "    </tr>\n",
       "    <tr>\n",
       "      <th>...</th>\n",
       "      <td>...</td>\n",
       "      <td>...</td>\n",
       "      <td>...</td>\n",
       "      <td>...</td>\n",
       "    </tr>\n",
       "    <tr>\n",
       "      <th>997655</th>\n",
       "      <td>90649866</td>\n",
       "      <td>The Crying God</td>\n",
       "      <td>Yasuharu Takanashi</td>\n",
       "      <td>1</td>\n",
       "    </tr>\n",
       "    <tr>\n",
       "      <th>997656</th>\n",
       "      <td>78584269</td>\n",
       "      <td>Memiram</td>\n",
       "      <td>Yorqinxo'ja Umarov</td>\n",
       "      <td>1</td>\n",
       "    </tr>\n",
       "    <tr>\n",
       "      <th>997657</th>\n",
       "      <td>65936792</td>\n",
       "      <td>За туманом</td>\n",
       "      <td>Юрий Кукин</td>\n",
       "      <td>1</td>\n",
       "    </tr>\n",
       "    <tr>\n",
       "      <th>997658</th>\n",
       "      <td>92437375</td>\n",
       "      <td>Paradigms</td>\n",
       "      <td>Sam Fender</td>\n",
       "      <td>1</td>\n",
       "    </tr>\n",
       "    <tr>\n",
       "      <th>997659</th>\n",
       "      <td>95692682</td>\n",
       "      <td>My Eternal Soul</td>\n",
       "      <td>Simon Khorolskiy</td>\n",
       "      <td>1</td>\n",
       "    </tr>\n",
       "  </tbody>\n",
       "</table>\n",
       "<p>997660 rows × 4 columns</p>\n",
       "</div>"
      ],
      "text/plain": [
       "        track_id                    track              artist   count\n",
       "0          53404  Smells Like Teen Spirit             Nirvana  107608\n",
       "1         178529                     Numb         Linkin Park   98444\n",
       "2       33311009                 Believer     Imagine Dragons   93384\n",
       "3       35505245               I Got Love   Miyagi & Эндшпиль   89879\n",
       "4         795836        Shape Of My Heart               Sting   81219\n",
       "...          ...                      ...                 ...     ...\n",
       "997655  90649866           The Crying God  Yasuharu Takanashi       1\n",
       "997656  78584269                  Memiram  Yorqinxo'ja Umarov       1\n",
       "997657  65936792               За туманом          Юрий Кукин       1\n",
       "997658  92437375                Paradigms          Sam Fender       1\n",
       "997659  95692682          My Eternal Soul    Simon Khorolskiy       1\n",
       "\n",
       "[997660 rows x 4 columns]"
      ]
     },
     "execution_count": 126,
     "metadata": {},
     "output_type": "execute_result"
    }
   ],
   "source": [
    "popular_songs = events_train.track_id \\\n",
    "            .value_counts() \\\n",
    "            .reset_index() \\\n",
    "            .merge(\n",
    "                items[[\"track_id\", \"track\", \"artist\"]],\n",
    "                on=\"track_id\",\n",
    "                how=\"left\",\n",
    "            )[[\"track_id\", \"track\", \"artist\", \"count\"]]\n",
    "popular_songs"
   ]
  },
  {
   "cell_type": "code",
   "execution_count": 127,
   "id": "e789fe49-875d-45e5-a47f-e436b081f7e2",
   "metadata": {},
   "outputs": [
    {
     "data": {
      "text/html": [
       "<div>\n",
       "<style scoped>\n",
       "    .dataframe tbody tr th:only-of-type {\n",
       "        vertical-align: middle;\n",
       "    }\n",
       "\n",
       "    .dataframe tbody tr th {\n",
       "        vertical-align: top;\n",
       "    }\n",
       "\n",
       "    .dataframe thead th {\n",
       "        text-align: right;\n",
       "    }\n",
       "</style>\n",
       "<table border=\"1\" class=\"dataframe\">\n",
       "  <thead>\n",
       "    <tr style=\"text-align: right;\">\n",
       "      <th></th>\n",
       "      <th>user_id</th>\n",
       "      <th>track_id</th>\n",
       "      <th>als_score</th>\n",
       "      <th>target</th>\n",
       "      <th>genre</th>\n",
       "      <th>genre_share</th>\n",
       "      <th>count</th>\n",
       "    </tr>\n",
       "  </thead>\n",
       "  <tbody>\n",
       "    <tr>\n",
       "      <th>0</th>\n",
       "      <td>42</td>\n",
       "      <td>29569939</td>\n",
       "      <td>5.563875e-20</td>\n",
       "      <td>1</td>\n",
       "      <td>dance</td>\n",
       "      <td>0.066165</td>\n",
       "      <td>61560</td>\n",
       "    </tr>\n",
       "    <tr>\n",
       "      <th>1</th>\n",
       "      <td>76</td>\n",
       "      <td>6705392</td>\n",
       "      <td>1.748076e-13</td>\n",
       "      <td>1</td>\n",
       "      <td>alternative</td>\n",
       "      <td>0.046200</td>\n",
       "      <td>77330</td>\n",
       "    </tr>\n",
       "    <tr>\n",
       "      <th>2</th>\n",
       "      <td>135</td>\n",
       "      <td>56204557</td>\n",
       "      <td>6.409600e-20</td>\n",
       "      <td>1</td>\n",
       "      <td>pop</td>\n",
       "      <td>0.244306</td>\n",
       "      <td>56231</td>\n",
       "    </tr>\n",
       "    <tr>\n",
       "      <th>3</th>\n",
       "      <td>138</td>\n",
       "      <td>81848875</td>\n",
       "      <td>1.033923e-20</td>\n",
       "      <td>1</td>\n",
       "      <td>pop</td>\n",
       "      <td>0.244306</td>\n",
       "      <td>38509</td>\n",
       "    </tr>\n",
       "    <tr>\n",
       "      <th>4</th>\n",
       "      <td>143</td>\n",
       "      <td>52395280</td>\n",
       "      <td>1.487064e-13</td>\n",
       "      <td>1</td>\n",
       "      <td>electronics</td>\n",
       "      <td>0.084170</td>\n",
       "      <td>36376</td>\n",
       "    </tr>\n",
       "  </tbody>\n",
       "</table>\n",
       "</div>"
      ],
      "text/plain": [
       "   user_id  track_id     als_score  target        genre  genre_share  count\n",
       "0       42  29569939  5.563875e-20       1        dance     0.066165  61560\n",
       "1       76   6705392  1.748076e-13       1  alternative     0.046200  77330\n",
       "2      135  56204557  6.409600e-20       1          pop     0.244306  56231\n",
       "3      138  81848875  1.033923e-20       1          pop     0.244306  38509\n",
       "4      143  52395280  1.487064e-13       1  electronics     0.084170  36376"
      ]
     },
     "execution_count": 127,
     "metadata": {},
     "output_type": "execute_result"
    }
   ],
   "source": [
    "candidates_for_train = candidates_for_train.merge(\n",
    "    popular_songs[[\"track_id\", \"count\"]],\n",
    "    on=\"track_id\",\n",
    "    how=\"left\",\n",
    ")\n",
    "candidates_for_train.head()"
   ]
  },
  {
   "cell_type": "code",
   "execution_count": 128,
   "id": "41310448-3ad6-4e87-a123-2fe88269db8d",
   "metadata": {},
   "outputs": [
    {
     "data": {
      "text/html": [
       "<div>\n",
       "<style scoped>\n",
       "    .dataframe tbody tr th:only-of-type {\n",
       "        vertical-align: middle;\n",
       "    }\n",
       "\n",
       "    .dataframe tbody tr th {\n",
       "        vertical-align: top;\n",
       "    }\n",
       "\n",
       "    .dataframe thead th {\n",
       "        text-align: right;\n",
       "    }\n",
       "</style>\n",
       "<table border=\"1\" class=\"dataframe\">\n",
       "  <thead>\n",
       "    <tr style=\"text-align: right;\">\n",
       "      <th></th>\n",
       "      <th>user_id</th>\n",
       "      <th>track_id</th>\n",
       "      <th>als_score</th>\n",
       "      <th>genre</th>\n",
       "      <th>genre_share</th>\n",
       "      <th>count</th>\n",
       "    </tr>\n",
       "  </thead>\n",
       "  <tbody>\n",
       "    <tr>\n",
       "      <th>0</th>\n",
       "      <td>3</td>\n",
       "      <td>44484514</td>\n",
       "      <td>4.183806e-20</td>\n",
       "      <td>dance</td>\n",
       "      <td>0.066165</td>\n",
       "      <td>29981.0</td>\n",
       "    </tr>\n",
       "    <tr>\n",
       "      <th>1</th>\n",
       "      <td>3</td>\n",
       "      <td>50834580</td>\n",
       "      <td>4.008750e-20</td>\n",
       "      <td>rusrap</td>\n",
       "      <td>0.110061</td>\n",
       "      <td>49097.0</td>\n",
       "    </tr>\n",
       "    <tr>\n",
       "      <th>2</th>\n",
       "      <td>3</td>\n",
       "      <td>43052381</td>\n",
       "      <td>3.848737e-20</td>\n",
       "      <td>pop</td>\n",
       "      <td>0.244306</td>\n",
       "      <td>45358.0</td>\n",
       "    </tr>\n",
       "    <tr>\n",
       "      <th>3</th>\n",
       "      <td>3</td>\n",
       "      <td>52395280</td>\n",
       "      <td>3.390298e-20</td>\n",
       "      <td>electronics</td>\n",
       "      <td>0.084170</td>\n",
       "      <td>36376.0</td>\n",
       "    </tr>\n",
       "    <tr>\n",
       "      <th>4</th>\n",
       "      <td>3</td>\n",
       "      <td>45499814</td>\n",
       "      <td>3.344669e-20</td>\n",
       "      <td>pop</td>\n",
       "      <td>0.244306</td>\n",
       "      <td>70799.0</td>\n",
       "    </tr>\n",
       "  </tbody>\n",
       "</table>\n",
       "</div>"
      ],
      "text/plain": [
       "   user_id  track_id     als_score        genre  genre_share    count\n",
       "0        3  44484514  4.183806e-20        dance     0.066165  29981.0\n",
       "1        3  50834580  4.008750e-20       rusrap     0.110061  49097.0\n",
       "2        3  43052381  3.848737e-20          pop     0.244306  45358.0\n",
       "3        3  52395280  3.390298e-20  electronics     0.084170  36376.0\n",
       "4        3  45499814  3.344669e-20          pop     0.244306  70799.0"
      ]
     },
     "execution_count": 128,
     "metadata": {},
     "output_type": "execute_result"
    }
   ],
   "source": [
    "candidates_to_rank_final = candidates_to_rank_final.merge(\n",
    "    popular_songs[[\"track_id\", \"count\"]],\n",
    "    on=\"track_id\",\n",
    "    how=\"left\",\n",
    ")\n",
    "candidates_to_rank_final.head()"
   ]
  },
  {
   "cell_type": "code",
   "execution_count": 130,
   "id": "322509fc-9acd-4ef6-b4f0-54023ff6d230",
   "metadata": {},
   "outputs": [],
   "source": [
    "candidates_to_rank_final.loc[candidates_to_rank_final['genre'].isnull(), 'genre'] = '-1'\n",
    "candidates_to_rank_final.loc[candidates_to_rank_final['genre_share'].isnull(), 'genre_share'] = 0\n",
    "candidates_to_rank_final.loc[candidates_to_rank_final['count'].isnull(), 'count'] = 0"
   ]
  },
  {
   "cell_type": "code",
   "execution_count": 131,
   "id": "f89e1080-61a1-4d4a-8dcc-382d587b6308",
   "metadata": {},
   "outputs": [
    {
     "name": "stdout",
     "output_type": "stream",
     "text": [
      "0:\tlearn: 0.6854351\ttotal: 20.7ms\tremaining: 20.7s\n",
      "100:\tlearn: 0.6065923\ttotal: 732ms\tremaining: 6.52s\n",
      "200:\tlearn: 0.5977774\ttotal: 1.39s\tremaining: 5.51s\n",
      "300:\tlearn: 0.5915169\ttotal: 2.06s\tremaining: 4.78s\n",
      "400:\tlearn: 0.5873219\ttotal: 2.74s\tremaining: 4.09s\n",
      "500:\tlearn: 0.5836540\ttotal: 3.41s\tremaining: 3.39s\n",
      "600:\tlearn: 0.5804198\ttotal: 4.1s\tremaining: 2.73s\n",
      "700:\tlearn: 0.5780963\ttotal: 4.81s\tremaining: 2.05s\n",
      "800:\tlearn: 0.5762798\ttotal: 5.51s\tremaining: 1.37s\n",
      "900:\tlearn: 0.5746466\ttotal: 6.84s\tremaining: 752ms\n",
      "999:\tlearn: 0.5733554\ttotal: 7.65s\tremaining: 0us\n"
     ]
    },
    {
     "data": {
      "text/plain": [
       "<catboost.core.CatBoostClassifier at 0x14ecb8400>"
      ]
     },
     "execution_count": 131,
     "metadata": {},
     "output_type": "execute_result"
    }
   ],
   "source": [
    "features.append(\"count\")\n",
    "target = [\"target\"]\n",
    "\n",
    "train_data = Pool(\n",
    "    data=candidates_for_train[features],\n",
    "    label=candidates_for_train[target],\n",
    "    cat_features=cat_features,\n",
    ")\n",
    "\n",
    "model = CatBoostClassifier(**catboost_params)\n",
    "\n",
    "model.fit(train_data)"
   ]
  },
  {
   "cell_type": "code",
   "execution_count": 132,
   "id": "a5ce0252-1179-4115-b2de-1311d8757456",
   "metadata": {},
   "outputs": [],
   "source": [
    "inf_data = Pool(data=candidates_to_rank_final[features], cat_features=cat_features)\n",
    "predictions = model.predict_proba(inf_data)\n",
    "\n",
    "candidates_to_rank_final[\"cb_score\"] = predictions[:, 1]\n",
    "\n",
    "candidates_to_rank_final = candidates_to_rank_final.sort_values(\n",
    "    by=[\"user_id\", \"cb_score\"], ascending=[True, False]\n",
    ")\n",
    "candidates_to_rank_final[\"rank\"] = candidates_to_rank_final.groupby(\"user_id\").cumcount() + 1"
   ]
  },
  {
   "cell_type": "code",
   "execution_count": 133,
   "id": "408b1450-c80e-4af8-b8ed-be0e87efe177",
   "metadata": {},
   "outputs": [
    {
     "data": {
      "text/html": [
       "<div>\n",
       "<style scoped>\n",
       "    .dataframe tbody tr th:only-of-type {\n",
       "        vertical-align: middle;\n",
       "    }\n",
       "\n",
       "    .dataframe tbody tr th {\n",
       "        vertical-align: top;\n",
       "    }\n",
       "\n",
       "    .dataframe thead th {\n",
       "        text-align: right;\n",
       "    }\n",
       "</style>\n",
       "<table border=\"1\" class=\"dataframe\">\n",
       "  <thead>\n",
       "    <tr style=\"text-align: right;\">\n",
       "      <th></th>\n",
       "      <th>user_id</th>\n",
       "      <th>track_id</th>\n",
       "      <th>als_score</th>\n",
       "      <th>genre</th>\n",
       "      <th>genre_share</th>\n",
       "      <th>count</th>\n",
       "      <th>cb_score</th>\n",
       "      <th>rank</th>\n",
       "    </tr>\n",
       "  </thead>\n",
       "  <tbody>\n",
       "    <tr>\n",
       "      <th>7</th>\n",
       "      <td>3</td>\n",
       "      <td>79071657</td>\n",
       "      <td>2.698131e-20</td>\n",
       "      <td>pop</td>\n",
       "      <td>0.244306</td>\n",
       "      <td>23367.0</td>\n",
       "      <td>0.661233</td>\n",
       "      <td>1</td>\n",
       "    </tr>\n",
       "    <tr>\n",
       "      <th>4</th>\n",
       "      <td>3</td>\n",
       "      <td>45499814</td>\n",
       "      <td>3.344669e-20</td>\n",
       "      <td>pop</td>\n",
       "      <td>0.244306</td>\n",
       "      <td>70799.0</td>\n",
       "      <td>0.624887</td>\n",
       "      <td>2</td>\n",
       "    </tr>\n",
       "    <tr>\n",
       "      <th>1</th>\n",
       "      <td>3</td>\n",
       "      <td>50834580</td>\n",
       "      <td>4.008750e-20</td>\n",
       "      <td>rusrap</td>\n",
       "      <td>0.110061</td>\n",
       "      <td>49097.0</td>\n",
       "      <td>0.576087</td>\n",
       "      <td>3</td>\n",
       "    </tr>\n",
       "    <tr>\n",
       "      <th>2</th>\n",
       "      <td>3</td>\n",
       "      <td>43052381</td>\n",
       "      <td>3.848737e-20</td>\n",
       "      <td>pop</td>\n",
       "      <td>0.244306</td>\n",
       "      <td>45358.0</td>\n",
       "      <td>0.539877</td>\n",
       "      <td>4</td>\n",
       "    </tr>\n",
       "    <tr>\n",
       "      <th>0</th>\n",
       "      <td>3</td>\n",
       "      <td>44484514</td>\n",
       "      <td>4.183806e-20</td>\n",
       "      <td>dance</td>\n",
       "      <td>0.066165</td>\n",
       "      <td>29981.0</td>\n",
       "      <td>0.502988</td>\n",
       "      <td>5</td>\n",
       "    </tr>\n",
       "  </tbody>\n",
       "</table>\n",
       "</div>"
      ],
      "text/plain": [
       "   user_id  track_id     als_score   genre  genre_share    count  cb_score  \\\n",
       "7        3  79071657  2.698131e-20     pop     0.244306  23367.0  0.661233   \n",
       "4        3  45499814  3.344669e-20     pop     0.244306  70799.0  0.624887   \n",
       "1        3  50834580  4.008750e-20  rusrap     0.110061  49097.0  0.576087   \n",
       "2        3  43052381  3.848737e-20     pop     0.244306  45358.0  0.539877   \n",
       "0        3  44484514  4.183806e-20   dance     0.066165  29981.0  0.502988   \n",
       "\n",
       "   rank  \n",
       "7     1  \n",
       "4     2  \n",
       "1     3  \n",
       "2     4  \n",
       "0     5  "
      ]
     },
     "execution_count": 133,
     "metadata": {},
     "output_type": "execute_result"
    }
   ],
   "source": [
    "candidates_to_rank_final.head()"
   ]
  },
  {
   "cell_type": "code",
   "execution_count": 134,
   "id": "58b178c7-ed15-40f2-8d47-ea2e02c280f6",
   "metadata": {},
   "outputs": [
    {
     "data": {
      "text/plain": [
       "genre_share     4.486790\n",
       "genre           9.663443\n",
       "als_score      17.119160\n",
       "count          68.730607\n",
       "Name: features_importance, dtype: float64"
      ]
     },
     "execution_count": 134,
     "metadata": {},
     "output_type": "execute_result"
    }
   ],
   "source": [
    "pd.Series(\n",
    "    model.feature_importances_,\n",
    "    index=features,\n",
    "    name=\"features_importance\",\n",
    ").sort_values()"
   ]
  },
  {
   "cell_type": "code",
   "execution_count": 135,
   "id": "a1a036d6-c911-40b4-805b-ee6a2dd5eed6",
   "metadata": {},
   "outputs": [],
   "source": [
    "# Видно что модель пошла по самым прослушиваемым"
   ]
  },
  {
   "cell_type": "code",
   "execution_count": 136,
   "id": "207ad602-af22-4d84-bb7a-ecb1239026e3",
   "metadata": {},
   "outputs": [],
   "source": [
    "# зафиксируем финальные рекомендации"
   ]
  },
  {
   "cell_type": "code",
   "execution_count": 137,
   "id": "5eac4383-889e-4429-96cd-b5b4107da84f",
   "metadata": {},
   "outputs": [],
   "source": [
    "final_recommendations = candidates_to_rank_final.copy()"
   ]
  },
  {
   "cell_type": "code",
   "execution_count": 138,
   "id": "34ef0bdf-5b9a-4e9a-8d46-11c3895dc7dc",
   "metadata": {},
   "outputs": [],
   "source": [
    "del candidates_to_rank_final"
   ]
  },
  {
   "cell_type": "code",
   "execution_count": 139,
   "id": "4c1d2a54-e6c1-4c36-8579-98b8b3e72182",
   "metadata": {},
   "outputs": [],
   "source": [
    "final_recommendations.to_parquet(\"data/recommendations.parquet\")"
   ]
  },
  {
   "cell_type": "markdown",
   "id": "b3c84071-45b5-4a15-a683-e0ab034a3128",
   "metadata": {
    "pycharm": {
     "name": "#%% md\n"
    }
   },
   "source": [
    "# Оценка качества"
   ]
  },
  {
   "cell_type": "markdown",
   "id": "1b107fe4-554e-42b1-87d9-c435a52bb77a",
   "metadata": {
    "pycharm": {
     "name": "#%% md\n"
    }
   },
   "source": [
    "Проверим оценку качества трёх типов рекомендаций: \n",
    "\n",
    "- топ популярных,\n",
    "- персональных, полученных при помощи ALS,\n",
    "- итоговых\n",
    "  \n",
    "по четырем метрикам: recall, precision, coverage, novelty."
   ]
  },
  {
   "cell_type": "markdown",
   "id": "df5d039f-9880-49cf-a185-5fb273865adf",
   "metadata": {
    "pycharm": {
     "name": "#%%\n"
    }
   },
   "source": [
    "#### Топ популярных"
   ]
  },
  {
   "cell_type": "code",
   "execution_count": 140,
   "id": "410234d6-3efe-44f6-9e2f-97e3aba59aa9",
   "metadata": {},
   "outputs": [],
   "source": [
    "# Мы можем вычислить только сколько рекомендаций из самых популярных треков появилось в холодных ивентах пользователя."
   ]
  },
  {
   "cell_type": "code",
   "execution_count": 141,
   "id": "5c1346b8-af9f-4d19-a4dc-856ee454fdb5",
   "metadata": {},
   "outputs": [
    {
     "name": "stdout",
     "output_type": "stream",
     "text": [
      "<class 'pandas.core.frame.DataFrame'>\n",
      "Index: 12728793 entries, 969 to 222395487\n",
      "Data columns (total 5 columns):\n",
      " #   Column           Dtype         \n",
      "---  ------           -----         \n",
      " 0   user_id          int32         \n",
      " 1   track_id         int32         \n",
      " 2   started_at       datetime64[ns]\n",
      " 3   user_id_encoded  int64         \n",
      " 4   track_id_enc     int64         \n",
      "dtypes: datetime64[ns](1), int32(2), int64(2)\n",
      "memory usage: 485.6 MB\n"
     ]
    }
   ],
   "source": [
    "events_cold = events[events.user_id.isin(cold_users)].drop(\"tracks_played\", axis=1)\n",
    "events_cold.info()"
   ]
  },
  {
   "cell_type": "code",
   "execution_count": 142,
   "id": "e02188ce-43a2-4c4f-9d3f-628ab770ccd9",
   "metadata": {},
   "outputs": [
    {
     "data": {
      "text/html": [
       "<div>\n",
       "<style scoped>\n",
       "    .dataframe tbody tr th:only-of-type {\n",
       "        vertical-align: middle;\n",
       "    }\n",
       "\n",
       "    .dataframe tbody tr th {\n",
       "        vertical-align: top;\n",
       "    }\n",
       "\n",
       "    .dataframe thead th {\n",
       "        text-align: right;\n",
       "    }\n",
       "</style>\n",
       "<table border=\"1\" class=\"dataframe\">\n",
       "  <thead>\n",
       "    <tr style=\"text-align: right;\">\n",
       "      <th></th>\n",
       "      <th>user_id</th>\n",
       "      <th>track_id</th>\n",
       "      <th>started_at</th>\n",
       "      <th>user_id_encoded</th>\n",
       "      <th>track_id_enc</th>\n",
       "    </tr>\n",
       "  </thead>\n",
       "  <tbody>\n",
       "    <tr>\n",
       "      <th>969</th>\n",
       "      <td>15</td>\n",
       "      <td>137670</td>\n",
       "      <td>2022-12-15</td>\n",
       "      <td>15</td>\n",
       "      <td>23039</td>\n",
       "    </tr>\n",
       "    <tr>\n",
       "      <th>970</th>\n",
       "      <td>15</td>\n",
       "      <td>2215098</td>\n",
       "      <td>2022-12-15</td>\n",
       "      <td>15</td>\n",
       "      <td>124525</td>\n",
       "    </tr>\n",
       "    <tr>\n",
       "      <th>971</th>\n",
       "      <td>15</td>\n",
       "      <td>4427340</td>\n",
       "      <td>2022-12-15</td>\n",
       "      <td>15</td>\n",
       "      <td>169203</td>\n",
       "    </tr>\n",
       "    <tr>\n",
       "      <th>972</th>\n",
       "      <td>15</td>\n",
       "      <td>9563114</td>\n",
       "      <td>2022-12-15</td>\n",
       "      <td>15</td>\n",
       "      <td>214617</td>\n",
       "    </tr>\n",
       "    <tr>\n",
       "      <th>973</th>\n",
       "      <td>15</td>\n",
       "      <td>14303236</td>\n",
       "      <td>2022-12-15</td>\n",
       "      <td>15</td>\n",
       "      <td>238686</td>\n",
       "    </tr>\n",
       "  </tbody>\n",
       "</table>\n",
       "</div>"
      ],
      "text/plain": [
       "     user_id  track_id started_at  user_id_encoded  track_id_enc\n",
       "969       15    137670 2022-12-15               15         23039\n",
       "970       15   2215098 2022-12-15               15        124525\n",
       "971       15   4427340 2022-12-15               15        169203\n",
       "972       15   9563114 2022-12-15               15        214617\n",
       "973       15  14303236 2022-12-15               15        238686"
      ]
     },
     "execution_count": 142,
     "metadata": {},
     "output_type": "execute_result"
    }
   ],
   "source": [
    "events_cold.head()"
   ]
  },
  {
   "cell_type": "code",
   "execution_count": 144,
   "id": "f48707cb-e6cb-428e-ad97-52b8a1583d27",
   "metadata": {},
   "outputs": [
    {
     "data": {
      "text/html": [
       "<div>\n",
       "<style scoped>\n",
       "    .dataframe tbody tr th:only-of-type {\n",
       "        vertical-align: middle;\n",
       "    }\n",
       "\n",
       "    .dataframe tbody tr th {\n",
       "        vertical-align: top;\n",
       "    }\n",
       "\n",
       "    .dataframe thead th {\n",
       "        text-align: right;\n",
       "    }\n",
       "</style>\n",
       "<table border=\"1\" class=\"dataframe\">\n",
       "  <thead>\n",
       "    <tr style=\"text-align: right;\">\n",
       "      <th></th>\n",
       "      <th>track_id</th>\n",
       "      <th>track</th>\n",
       "      <th>artist</th>\n",
       "      <th>tracks_played</th>\n",
       "      <th>track_id_encoded</th>\n",
       "    </tr>\n",
       "  </thead>\n",
       "  <tbody>\n",
       "    <tr>\n",
       "      <th>0</th>\n",
       "      <td>53404</td>\n",
       "      <td>Smells Like Teen Spirit</td>\n",
       "      <td>Nirvana</td>\n",
       "      <td>107608</td>\n",
       "      <td>9098</td>\n",
       "    </tr>\n",
       "    <tr>\n",
       "      <th>1</th>\n",
       "      <td>178529</td>\n",
       "      <td>Numb</td>\n",
       "      <td>Linkin Park</td>\n",
       "      <td>98444</td>\n",
       "      <td>26665</td>\n",
       "    </tr>\n",
       "    <tr>\n",
       "      <th>2</th>\n",
       "      <td>33311009</td>\n",
       "      <td>Believer</td>\n",
       "      <td>Imagine Dragons</td>\n",
       "      <td>93384</td>\n",
       "      <td>483876</td>\n",
       "    </tr>\n",
       "    <tr>\n",
       "      <th>3</th>\n",
       "      <td>35505245</td>\n",
       "      <td>I Got Love</td>\n",
       "      <td>Miyagi &amp; Эндшпиль</td>\n",
       "      <td>89879</td>\n",
       "      <td>512157</td>\n",
       "    </tr>\n",
       "    <tr>\n",
       "      <th>4</th>\n",
       "      <td>795836</td>\n",
       "      <td>Shape Of My Heart</td>\n",
       "      <td>Sting</td>\n",
       "      <td>81219</td>\n",
       "      <td>90461</td>\n",
       "    </tr>\n",
       "    <tr>\n",
       "      <th>...</th>\n",
       "      <td>...</td>\n",
       "      <td>...</td>\n",
       "      <td>...</td>\n",
       "      <td>...</td>\n",
       "      <td>...</td>\n",
       "    </tr>\n",
       "    <tr>\n",
       "      <th>95</th>\n",
       "      <td>56920237</td>\n",
       "      <td>Beverly Hills</td>\n",
       "      <td>Zivert</td>\n",
       "      <td>42856</td>\n",
       "      <td>749870</td>\n",
       "    </tr>\n",
       "    <tr>\n",
       "      <th>96</th>\n",
       "      <td>69542</td>\n",
       "      <td>Big City Life</td>\n",
       "      <td>Mattafix</td>\n",
       "      <td>42760</td>\n",
       "      <td>11289</td>\n",
       "    </tr>\n",
       "    <tr>\n",
       "      <th>97</th>\n",
       "      <td>14701552</td>\n",
       "      <td>How You Remind Me</td>\n",
       "      <td>Nickelback</td>\n",
       "      <td>42633</td>\n",
       "      <td>244930</td>\n",
       "    </tr>\n",
       "    <tr>\n",
       "      <th>98</th>\n",
       "      <td>32182642</td>\n",
       "      <td>Лирика</td>\n",
       "      <td>Filatov &amp; Karas</td>\n",
       "      <td>42481</td>\n",
       "      <td>461481</td>\n",
       "    </tr>\n",
       "    <tr>\n",
       "      <th>99</th>\n",
       "      <td>78426489</td>\n",
       "      <td>Rampampam</td>\n",
       "      <td>Minelli</td>\n",
       "      <td>42461</td>\n",
       "      <td>917171</td>\n",
       "    </tr>\n",
       "  </tbody>\n",
       "</table>\n",
       "<p>100 rows × 5 columns</p>\n",
       "</div>"
      ],
      "text/plain": [
       "    track_id                    track             artist  tracks_played  \\\n",
       "0      53404  Smells Like Teen Spirit            Nirvana         107608   \n",
       "1     178529                     Numb        Linkin Park          98444   \n",
       "2   33311009                 Believer    Imagine Dragons          93384   \n",
       "3   35505245               I Got Love  Miyagi & Эндшпиль          89879   \n",
       "4     795836        Shape Of My Heart              Sting          81219   \n",
       "..       ...                      ...                ...            ...   \n",
       "95  56920237            Beverly Hills             Zivert          42856   \n",
       "96     69542            Big City Life           Mattafix          42760   \n",
       "97  14701552        How You Remind Me         Nickelback          42633   \n",
       "98  32182642                   Лирика    Filatov & Karas          42481   \n",
       "99  78426489                Rampampam            Minelli          42461   \n",
       "\n",
       "    track_id_encoded  \n",
       "0               9098  \n",
       "1              26665  \n",
       "2             483876  \n",
       "3             512157  \n",
       "4              90461  \n",
       "..               ...  \n",
       "95            749870  \n",
       "96             11289  \n",
       "97            244930  \n",
       "98            461481  \n",
       "99            917171  \n",
       "\n",
       "[100 rows x 5 columns]"
      ]
     },
     "execution_count": 144,
     "metadata": {},
     "output_type": "execute_result"
    }
   ],
   "source": [
    "top_100_popular"
   ]
  },
  {
   "cell_type": "code",
   "execution_count": 145,
   "id": "b59a26ce-5f86-4705-8975-26740c5d050f",
   "metadata": {},
   "outputs": [
    {
     "data": {
      "text/html": [
       "<div>\n",
       "<style scoped>\n",
       "    .dataframe tbody tr th:only-of-type {\n",
       "        vertical-align: middle;\n",
       "    }\n",
       "\n",
       "    .dataframe tbody tr th {\n",
       "        vertical-align: top;\n",
       "    }\n",
       "\n",
       "    .dataframe thead th {\n",
       "        text-align: right;\n",
       "    }\n",
       "</style>\n",
       "<table border=\"1\" class=\"dataframe\">\n",
       "  <thead>\n",
       "    <tr style=\"text-align: right;\">\n",
       "      <th></th>\n",
       "      <th>user_id</th>\n",
       "      <th>track_id</th>\n",
       "      <th>started_at</th>\n",
       "      <th>user_id_encoded</th>\n",
       "      <th>track_id_enc</th>\n",
       "      <th>tracks_played</th>\n",
       "    </tr>\n",
       "  </thead>\n",
       "  <tbody>\n",
       "    <tr>\n",
       "      <th>0</th>\n",
       "      <td>15</td>\n",
       "      <td>137670</td>\n",
       "      <td>2022-12-15</td>\n",
       "      <td>15</td>\n",
       "      <td>23039</td>\n",
       "      <td>61264.0</td>\n",
       "    </tr>\n",
       "    <tr>\n",
       "      <th>1</th>\n",
       "      <td>15</td>\n",
       "      <td>2215098</td>\n",
       "      <td>2022-12-15</td>\n",
       "      <td>15</td>\n",
       "      <td>124525</td>\n",
       "      <td>NaN</td>\n",
       "    </tr>\n",
       "    <tr>\n",
       "      <th>2</th>\n",
       "      <td>15</td>\n",
       "      <td>4427340</td>\n",
       "      <td>2022-12-15</td>\n",
       "      <td>15</td>\n",
       "      <td>169203</td>\n",
       "      <td>NaN</td>\n",
       "    </tr>\n",
       "    <tr>\n",
       "      <th>3</th>\n",
       "      <td>15</td>\n",
       "      <td>9563114</td>\n",
       "      <td>2022-12-15</td>\n",
       "      <td>15</td>\n",
       "      <td>214617</td>\n",
       "      <td>NaN</td>\n",
       "    </tr>\n",
       "    <tr>\n",
       "      <th>4</th>\n",
       "      <td>15</td>\n",
       "      <td>14303236</td>\n",
       "      <td>2022-12-15</td>\n",
       "      <td>15</td>\n",
       "      <td>238686</td>\n",
       "      <td>NaN</td>\n",
       "    </tr>\n",
       "  </tbody>\n",
       "</table>\n",
       "</div>"
      ],
      "text/plain": [
       "   user_id  track_id started_at  user_id_encoded  track_id_enc  tracks_played\n",
       "0       15    137670 2022-12-15               15         23039        61264.0\n",
       "1       15   2215098 2022-12-15               15        124525            NaN\n",
       "2       15   4427340 2022-12-15               15        169203            NaN\n",
       "3       15   9563114 2022-12-15               15        214617            NaN\n",
       "4       15  14303236 2022-12-15               15        238686            NaN"
      ]
     },
     "execution_count": 145,
     "metadata": {},
     "output_type": "execute_result"
    }
   ],
   "source": [
    "events_cold_top = events_cold.merge(\n",
    "    top_100_popular[[\"track_id\", \"tracks_played\"]],\n",
    "    on=\"track_id\",\n",
    "    how=\"left\",\n",
    ")\n",
    "events_cold_top.head()"
   ]
  },
  {
   "cell_type": "code",
   "execution_count": 146,
   "id": "b4b0ac2f-ea8f-4346-a6c3-9d17f98db1e0",
   "metadata": {},
   "outputs": [
    {
     "data": {
      "text/plain": [
       "user_id                   0\n",
       "track_id                  0\n",
       "started_at                0\n",
       "user_id_encoded           0\n",
       "track_id_enc              0\n",
       "tracks_played      12366110\n",
       "dtype: int64"
      ]
     },
     "execution_count": 146,
     "metadata": {},
     "output_type": "execute_result"
    }
   ],
   "source": [
    "events_cold_top.isna().sum()"
   ]
  },
  {
   "cell_type": "code",
   "execution_count": 147,
   "id": "26df411f-14c1-4848-8797-f37afe449cc6",
   "metadata": {
    "pycharm": {
     "name": "#%%\n"
    }
   },
   "outputs": [
    {
     "data": {
      "text/plain": [
       "user_id\n",
       "15         0.071429\n",
       "39         0.040000\n",
       "47         0.040816\n",
       "83         0.034483\n",
       "92         0.000000\n",
       "             ...   \n",
       "1373156    0.009302\n",
       "1373173    0.111111\n",
       "1373185    0.000000\n",
       "1373196    0.025773\n",
       "1373212    0.023256\n",
       "Name: tracks_played, Length: 78169, dtype: float64"
      ]
     },
     "execution_count": 147,
     "metadata": {},
     "output_type": "execute_result"
    }
   ],
   "source": [
    "top_listened_share = events_cold_top \\\n",
    "                            .groupby(\"user_id\")[\"tracks_played\"] \\\n",
    "                            .apply(lambda x: x.notnull().mean())\n",
    "top_listened_share"
   ]
  },
  {
   "cell_type": "code",
   "execution_count": 149,
   "id": "1f20b232-951e-4ea5-ad40-38c9ffbb945d",
   "metadata": {},
   "outputs": [
    {
     "name": "stdout",
     "output_type": "stream",
     "text": [
      "Recall для популярных: 0.04751\n"
     ]
    }
   ],
   "source": [
    "recall = top_listened_share.mean()\n",
    "print(f\"Recall для популярных: {recall:.5f}\")"
   ]
  },
  {
   "cell_type": "markdown",
   "id": "62df0907-7244-4dd2-8e6f-5f1a17c90b2b",
   "metadata": {},
   "source": [
    "#### Персональные рекомендации ALS"
   ]
  },
  {
   "cell_type": "markdown",
   "id": "e6f2dfe2-fde1-4229-a3b4-b48ccc9cc337",
   "metadata": {},
   "source": [
    "##### recall, precision"
   ]
  },
  {
   "cell_type": "code",
   "execution_count": 150,
   "id": "e32f187c-1c2c-459d-b937-02680035b383",
   "metadata": {},
   "outputs": [],
   "source": [
    "def create_helpers_metric_for_events(events_train, events_test, recs, top_k=None):\n",
    "    \"\"\"\n",
    "    Готовим \n",
    "        gt (действительные значения),\n",
    "        pr (результаты предикта),\n",
    "        tp, fp, fn \n",
    "    для построения бинарных метрик\n",
    "    k - используем только топ-к рекомендаций>\n",
    "    \"\"\"\n",
    "    \n",
    "    events_test[\"gt\"] = True\n",
    "    common_users = set(events_test[\"user_id\"]) & set(recs[\"user_id\"])\n",
    "    \n",
    "    events_for_common_users = events_test[events_test[\"user_id\"].isin(common_users)].copy()\n",
    "    recs_for_common_users = recs[recs[\"user_id\"].isin(common_users)].copy()\n",
    "\n",
    "    recs_for_common_users = recs_for_common_users.sort_values([\"user_id\", \"score\"], ascending=[True, False])\n",
    "\n",
    "    events_for_common_users = events_for_common_users[events_for_common_users[\"track_id\"].isin(\n",
    "        events_train[\"track_id\"].unique())]\n",
    "\n",
    "    if top_k is not None:\n",
    "        recs_for_common_users = recs_for_common_users.groupby(\"user_id\").head(top_k)\n",
    "    \n",
    "    events_recs_common = events_for_common_users[[\"user_id\", \"track_id\", \"gt\"]].merge(\n",
    "        recs_for_common_users[[\"user_id\", \"track_id\", \"score\"]], \n",
    "        on=[\"user_id\", \"track_id\"], \n",
    "        how=\"outer\",\n",
    "    )    \n",
    "\n",
    "    events_recs_common[\"gt\"] = events_recs_common[\"gt\"].fillna(False)\n",
    "    events_recs_common[\"pr\"] = ~events_recs_common[\"score\"].isnull()\n",
    "    \n",
    "    events_recs_common[\"tp\"] = events_recs_common[\"gt\"] & events_recs_common[\"pr\"]\n",
    "    events_recs_common[\"fp\"] = ~events_recs_common[\"gt\"] & events_recs_common[\"pr\"]\n",
    "    events_recs_common[\"fn\"] = events_recs_common[\"gt\"] & ~events_recs_common[\"pr\"]\n",
    "\n",
    "    return events_recs_common"
   ]
  },
  {
   "cell_type": "code",
   "execution_count": 165,
   "id": "b71c4e9f-a144-49b3-bcc8-cf990491e894",
   "metadata": {},
   "outputs": [],
   "source": [
    "events_recs_help_metrics = create_helpers_metric_for_events(\n",
    "    inference_data,\n",
    "    events_test_2,\n",
    "    candidates_to_rank_personal.rename(columns={\"cb_score\": \"score\"}),\n",
    "    top_k=5,\n",
    ")"
   ]
  },
  {
   "cell_type": "code",
   "execution_count": 172,
   "id": "0ba9ef33-8f00-4153-9520-59a73d131801",
   "metadata": {},
   "outputs": [],
   "source": [
    "def get_precition_recall(events_recs_help_metrics):\n",
    "    \"\"\"Получить precition и recall\"\"\"\n",
    "    \n",
    "    group_ui = events_recs_help_metrics.groupby(\"user_id\")\n",
    "\n",
    "    precition = group_ui[\"tp\"].sum() / (group_ui[\"tp\"].sum() + group_ui[\"fp\"].sum())\n",
    "    precition = precition.fillna(0).mean()\n",
    "    \n",
    "    recall = group_ui[\"tp\"].sum() / (group_ui[\"tp\"].sum() + group_ui[\"fn\"].sum())\n",
    "    recall = recall.fillna(0).mean()\n",
    "\n",
    "    return precition, recall"
   ]
  },
  {
   "cell_type": "code",
   "execution_count": 173,
   "id": "dcfa2c83-a96d-4510-9573-39b5cd8836c4",
   "metadata": {},
   "outputs": [
    {
     "name": "stdout",
     "output_type": "stream",
     "text": [
      "Precition@5 = 0.00556\n",
      "Recall@5 = 0.00238\n"
     ]
    }
   ],
   "source": [
    "precition_at_5_personal, recall_at_5_personal = get_precition_recall(events_recs_help_metrics)\n",
    "\n",
    "print(f\"Precition@5 = {precition_at_5_personal:.5f}\")\n",
    "print(f\"Recall@5 = {recall_at_5_personal:.5f}\")"
   ]
  },
  {
   "cell_type": "markdown",
   "id": "998ac38e-87b2-4d64-83cc-50ac0a1ded11",
   "metadata": {},
   "source": [
    "##### coverage"
   ]
  },
  {
   "cell_type": "code",
   "execution_count": 174,
   "id": "e372a83f-4c87-4941-9676-a71fa865938a",
   "metadata": {},
   "outputs": [
    {
     "name": "stdout",
     "output_type": "stream",
     "text": [
      "Coverage = 0.015428\n"
     ]
    }
   ],
   "source": [
    "coverage_personal = candidates_to_rank_personal.track_id.nunique() / items.shape[0]\n",
    "print(f\"Coverage = {coverage_personal}\")"
   ]
  },
  {
   "cell_type": "markdown",
   "id": "eb98d9b3-0434-4c5a-a209-64bacce0bd30",
   "metadata": {},
   "source": [
    "##### novelty"
   ]
  },
  {
   "cell_type": "code",
   "execution_count": 176,
   "id": "7cc91584-de9a-4363-831a-57c70e7d7a97",
   "metadata": {},
   "outputs": [],
   "source": [
    "events_train[\"seen\"] = True\n",
    "\n",
    "candidates_to_rank_personal = candidates_to_rank_personal.merge(\n",
    "    events_train, \n",
    "    on=[\"user_id\", \"track_id\"], \n",
    "    how=\"left\"\n",
    ")\n",
    "\n",
    "candidates_to_rank_personal[\"seen\"] = candidates_to_rank_personal[\"seen\"].fillna(False).astype(\"bool\")"
   ]
  },
  {
   "cell_type": "code",
   "execution_count": 177,
   "id": "be6a15c5-6f06-4af4-9626-8f9859035c04",
   "metadata": {},
   "outputs": [],
   "source": [
    "candidates_to_rank_personal = candidates_to_rank_personal.sort_values(by=\"als_score\", ascending=False)\n",
    "candidates_to_rank_personal[\"rank\"] = candidates_to_rank_personal.groupby(\"user_id\").cumcount() + 1"
   ]
  },
  {
   "cell_type": "code",
   "execution_count": 178,
   "id": "98557db8-5ef4-4e38-9d40-332875467a5e",
   "metadata": {},
   "outputs": [
    {
     "name": "stdout",
     "output_type": "stream",
     "text": [
      "Novelty@5 = 0.9544\n"
     ]
    }
   ],
   "source": [
    "novelty_at_5_personal = (1 - candidates_to_rank_personal.query(\"rank <= 5\").groupby(\"user_id\")[\"seen\"].mean())\n",
    "novelty_at_5_personal = novelty_at_5_personal.mean()\n",
    "\n",
    "print(f\"Novelty@5 = {novelty_at_5_personal:.4f}\")"
   ]
  },
  {
   "cell_type": "markdown",
   "id": "5b007ae6-4d1e-41e4-9dd6-ebdf85324d2d",
   "metadata": {},
   "source": [
    "#### Метрики для финальных рекомендаций"
   ]
  },
  {
   "cell_type": "markdown",
   "id": "90c41e73-20e8-4901-ad3c-e3e58b35ead3",
   "metadata": {},
   "source": [
    "##### precition, recall"
   ]
  },
  {
   "cell_type": "code",
   "execution_count": 179,
   "id": "d1dbd29d-ee74-4901-b337-996967c7a266",
   "metadata": {},
   "outputs": [],
   "source": [
    "events_recs_help_metrics = create_helpers_metric_for_events(\n",
    "    inference_data,\n",
    "    events_test_2,\n",
    "    final_recommendations.rename(columns={\"cb_score\": \"score\"}),\n",
    "    top_k=5,\n",
    ")"
   ]
  },
  {
   "cell_type": "code",
   "execution_count": 181,
   "id": "b44314ec-87b5-4fde-ae90-ce594a763acf",
   "metadata": {},
   "outputs": [
    {
     "name": "stdout",
     "output_type": "stream",
     "text": [
      "Precition@5 = 0.00650\n",
      "Recall@5 = 0.00282\n"
     ]
    }
   ],
   "source": [
    "precition_at_5_final, recall_at_5_final = get_precition_recall(events_recs_help_metrics)\n",
    "\n",
    "print(f\"Precition@5 = {precition_at_5_final:.5f}\")\n",
    "print(f\"Recall@5 = {recall_at_5_final:.5f}\")"
   ]
  },
  {
   "cell_type": "markdown",
   "id": "caf47919-6f48-405b-bb6e-64c61054ee82",
   "metadata": {},
   "source": [
    "##### coverage"
   ]
  },
  {
   "cell_type": "code",
   "execution_count": 182,
   "id": "b53d0ccd-a019-4d13-890f-24fcf702a895",
   "metadata": {},
   "outputs": [
    {
     "name": "stdout",
     "output_type": "stream",
     "text": [
      "Coverage = 0.015428\n"
     ]
    }
   ],
   "source": [
    "coverage_final = final_recommendations.track_id.nunique() / items.shape[0]\n",
    "print(f\"Coverage = {coverage_final}\")"
   ]
  },
  {
   "cell_type": "markdown",
   "id": "b8e26bd3-565a-4516-90a0-d1e7f6882916",
   "metadata": {},
   "source": [
    "##### novelity"
   ]
  },
  {
   "cell_type": "code",
   "execution_count": 183,
   "id": "4dea0a24-250b-4a04-955d-3b1cfc564f51",
   "metadata": {},
   "outputs": [],
   "source": [
    "events_train[\"seen\"] = True\n",
    "\n",
    "final_recommendations = final_recommendations.merge(\n",
    "    events_train, \n",
    "    on=[\"user_id\", \"track_id\"], \n",
    "    how=\"left\"\n",
    ")\n",
    "\n",
    "final_recommendations[\"seen\"] = final_recommendations[\"seen\"].fillna(False).astype(\"bool\")\n",
    "\n",
    "final_recommendations = final_recommendations.sort_values(by=\"als_score\", ascending=False)\n",
    "final_recommendations[\"rank\"] = final_recommendations.groupby(\"user_id\").cumcount() + 1"
   ]
  },
  {
   "cell_type": "code",
   "execution_count": 184,
   "id": "2eede48b-e991-4cd7-ab36-e57b227bae74",
   "metadata": {},
   "outputs": [
    {
     "name": "stdout",
     "output_type": "stream",
     "text": [
      "Novelty@5 = 0.9544\n"
     ]
    }
   ],
   "source": [
    "novelty_at_5_final = (1 - final_recommendations.query(\"rank <= 5\").groupby(\"user_id\")[\"seen\"].mean())\n",
    "novelty_at_5_final = novelty_at_5_final.mean()\n",
    "\n",
    "print(f\"Novelty@5 = {novelty_at_5_personal:.4f}\")"
   ]
  },
  {
   "cell_type": "markdown",
   "id": "f1c8d38c-32b0-46a4-96f0-cd01dac708bc",
   "metadata": {
    "pycharm": {
     "name": "#%% md\n"
    }
   },
   "source": [
    "# === Выводы, метрики ==="
   ]
  },
  {
   "cell_type": "markdown",
   "id": "f7d7d5d8-7d1e-4fdf-a6cd-83e5ce92c684",
   "metadata": {
    "pycharm": {
     "name": "#%% md\n"
    }
   },
   "source": [
    "Основные выводы при работе над расчётом рекомендаций, рассчитанные метрики."
   ]
  },
  {
   "cell_type": "code",
   "execution_count": 185,
   "id": "6403097d-db36-46d9-8952-613c9bd51b05",
   "metadata": {
    "pycharm": {
     "name": "#%%\n"
    }
   },
   "outputs": [
    {
     "data": {
      "text/html": [
       "<div>\n",
       "<style scoped>\n",
       "    .dataframe tbody tr th:only-of-type {\n",
       "        vertical-align: middle;\n",
       "    }\n",
       "\n",
       "    .dataframe tbody tr th {\n",
       "        vertical-align: top;\n",
       "    }\n",
       "\n",
       "    .dataframe thead th {\n",
       "        text-align: right;\n",
       "    }\n",
       "</style>\n",
       "<table border=\"1\" class=\"dataframe\">\n",
       "  <thead>\n",
       "    <tr style=\"text-align: right;\">\n",
       "      <th></th>\n",
       "      <th>top_popular</th>\n",
       "      <th>personal_als</th>\n",
       "      <th>final_recs</th>\n",
       "    </tr>\n",
       "  </thead>\n",
       "  <tbody>\n",
       "    <tr>\n",
       "      <th>recall</th>\n",
       "      <td>0.047514</td>\n",
       "      <td>NaN</td>\n",
       "      <td>NaN</td>\n",
       "    </tr>\n",
       "    <tr>\n",
       "      <th>precition_at_5</th>\n",
       "      <td>NaN</td>\n",
       "      <td>0.005558</td>\n",
       "      <td>0.006497</td>\n",
       "    </tr>\n",
       "    <tr>\n",
       "      <th>recall_at_5</th>\n",
       "      <td>NaN</td>\n",
       "      <td>0.002383</td>\n",
       "      <td>0.002825</td>\n",
       "    </tr>\n",
       "    <tr>\n",
       "      <th>coverage</th>\n",
       "      <td>NaN</td>\n",
       "      <td>0.015428</td>\n",
       "      <td>0.015428</td>\n",
       "    </tr>\n",
       "    <tr>\n",
       "      <th>novelty_at_5</th>\n",
       "      <td>NaN</td>\n",
       "      <td>0.954382</td>\n",
       "      <td>0.954382</td>\n",
       "    </tr>\n",
       "  </tbody>\n",
       "</table>\n",
       "</div>"
      ],
      "text/plain": [
       "                top_popular  personal_als  final_recs\n",
       "recall             0.047514           NaN         NaN\n",
       "precition_at_5          NaN      0.005558    0.006497\n",
       "recall_at_5             NaN      0.002383    0.002825\n",
       "coverage                NaN      0.015428    0.015428\n",
       "novelty_at_5            NaN      0.954382    0.954382"
      ]
     },
     "execution_count": 185,
     "metadata": {},
     "output_type": "execute_result"
    }
   ],
   "source": [
    "# Объединим метрики в единую таблицу\n",
    "\n",
    "top_popular_metrics = pd.Series([recall], index=[\"recall\"], name=\"top_popular\")\n",
    "\n",
    "personal_als_metrics = pd.Series(\n",
    "    [\n",
    "        precition_at_5_personal, \n",
    "        recall_at_5_personal, \n",
    "        coverage_personal, \n",
    "        novelty_at_5_personal\n",
    "    ], \n",
    "    index=[\"precition_at_5\", \"recall_at_5\", \"coverage\", \"novelty_at_5\"],\n",
    "    name=\"personal_als\"\n",
    ")\n",
    "\n",
    "final_recs_metrics = pd.Series(\n",
    "    [\n",
    "        precition_at_5_final, \n",
    "        recall_at_5_final, \n",
    "        coverage_final, \n",
    "        novelty_at_5_final\n",
    "    ], \n",
    "    index=[\"precition_at_5\", \"recall_at_5\", \"coverage\", \"novelty_at_5\"],\n",
    "    name=\"final_recs\",\n",
    ")\n",
    "\n",
    "pd.concat([top_popular_metrics, personal_als_metrics, final_recs_metrics], axis=1)"
   ]
  },
  {
   "cell_type": "markdown",
   "id": "44ec9dba-9632-460d-a3cc-c1bd14be9823",
   "metadata": {
    "pycharm": {
     "name": "#%%\n"
    }
   },
   "source": [
    "### Выводы"
   ]
  },
  {
   "cell_type": "markdown",
   "id": "515136ff-7062-422c-8253-1862ec8d5dd8",
   "metadata": {},
   "source": [
    "- Даже имея только спарс матрицы нужно иметь достаточно оперативной памяти, весь конец спринта и итоговое задачние пришлось делать на личном ноутбуке, можно было конечно урезать выборку"
   ]
  },
  {
   "cell_type": "markdown",
   "id": "eff69a6b-4409-4fb6-899f-c6a78d48def5",
   "metadata": {},
   "source": [
    "- Низкий coverage получился из-за того , что мы использовали только 10 рекомендаций."
   ]
  },
  {
   "cell_type": "markdown",
   "id": "21a42fc0-5218-4514-9e94-4da8df3dc12a",
   "metadata": {},
   "source": [
    "- Видно, что при добавлении фичи с количеством прослушиваний подросли метрики precition и recall, это связано с тем что модель начала больше рекомендовать популярных/прослушываемых треков. этот признак стал первым по features importance. Так что даже используя просто популярные треки можно получить неплохое качество."
   ]
  },
  {
   "cell_type": "markdown",
   "id": "1271e523-7daf-421a-b41d-1f5668ef4fde",
   "metadata": {},
   "source": [
    "- Видим, что метрики новизны очень высоки. Те подход выдает новинки в рекомендациях пользователя."
   ]
  },
  {
   "cell_type": "markdown",
   "id": "f65a9d1a-3e72-4af3-861b-39f2506c8d97",
   "metadata": {},
   "source": [
    "# Сохраним файлы в S3"
   ]
  },
  {
   "cell_type": "code",
   "execution_count": 189,
   "id": "eb996cb5-5386-401c-a4e5-6ef052105963",
   "metadata": {},
   "outputs": [],
   "source": [
    "import boto3\n",
    "import os\n",
    "from dotenv import load_dotenv\n",
    "\n",
    "load_dotenv(override=True)\n",
    "\n",
    "def check_creds():\n",
    "    print(os.getenv('S3_URL'))"
   ]
  },
  {
   "cell_type": "code",
   "execution_count": 190,
   "id": "4faa612a-22b6-4d20-9838-d6e2f27d8a3d",
   "metadata": {},
   "outputs": [
    {
     "name": "stdout",
     "output_type": "stream",
     "text": [
      "https://storage.yandexcloud.net\n"
     ]
    }
   ],
   "source": [
    "check_creds()"
   ]
  },
  {
   "cell_type": "code",
   "execution_count": 192,
   "id": "00563371-5b83-4f46-b033-53820d83e1c0",
   "metadata": {},
   "outputs": [],
   "source": [
    "session = boto3.session.Session()\n",
    "\n",
    "s3_client = session.client(\n",
    "    service_name='s3',\n",
    "    aws_access_key_id=os.getenv('AWS_ACCESS_KEY_ID'),\n",
    "    aws_secret_access_key=os.getenv('AWS_SECRET_ACCESS_KEY'),\n",
    "    endpoint_url=os.getenv('S3_URL')\n",
    ")\n"
   ]
  },
  {
   "cell_type": "code",
   "execution_count": 194,
   "id": "8747c147-4dc8-455e-bb1b-ecbb7e5f6119",
   "metadata": {},
   "outputs": [],
   "source": [
    "path = 'recsys/data/'"
   ]
  },
  {
   "cell_type": "code",
   "execution_count": 195,
   "id": "5560a30e-ebf8-4f12-8603-cd67f9327f72",
   "metadata": {},
   "outputs": [],
   "source": [
    "s3_client.upload_file(Bucket=os.getenv('S3_BUCKET_NAME'), Filename='data/top_100_popular.parquet', Key=path + 'top_100_popular.parquet')"
   ]
  },
  {
   "cell_type": "code",
   "execution_count": 196,
   "id": "a8dc7bfd-19ad-4e1c-a92a-cddce1d2c084",
   "metadata": {},
   "outputs": [],
   "source": [
    "s3_client.upload_file(Bucket=os.getenv('S3_BUCKET_NAME'), Filename='data/recommendations.parquet', Key=path + 'recommendations.parquet')"
   ]
  },
  {
   "cell_type": "code",
   "execution_count": 197,
   "id": "e84f6218-61a2-4a36-944c-845781685b05",
   "metadata": {},
   "outputs": [],
   "source": [
    "s3_client.upload_file(Bucket=os.getenv('S3_BUCKET_NAME'), Filename='data/similar.parquet', Key=path + 'similar.parquet')"
   ]
  },
  {
   "cell_type": "code",
   "execution_count": 198,
   "id": "3e7818f7-1758-4d99-899d-3e006edd5557",
   "metadata": {},
   "outputs": [],
   "source": [
    "s3_client.upload_file(Bucket=os.getenv('S3_BUCKET_NAME'), Filename='data/personal_als.parquet', Key=path + 'personal_als.parquet')"
   ]
  },
  {
   "cell_type": "code",
   "execution_count": 199,
   "id": "26a67800-cc71-4d1e-b990-08cf6085ab3b",
   "metadata": {},
   "outputs": [],
   "source": [
    "s3_client.upload_file(Bucket=os.getenv('S3_BUCKET_NAME'), Filename='data/personal_als_inference.parquet', Key=path + 'personal_als_inference.parquet')"
   ]
  },
  {
   "cell_type": "code",
   "execution_count": 200,
   "id": "ddb5159f-2ab1-4c73-83a2-3240c92af6ae",
   "metadata": {},
   "outputs": [
    {
     "data": {
      "text/plain": [
       "{'ResponseMetadata': {'RequestId': 'b7d5267da4965fd4',\n",
       "  'HostId': '',\n",
       "  'HTTPStatusCode': 200,\n",
       "  'HTTPHeaders': {'server': 'nginx',\n",
       "   'date': 'Sun, 06 Jul 2025 13:16:26 GMT',\n",
       "   'content-type': 'application/xml; charset=UTF-8',\n",
       "   'content-length': '2720',\n",
       "   'connection': 'keep-alive',\n",
       "   'keep-alive': 'timeout=60',\n",
       "   'x-amz-request-id': 'b7d5267da4965fd4'},\n",
       "  'RetryAttempts': 0},\n",
       " 'IsTruncated': False,\n",
       " 'Marker': '',\n",
       " 'Contents': [{'Key': 'recsys/data/events.parquet',\n",
       "   'LastModified': datetime.datetime(2025, 7, 6, 5, 48, 2, 314000, tzinfo=tzutc()),\n",
       "   'ETag': '\"6fdb038c0823d5497c27bef71723d4ba-221\"',\n",
       "   'Size': 1853410180,\n",
       "   'StorageClass': 'STANDARD',\n",
       "   'Owner': {'DisplayName': 'ajeq26s98m0ssapaa27m',\n",
       "    'ID': 'ajeq26s98m0ssapaa27m'}},\n",
       "  {'Key': 'recsys/data/items.parquet',\n",
       "   'LastModified': datetime.datetime(2025, 7, 6, 5, 43, 26, 74000, tzinfo=tzutc()),\n",
       "   'ETag': '\"27788f900b38614b7e1214bc251c1b68-5\"',\n",
       "   'Size': 37600409,\n",
       "   'StorageClass': 'STANDARD',\n",
       "   'Owner': {'DisplayName': 'ajeq26s98m0ssapaa27m',\n",
       "    'ID': 'ajeq26s98m0ssapaa27m'}},\n",
       "  {'Key': 'recsys/data/personal_als.parquet',\n",
       "   'LastModified': datetime.datetime(2025, 7, 6, 13, 15, 48, 426000, tzinfo=tzutc()),\n",
       "   'ETag': '\"c4c533c5d043568d0307b22ff78ce70b-14\"',\n",
       "   'Size': 115795226,\n",
       "   'StorageClass': 'STANDARD',\n",
       "   'Owner': {'DisplayName': 'ajeq26s98m0ssapaa27m',\n",
       "    'ID': 'ajeq26s98m0ssapaa27m'}},\n",
       "  {'Key': 'recsys/data/personal_als_inference.parquet',\n",
       "   'LastModified': datetime.datetime(2025, 7, 6, 13, 16, 13, 913000, tzinfo=tzutc()),\n",
       "   'ETag': '\"c196f055964942ced656ca91995b1f60-15\"',\n",
       "   'Size': 118414730,\n",
       "   'StorageClass': 'STANDARD',\n",
       "   'Owner': {'DisplayName': 'ajeq26s98m0ssapaa27m',\n",
       "    'ID': 'ajeq26s98m0ssapaa27m'}},\n",
       "  {'Key': 'recsys/data/recommendations.parquet',\n",
       "   'LastModified': datetime.datetime(2025, 7, 6, 13, 14, 56, 904000, tzinfo=tzutc()),\n",
       "   'ETag': '\"df003756c1607528b1745c9bb58a012a-18\"',\n",
       "   'Size': 143345505,\n",
       "   'StorageClass': 'STANDARD',\n",
       "   'Owner': {'DisplayName': 'ajeq26s98m0ssapaa27m',\n",
       "    'ID': 'ajeq26s98m0ssapaa27m'}},\n",
       "  {'Key': 'recsys/data/similar.parquet',\n",
       "   'LastModified': datetime.datetime(2025, 7, 6, 13, 15, 21, 600000, tzinfo=tzutc()),\n",
       "   'ETag': '\"b4b74341d01b0a7f566bdff4537e95a3-17\"',\n",
       "   'Size': 139965898,\n",
       "   'StorageClass': 'STANDARD',\n",
       "   'Owner': {'DisplayName': 'ajeq26s98m0ssapaa27m',\n",
       "    'ID': 'ajeq26s98m0ssapaa27m'}},\n",
       "  {'Key': 'recsys/data/top_100_popular.parquet',\n",
       "   'LastModified': datetime.datetime(2025, 7, 6, 13, 14, 16, 562000, tzinfo=tzutc()),\n",
       "   'ETag': '\"b9964c2353ebfeb86235ad4f3c0f2d9a\"',\n",
       "   'Size': 9100,\n",
       "   'StorageClass': 'STANDARD',\n",
       "   'Owner': {'DisplayName': 'ajeq26s98m0ssapaa27m',\n",
       "    'ID': 'ajeq26s98m0ssapaa27m'}}],\n",
       " 'Name': 's3-student-mle-20240822-bf0f64ea21',\n",
       " 'Prefix': 'recsys%2Fdata%2F',\n",
       " 'MaxKeys': 1000,\n",
       " 'EncodingType': 'url'}"
      ]
     },
     "execution_count": 200,
     "metadata": {},
     "output_type": "execute_result"
    }
   ],
   "source": [
    "s3_client.list_objects(Bucket=os.getenv('S3_BUCKET_NAME'), Prefix=path)"
   ]
  }
 ],
 "metadata": {
  "kernelspec": {
   "display_name": "Python 3 (ipykernel)",
   "language": "python",
   "name": "python3"
  },
  "language_info": {
   "codemirror_mode": {
    "name": "ipython",
    "version": 3
   },
   "file_extension": ".py",
   "mimetype": "text/x-python",
   "name": "python",
   "nbconvert_exporter": "python",
   "pygments_lexer": "ipython3",
   "version": "3.9.10"
  }
 },
 "nbformat": 4,
 "nbformat_minor": 5
}